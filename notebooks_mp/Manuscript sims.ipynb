{
 "cells": [
  {
   "cell_type": "markdown",
   "metadata": {},
   "source": [
    "# Initialisations"
   ]
  },
  {
   "cell_type": "code",
   "execution_count": 10,
   "metadata": {},
   "outputs": [],
   "source": [
    "import sys  \n",
    "sys.path.insert(0, '../model1')\n",
    "from singleLocusModel import SingleLocusModel\n",
    "from singlelocusmodelextended import SingleLocusModelExt\n",
    "\n",
    "model = SingleLocusModel(k=1)\n",
    "modelext = SingleLocusModelExt(k=1)\n",
    "modelextnodirmut = SingleLocusModelExt(k=0)"
   ]
  },
  {
   "cell_type": "code",
   "execution_count": 2,
   "metadata": {},
   "outputs": [],
   "source": [
    "import numpy as np\n",
    "import matplotlib.pyplot as plt"
   ]
  },
  {
   "cell_type": "code",
   "execution_count": 22,
   "metadata": {},
   "outputs": [],
   "source": [
    "Nm = np.logspace(6, 7, 50, dtype=int)\n",
    "Nml = np.logspace(4, 7, 50, dtype=int)\n",
    "Nm58 = np.logspace(5, 8, 50, dtype=int)\n",
    "δm = np.logspace(-6, -4, 70)\n",
    "δm36 = np.logspace(-6, -3, 70)\n",
    "μm = np.logspace(-9, -7, 70)\n",
    "μm69 = np.logspace(-9, -6, 70)"
   ]
  },
  {
   "cell_type": "code",
   "execution_count": 4,
   "metadata": {},
   "outputs": [],
   "source": [
    "mparams = [6e6,\n",
    " 9.6e-08, 5.4e-04,\n",
    "1.021, 1.025, 1.028]\n",
    "np.savetxt('mparams',mparams)\n",
    "mfitness=[1.021, 1.025, 1.028]"
   ]
  },
  {
   "cell_type": "markdown",
   "metadata": {},
   "source": [
    "## baseline simulations"
   ]
  },
  {
   "cell_type": "markdown",
   "metadata": {},
   "source": [
    "### no aneuploidy"
   ]
  },
  {
   "cell_type": "code",
   "execution_count": 5,
   "metadata": {},
   "outputs": [],
   "source": [
    "msim_noaneuN=[modelext.run_simulations_time(N,\n",
    " 9.6e-8,\n",
    " 0,\n",
    " 0,\n",
    " *mfitness, repetitions=500, max_gen=5*10**6,seed=15) for N in Nm]"
   ]
  },
  {
   "cell_type": "code",
   "execution_count": 6,
   "metadata": {
    "scrolled": false
   },
   "outputs": [
    {
     "name": "stderr",
     "output_type": "stream",
     "text": [
      "C:\\Users\\aboas\\anaconda3\\lib\\site-packages\\numpy\\core\\_asarray.py:136: VisibleDeprecationWarning: Creating an ndarray from ragged nested sequences (which is a list-or-tuple of lists-or-tuples-or ndarrays with different lengths or shapes) is deprecated. If you meant to do this, you must specify 'dtype=object' when creating the ndarray\n",
      "  return array(a, dtype, copy=False, order=order, subok=True)\n"
     ]
    }
   ],
   "source": [
    "np.save('msim_noaneuN',(Nm,np.array((np.array(msim_noaneuN)[:,0],np.array(msim_noaneuN)[:,1]),dtype=np.int64)))"
   ]
  },
  {
   "cell_type": "code",
   "execution_count": 5,
   "metadata": {},
   "outputs": [],
   "source": [
    "msim_noaneuN_manu=[modelext.run_simulations_time(N,\n",
    " 9.6e-8,\n",
    " 0,\n",
    " 0,\n",
    " *mfitness, repetitions=50000, max_gen=5*10**6,seed=15) for N in Nm]"
   ]
  },
  {
   "cell_type": "code",
   "execution_count": 6,
   "metadata": {
    "scrolled": true
   },
   "outputs": [
    {
     "name": "stderr",
     "output_type": "stream",
     "text": [
      "C:\\Users\\aboas\\anaconda3\\lib\\site-packages\\numpy\\core\\_asarray.py:136: VisibleDeprecationWarning: Creating an ndarray from ragged nested sequences (which is a list-or-tuple of lists-or-tuples-or ndarrays with different lengths or shapes) is deprecated. If you meant to do this, you must specify 'dtype=object' when creating the ndarray\n",
      "  return array(a, dtype, copy=False, order=order, subok=True)\n"
     ]
    }
   ],
   "source": [
    "np.save('msim_noaneuN_manu',(Nm,np.array((np.array(msim_noaneuN_manu)[:,0],np.array(msim_noaneuN_manu)[:,1]),dtype=np.int64)))"
   ]
  },
  {
   "cell_type": "code",
   "execution_count": 11,
   "metadata": {},
   "outputs": [],
   "source": [
    "msim_noaneuN_manu58=[modelext.run_simulations_time(N,\n",
    " 9.6e-8,\n",
    " 0,\n",
    " 0,\n",
    " *mfitness, repetitions=5000, max_gen=5*10**6,seed=15) for N in Nm58]"
   ]
  },
  {
   "cell_type": "code",
   "execution_count": 13,
   "metadata": {},
   "outputs": [],
   "source": [
    "np.save('msim_noaneuN_manu58',(Nm58,np.array((np.array(msim_noaneuN_manu58)[:,0],np.array(msim_noaneuN_manu58)[:,1]),dtype=np.int64)))"
   ]
  },
  {
   "cell_type": "code",
   "execution_count": 28,
   "metadata": {},
   "outputs": [],
   "source": [
    "msim_noaneuN_l=[modelext.run_simulations_time(N,\n",
    " 9.6e-8,\n",
    " 0,\n",
    " 0,\n",
    " *mfitness, repetitions=500, max_gen=5*10**6,seed=15) for N in Nml]"
   ]
  },
  {
   "cell_type": "code",
   "execution_count": 29,
   "metadata": {},
   "outputs": [],
   "source": [
    "np.save('msim_noaneuN_l',(Nml,np.array((np.array(msim_noaneuN_l)[:,0],np.array(msim_noaneuN_l)[:,1]),dtype=np.int64)))"
   ]
  },
  {
   "cell_type": "code",
   "execution_count": 7,
   "metadata": {},
   "outputs": [],
   "source": [
    "msim_noaneuN2=[modelext.run_simulations_time(N,\n",
    " 9.6e-8,\n",
    " 0,\n",
    " 0,\n",
    " *mfitness, repetitions=500, max_gen=5*10**6,seed=15,clonal_intf=False) for N in Nm]"
   ]
  },
  {
   "cell_type": "code",
   "execution_count": 8,
   "metadata": {},
   "outputs": [],
   "source": [
    "np.save('msim_noaneuN2',(Nm,np.array((np.array(msim_noaneuN2)[:,0],np.array(msim_noaneuN2)[:,1]),dtype=np.int64)))"
   ]
  },
  {
   "cell_type": "code",
   "execution_count": 9,
   "metadata": {},
   "outputs": [],
   "source": [
    "msim_noaneuN3=[modelext.run_simulations_time(N,\n",
    " 5e-9,\n",
    " 0,\n",
    " 0,\n",
    " *mfitness, repetitions=500, max_gen=5*10**6,seed=15) for N in Nm]"
   ]
  },
  {
   "cell_type": "code",
   "execution_count": 10,
   "metadata": {},
   "outputs": [],
   "source": [
    "np.save('msim_noaneuN3',(Nm,np.array((np.array(msim_noaneuN3)[:,0],np.array(msim_noaneuN3)[:,1]),dtype=np.int64)))"
   ]
  },
  {
   "cell_type": "code",
   "execution_count": 15,
   "metadata": {},
   "outputs": [],
   "source": [
    "msim_noaneuN4=[modelext.run_simulations_time(N,\n",
    " 5e-9,\n",
    " 0,\n",
    " 0,\n",
    " *mfitness, repetitions=500, max_gen=5*10**6,seed=15,clonal_intf=False) for N in Nm]"
   ]
  },
  {
   "cell_type": "code",
   "execution_count": 16,
   "metadata": {},
   "outputs": [],
   "source": [
    "np.save('msim_noaneuN4',(Nm,np.array((np.array(msim_noaneuN4)[:,0],np.array(msim_noaneuN4)[:,1]),dtype=np.int64)))"
   ]
  },
  {
   "cell_type": "code",
   "execution_count": 26,
   "metadata": {},
   "outputs": [],
   "source": [
    "msim_noaneuN5=[modelext.run_simulations_time_fixT(N,\n",
    " 5e-9,\n",
    " 0,\n",
    " 0,\n",
    " *mfitness, repetitions=500, max_gen=5*10**6,seed=15,clonal_intf=False) for N in Nm]"
   ]
  },
  {
   "cell_type": "code",
   "execution_count": 27,
   "metadata": {},
   "outputs": [],
   "source": [
    "np.save('msim_noaneuN5',(Nm,np.array((np.array(msim_noaneuN5)[:,0],np.array(msim_noaneuN5)[:,1],np.array(msim_noaneuN5)[:,2]),dtype=np.int64)))"
   ]
  },
  {
   "cell_type": "code",
   "execution_count": 11,
   "metadata": {},
   "outputs": [],
   "source": [
    "msim_noaneuμ=[modelext.run_simulations_time(6e6,\n",
    " μ,\n",
    " 0,\n",
    " 0,\n",
    " *mfitness, repetitions=500,max_gen=5*10**6) for μ in μm]"
   ]
  },
  {
   "cell_type": "code",
   "execution_count": 12,
   "metadata": {},
   "outputs": [],
   "source": [
    "np.save('msim_noaneuμ',(μm,np.array((np.array(msim_noaneuμ)[:,0],np.array(msim_noaneuμ)[:,1]), dtype=np.int64)))"
   ]
  },
  {
   "cell_type": "code",
   "execution_count": 7,
   "metadata": {},
   "outputs": [],
   "source": [
    "msim_noaneuμ_manu=[modelext.run_simulations_time(6e6,\n",
    " μ,\n",
    " 0,\n",
    " 0,\n",
    " *mfitness, repetitions=5000,max_gen=5*10**6) for μ in μm]"
   ]
  },
  {
   "cell_type": "code",
   "execution_count": 8,
   "metadata": {},
   "outputs": [],
   "source": [
    "np.save('msim_noaneuμ_manu',(μm,np.array((np.array(msim_noaneuμ_manu)[:,0],np.array(msim_noaneuμ_manu)[:,1]), dtype=np.int64)))"
   ]
  },
  {
   "cell_type": "code",
   "execution_count": null,
   "metadata": {},
   "outputs": [],
   "source": []
  },
  {
   "cell_type": "code",
   "execution_count": 13,
   "metadata": {},
   "outputs": [],
   "source": [
    "msim_noaneuμ2=[modelext.run_simulations_time(6e6,\n",
    " μ,\n",
    " 0,\n",
    " 0,\n",
    " *mfitness, repetitions=500,max_gen=5*10**6,seed=15,clonal_intf=False) for μ in μm]"
   ]
  },
  {
   "cell_type": "code",
   "execution_count": 14,
   "metadata": {},
   "outputs": [],
   "source": [
    "np.save('msim_noaneuμ2',(μm,np.array((np.array(msim_noaneuμ2)[:,0],np.array(msim_noaneuμ2)[:,1]), dtype=np.int64)))"
   ]
  },
  {
   "cell_type": "markdown",
   "metadata": {},
   "source": [
    "### no direct mutations"
   ]
  },
  {
   "cell_type": "code",
   "execution_count": 15,
   "metadata": {},
   "outputs": [],
   "source": [
    "msim_nodirmutN_manu58=[modelextnodirmut.run_simulations_time(N,\n",
    " 9.6e-8,\n",
    " 5.4e-4,5.4e-4,\n",
    " *mfitness, repetitions=500, max_gen=5*10**6,seed=1) for N in Nm58]"
   ]
  },
  {
   "cell_type": "code",
   "execution_count": 16,
   "metadata": {},
   "outputs": [],
   "source": [
    "np.save('msim_nodirmutN_manu58',(Nm58,np.array(msim_nodirmutN_manu58, dtype=object).T))"
   ]
  },
  {
   "cell_type": "code",
   "execution_count": 40,
   "metadata": {},
   "outputs": [],
   "source": [
    "msim_nodirmutmu=[modelextnodirmut.run_simulations_time(6e6,\n",
    " μ,\n",
    " 5.4e-4,5.4e-4,\n",
    " *mfitness, repetitions=500, max_gen=5*10**6,seed=1) for μ in μm]"
   ]
  },
  {
   "cell_type": "code",
   "execution_count": 41,
   "metadata": {},
   "outputs": [],
   "source": [
    "msim_nodirmutmus13=[modelextnodirmut.run_simulations_time(6e6,\n",
    " μ,\n",
    " 5.4e-4,5.4e-4,\n",
    " *mfitness, repetitions=100, max_gen=5*10**6,seed=13) for μ in μm]"
   ]
  },
  {
   "cell_type": "code",
   "execution_count": 42,
   "metadata": {},
   "outputs": [],
   "source": [
    "np.save('msim_nodirmutmu',(μm,np.array(msim_nodirmutmu, dtype=object).T))"
   ]
  },
  {
   "cell_type": "code",
   "execution_count": 43,
   "metadata": {},
   "outputs": [
    {
     "data": {
      "text/plain": [
       "(2615.498, 2532.42)"
      ]
     },
     "execution_count": 43,
     "metadata": {},
     "output_type": "execute_result"
    }
   ],
   "source": [
    "np.mean(msim_nodirmutmu[-2][0]),np.mean(msim_nodirmutmus13[-2][0])"
   ]
  },
  {
   "cell_type": "code",
   "execution_count": 44,
   "metadata": {},
   "outputs": [],
   "source": [
    "msim_nodirmutde=[modelextnodirmut.run_simulations_time(6e6,\n",
    " 9.6e-8,\n",
    " δ,δ,\n",
    " *mfitness, repetitions=500, max_gen=5*10**6,seed=1) for δ in δm36]"
   ]
  },
  {
   "cell_type": "code",
   "execution_count": 45,
   "metadata": {},
   "outputs": [],
   "source": [
    "msim_nodirmutdes13=[modelextnodirmut.run_simulations_time(6e6,\n",
    " 9.6e-8,\n",
    " δ,δ,\n",
    " *mfitness, repetitions=500, max_gen=5*10**6,seed=13) for δ in δm36]"
   ]
  },
  {
   "cell_type": "code",
   "execution_count": 46,
   "metadata": {},
   "outputs": [],
   "source": [
    "np.save('msim_nodirmutde',(δm36,np.array(msim_nodirmutde, dtype=object).T))"
   ]
  },
  {
   "cell_type": "code",
   "execution_count": 47,
   "metadata": {},
   "outputs": [
    {
     "data": {
      "text/plain": [
       "(2597.93, 2601.242)"
      ]
     },
     "execution_count": 47,
     "metadata": {},
     "output_type": "execute_result"
    }
   ],
   "source": [
    "np.mean(msim_nodirmutdes13[-7][0]),np.mean(msim_nodirmutde[-7][0])"
   ]
  },
  {
   "cell_type": "code",
   "execution_count": 39,
   "metadata": {},
   "outputs": [
    {
     "data": {
      "text/plain": [
       "(5963623, 9.354368899026163e-08, 0.0005484416576121015)"
      ]
     },
     "execution_count": 39,
     "metadata": {},
     "output_type": "execute_result"
    }
   ],
   "source": [
    "Nm58[29], μm[-2], δm36[-7]"
   ]
  },
  {
   "cell_type": "markdown",
   "metadata": {},
   "source": [
    "### no (reducing) clonal interference"
   ]
  },
  {
   "cell_type": "code",
   "execution_count": 24,
   "metadata": {},
   "outputs": [],
   "source": [
    "msim_nocloN=[modelext.run_simulations_time(N, 9.6e-8, 5.4e-04, 5.4e-04,\n",
    " *mfitness, repetitions=500, max_gen=5*10**6,seed=1,clonal_intf=False) for N in Nm]"
   ]
  },
  {
   "cell_type": "code",
   "execution_count": 25,
   "metadata": {
    "scrolled": true
   },
   "outputs": [],
   "source": [
    "np.save('msim_nocloN',(Nm,np.array(msim_nocloN, dtype=object).T))"
   ]
  },
  {
   "cell_type": "code",
   "execution_count": 6,
   "metadata": {},
   "outputs": [],
   "source": [
    "msim_nocloN_long=[modelext.run_simulations_time(N, 9.6e-8, 5.4e-04, 5.4e-04,\n",
    " *mfitness, repetitions=50, max_gen=5*10**6,seed=1,clonal_intf=False) for N in Nml]"
   ]
  },
  {
   "cell_type": "code",
   "execution_count": 8,
   "metadata": {},
   "outputs": [],
   "source": [
    "np.save('msim_nocloN_long',(Nml,np.array(msim_nocloN_long, dtype=object).T))"
   ]
  },
  {
   "cell_type": "code",
   "execution_count": 26,
   "metadata": {},
   "outputs": [],
   "source": [
    "msim_nocloμ=[modelext.run_simulations_time(6e6, μ, 5.4e-04, 5.4e-04,\n",
    " *mfitness, repetitions=500, max_gen=5*10**6,seed=1,clonal_intf=False) for μ in μm]"
   ]
  },
  {
   "cell_type": "code",
   "execution_count": 27,
   "metadata": {
    "scrolled": true
   },
   "outputs": [],
   "source": [
    "np.save('msim_nocloμ',(μm,np.array(msim_nocloμ, dtype=object).T))"
   ]
  },
  {
   "cell_type": "code",
   "execution_count": 28,
   "metadata": {},
   "outputs": [],
   "source": [
    "msim_nocloδ=[modelext.run_simulations_time(6e6, 9.6e-8, δ, δ,\n",
    " *mfitness, repetitions=500, max_gen=5*10**6,seed=1,clonal_intf=False) for δ in δm]"
   ]
  },
  {
   "cell_type": "code",
   "execution_count": 29,
   "metadata": {
    "scrolled": true
   },
   "outputs": [],
   "source": [
    "np.save('msim_nocloδ',(δm,np.array(msim_nocloδ, dtype=object).T))"
   ]
  },
  {
   "cell_type": "markdown",
   "metadata": {},
   "source": [
    "# Full simulations"
   ]
  },
  {
   "cell_type": "code",
   "execution_count": 9,
   "metadata": {},
   "outputs": [],
   "source": [
    "msim_N=[modelext.run_simulations_time(N, 9.6e-8, 5.4e-04, 5.4e-04,\n",
    " *mfitness, repetitions=100, max_gen=5*10**6,seed=1) for N in Nm]"
   ]
  },
  {
   "cell_type": "code",
   "execution_count": 10,
   "metadata": {},
   "outputs": [],
   "source": [
    "np.save('msim_N',(Nm,np.array(msim_N, dtype=object).T))"
   ]
  },
  {
   "cell_type": "code",
   "execution_count": 11,
   "metadata": {},
   "outputs": [],
   "source": [
    "msim_N_2=[modelext.run_simulations_time(N, 9.6e-8, 5.4e-04, 5.4e-04,\n",
    " *mfitness, repetitions=200, max_gen=5*10**6,seed=2) for N in Nm]"
   ]
  },
  {
   "cell_type": "code",
   "execution_count": 12,
   "metadata": {},
   "outputs": [],
   "source": [
    "np.save('msim_N_2',(Nm,np.array(msim_N_2, dtype=object).T))"
   ]
  },
  {
   "cell_type": "code",
   "execution_count": null,
   "metadata": {},
   "outputs": [],
   "source": [
    "msim_N_long=[modelext.run_simulations_time(N, 9.6e-8, 5.4e-04, 5.4e-04,\n",
    " *mfitness, repetitions=100, max_gen=5*10**6,seed=1) for N in Nml]"
   ]
  },
  {
   "cell_type": "code",
   "execution_count": null,
   "metadata": {},
   "outputs": [],
   "source": [
    "np.save('msim_N_long',(Nml,np.array(msim_N_long, dtype=object).T))"
   ]
  },
  {
   "cell_type": "code",
   "execution_count": 6,
   "metadata": {},
   "outputs": [],
   "source": [
    "msim_N_58=[modelext.run_simulations_time(N, 9.6e-8, 5.4e-04, 5.4e-04,\n",
    " *mfitness, repetitions=100, max_gen=5*10**6,seed=1) for N in Nm58]"
   ]
  },
  {
   "cell_type": "code",
   "execution_count": 7,
   "metadata": {},
   "outputs": [
    {
     "name": "stderr",
     "output_type": "stream",
     "text": [
      "C:\\Users\\aboas\\anaconda3\\lib\\site-packages\\numpy\\core\\_asarray.py:136: VisibleDeprecationWarning: Creating an ndarray from ragged nested sequences (which is a list-or-tuple of lists-or-tuples-or ndarrays with different lengths or shapes) is deprecated. If you meant to do this, you must specify 'dtype=object' when creating the ndarray\n",
      "  return array(a, dtype, copy=False, order=order, subok=True)\n"
     ]
    }
   ],
   "source": [
    "np.save('msim_N_58',(Nm58,np.array(msim_N_58, dtype=object).T))"
   ]
  },
  {
   "cell_type": "code",
   "execution_count": 7,
   "metadata": {},
   "outputs": [],
   "source": [
    "msim_N_58_0=[modelext.run_simulations_time(N, 1e-8, 5.4e-04, 5.4e-04,\n",
    " *mfitness, repetitions=100, max_gen=5*10**6,seed=1) for N in Nm58]"
   ]
  },
  {
   "cell_type": "code",
   "execution_count": 8,
   "metadata": {},
   "outputs": [],
   "source": [
    "np.save('msim_N_58_0',(Nm58,np.array(msim_N_58_0, dtype=object).T))"
   ]
  },
  {
   "cell_type": "code",
   "execution_count": null,
   "metadata": {},
   "outputs": [],
   "source": [
    "msim_mu=[modelext.run_simulations_time(6e6, μ, 5.4e-04, 5.4e-04,\n",
    " *mfitness, repetitions=300, max_gen=5*10**6,seed=1) for μ in μm]"
   ]
  },
  {
   "cell_type": "code",
   "execution_count": null,
   "metadata": {},
   "outputs": [],
   "source": [
    "np.save('msim_mu',(μm,np.array(msim_mu, dtype=object).T))"
   ]
  },
  {
   "cell_type": "code",
   "execution_count": null,
   "metadata": {},
   "outputs": [],
   "source": []
  }
 ],
 "metadata": {
  "kernelspec": {
   "display_name": "Python 3",
   "language": "python",
   "name": "python3"
  },
  "language_info": {
   "codemirror_mode": {
    "name": "ipython",
    "version": 3
   },
   "file_extension": ".py",
   "mimetype": "text/x-python",
   "name": "python",
   "nbconvert_exporter": "python",
   "pygments_lexer": "ipython3",
   "version": "3.8.5"
  }
 },
 "nbformat": 4,
 "nbformat_minor": 4
}
