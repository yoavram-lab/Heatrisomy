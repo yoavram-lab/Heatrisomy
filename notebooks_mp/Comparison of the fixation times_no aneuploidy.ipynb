{
 "cells": [
  {
   "cell_type": "code",
   "execution_count": 2,
   "metadata": {},
   "outputs": [],
   "source": [
    "%matplotlib inline\n",
    "import matplotlib.pyplot as plt\n",
    "import numpy as np\n",
    "import mpmath as mp\n",
    "import scipy.special as sc\n",
    "from functools import partial\n",
    "from scipy.integrate import quad\n",
    "import sympy as smp"
   ]
  },
  {
   "cell_type": "code",
   "execution_count": 3,
   "metadata": {},
   "outputs": [],
   "source": [
    "def τ(w_i, w_j, x, y):\n",
    "    \"\"\"j invades i, starting at freq y and reaching freq x\n",
    "    \"\"\"\n",
    "    return np.log((x * (1-y)) / ((1-x) * y)) / np.log(w_j / w_i)\n",
    "\n",
    "\n",
    "def T(N, μ1, μ2, δ, w_euwt, w_anwt, w_anmt, w_eumt, x_0=0, PLOT_N=False, PLOT_δ=False ):\n",
    "    assert w_euwt < w_anwt < w_anmt < w_eumt\n",
    "    p_euwt_eumt = 1 - (1 - 2*((w_eumt - w_euwt) / w_euwt) * μ1)**N\n",
    "    p_euwt_anwt = 1 - (1 - 2*((w_anwt - w_euwt) / w_euwt) * δ)**N\n",
    "    p_anwt_anmt = 1 - (1 - 2*((w_anmt - w_anwt) / w_anwt) * μ2)**N\n",
    "    # no fix of anmt - use w_anwt; \n",
    "    δ=np.array([δ])\n",
    "    if δ.all() == 0:\n",
    "        p_anmt_eumt = 1\n",
    "    else: p_anmt_eumt = 1 - (1 - 2*((w_eumt - w_anwt) / w_anwt) * δ)**N # N doesnt make sense here...\n",
    "    \n",
    "\n",
    "    \n",
    "    p_min = 1 - (1 - p_euwt_eumt) * (1 - p_euwt_anwt)\n",
    "    p_a = p_euwt_anwt / (p_euwt_eumt + p_euwt_anwt)\n",
    "    \n",
    "    # \n",
    "    τ_euwt_eumt = τ(w_euwt, w_eumt, x=0.95, y=np.maximum(x_0,1/N))\n",
    "    # start with one or delta*N individuals  # why delta*N and not 2*s*delta*N\n",
    "    τ_euwt_anwt = τ(w_euwt, w_anwt, x=1-1/N, y=np.maximum(δ, 1/N)) \n",
    "    # \n",
    "    τ_anwt_anmt = τ(w_anwt, w_anmt, x=1-1/N, y=np.maximum(μ2,1/N))\n",
    "     # no fix of anmt - use w_anwt; # start with one or delta*N individuals\n",
    "    τ_anmt_eumt = τ(w_anwt, w_eumt, x=0.95, y=np.maximum(δ, 1/N))\n",
    "    \n",
    "    T_m = 1/p_min + τ_euwt_eumt\n",
    "    T_a = (\n",
    "        1/p_min \n",
    "        + 1/p_anwt_anmt \n",
    "        + 1/p_anmt_eumt \n",
    "        + τ_euwt_anwt  \n",
    "#        + τ_anwt_anmt  # no fix of anmt, don't count\n",
    "        + τ_anmt_eumt \n",
    "    )             \n",
    "    T =  p_a * T_a + (1 - p_a) * T_m\n",
    "    \n",
    "    if PLOT_N:\n",
    "        plt.plot(N, 1/p_min, label='T_min', color='blue')\n",
    "        plt.plot(N, 1/p_anwt_anmt, label='T_anwt_anmt', color='orange' )\n",
    "        plt.plot(N, 1/p_anmt_eumt, label='T_anmt_eumt', color='red' )\n",
    "        plt.plot(N, τ_euwt_anwt, '--', label='τ_euwt_anwt', color='orange')\n",
    "        plt.plot(N, τ_anwt_anmt, '--', label='τ_anwt_anmt', color='red')\n",
    "        plt.plot(N, τ_anmt_eumt, '--', label='τ_anmt_eumt', color='purple')\n",
    "        plt.legend()\n",
    "#         plt.yscale('log')\n",
    "        plt.xscale('log')\n",
    "        plt.ylim(0, None)\n",
    "        \n",
    "    if PLOT_δ:\n",
    "        plt.plot(δ, 1/p_min, label='T_min', color='blue')\n",
    "        plt.plot(δ, [1/p_anwt_anmt for d in δ], label='T_anwt_anmt', color='orange' )\n",
    "        plt.plot(δ, 1/p_anmt_eumt, label='T_anmt_eumt', color='red' )\n",
    "        plt.plot(δ, τ_euwt_anwt, '--', label='τ_euwt_anwt', color='orange')\n",
    "        plt.plot(δ, [τ_anwt_anmt for d in δ], '--', label='τ_anwt_anmt', color='red')\n",
    "        plt.plot(δ, τ_anmt_eumt, '--', label='τ_anmt_eumt', color='purple')\n",
    "        plt.legend()\n",
    "#         plt.yscale('log')\n",
    "        plt.xscale('log')\n",
    "        plt.ylim(0, None)\n",
    "    return T"
   ]
  },
  {
   "cell_type": "code",
   "execution_count": 4,
   "metadata": {},
   "outputs": [],
   "source": [
    "def integral(f, N, s, a, b):\n",
    "    f = partial(f, N, s)    \n",
    "    return quad(f, a, b)[0] #  limit=100\n",
    "\n",
    "def mpintegral(f, N, s, a, b):\n",
    "    f = partial(f, N, s)    \n",
    "    return mp.quad(f, [a, b], verbose=False)\n",
    "\n",
    "def I1(N, s, x):\n",
    "    if x == 1:\n",
    "        return 0\n",
    "    S = 2*N*s\n",
    "#     return np.expm1(S*x) * (np.exp(-S*x) - np.exp(-S)) / (x * (1-x)) # first term overflow so I rearranged:\n",
    "    return (np.exp(-S) - np.exp(-S*x) - np.expm1(-S*(1-x))) / (x * (1-x))\n",
    "\n",
    "def I2(N, s, x):\n",
    "    if x == 0:\n",
    "        return 0\n",
    "    S = 2*N*s\n",
    "    # use mp instad of np for high precision due to expm1(S*x)\n",
    "    return -mp.expm1(S*x) * mp.expm1(-S*x) / (x * (1-x)) \n",
    "\n",
    "def p_kimura(N, s, x0=None):\n",
    "    if x0 is None: x0 = 1 / N\n",
    "    S = 2 * N * s\n",
    "    numer = np.expm1(-S * x0)\n",
    "    denom = np.expm1(-S)\n",
    "    return numer / denom\n",
    "\n",
    "@np.vectorize\n",
    "def τ_kimura(N, w_i, w_j, x, y):\n",
    "    \"\"\"j invades i, starting at freq y and reaching freq x\n",
    "    \"\"\"\n",
    "    s = (w_j - w_i) / w_i    \n",
    "    x0, max_x, min_x = y, x, 0\n",
    "    S = 2 * N * s\n",
    "    J1 = -1.0 / (s * np.expm1(-S)) * integral(I1, N, s, x0, max_x)\n",
    "    u = p_kimura(N, s, x0)\n",
    "    # use mpintegral with mp.quad for high precision due to expm1(S*x) in I2\n",
    "    J2 = -1.0 / (s * np.expm1(-S)) * mpintegral(I2, N, s, min_x, x0)\n",
    "#     print(J1, J2, u, 1-u)\n",
    "    return J1 + ((1 - u) / u) * J2 # eq 17 in Kimura & Ohta, Genetics 1969\n"
   ]
  },
  {
   "cell_type": "code",
   "execution_count": 5,
   "metadata": {},
   "outputs": [],
   "source": [
    "def T_kimura(N, μ1, μ2, δ, w_euwt, w_anwt, w_anmt, w_eumt, x_0=0):\n",
    "    assert w_euwt < w_anwt < w_anmt < w_eumt\n",
    "    p_euwt_eumt = 1 - (1 - p_kimura(N, (w_eumt - w_euwt) / w_euwt) * μ1)**N\n",
    "    p_euwt_anwt = 1 - (1 - p_kimura(N, (w_anwt - w_euwt) / w_euwt) * δ)**N\n",
    "    p_anwt_anmt = 1 - (1 - p_kimura(N, (w_anmt - w_anwt) / w_anwt) * μ2)**N\n",
    "    # no fix of anmt - use w_anwt; \n",
    "#     p_anmt_eumt = 1 - (1 - p_kimura(N, (w_eumt - w_anwt) / w_anwt) * δ)**N # N doesnt make sense here but it doesnt seem to matter\n",
    "    \n",
    "    δ=np.array([δ])\n",
    "    if δ.all() == 0:\n",
    "        p_anmt_eumt = 1\n",
    "    else: p_anmt_eumt = 1 - (1 - p_kimura(N, (w_eumt - w_anwt) / w_anwt) * δ)**N  # N doesnt make sense here...\n",
    "    \n",
    "\n",
    "    p_min = 1 - (1 - p_euwt_eumt) * (1 - p_euwt_anwt)\n",
    "    p_a = p_euwt_anwt / (p_euwt_eumt + p_euwt_anwt)\n",
    "    \n",
    "    # τ_kimura(N, s, x0=None, max_x=1, min_x=0)\n",
    "    τ_euwt_eumt = τ_kimura(N, w_euwt, w_eumt, x=0.95, y=np.maximum(x_0,1/N))\n",
    "    # start with one or delta*N individuals\n",
    "    τ_euwt_anwt = τ_kimura(N, w_euwt, w_anwt, x=1-1/N, y=np.maximum(δ, 1/N)) \n",
    "    # no fix of anmt, don't count\n",
    "    # τ_anwt_anmt = τ_kimura(N, w_anwt, w_anmt, x=1-1/N, y=1/N)\n",
    "    # no fix of anmt - use w_anwt; # start with one or delta*N individuals\n",
    "    τ_anmt_eumt = τ_kimura(N, w_anwt, w_eumt, x=0.95, y=np.maximum(δ, 1/N))\n",
    "    \n",
    "    T_m = 1/p_min + τ_euwt_eumt\n",
    "    T_a = (\n",
    "        # euwt->anwt\n",
    "        1/p_min \n",
    "        + τ_euwt_anwt \n",
    "        # anwt->anmt\n",
    "        + 1/p_anwt_anmt \n",
    "#         + τ_anwt_anmt  # no fix of anmt, don't count\n",
    "        # anmt->eumt\n",
    "        + 1/p_anmt_eumt\n",
    "        + τ_anmt_eumt \n",
    "    )             \n",
    "    T =  p_a * T_a + (1 - p_a) * T_m\n",
    "    return T"
   ]
  },
  {
   "cell_type": "code",
   "execution_count": 98,
   "metadata": {},
   "outputs": [],
   "source": [
    "def t_gen1(α, β, p, x):\n",
    "    if 0 <= β < 1/2:\n",
    "        pf = (mp.gammainc(1-2*β)-mp.gammainc(1-2*β, 2*x*α))/(mp.gammainc(1-2*β)-mp.gammainc(1-2*β, 2*p*α))\n",
    "    else:\n",
    "        pf=1\n",
    "    return pf*(2/(1-x)) * mp.exp(2*x*α) * x**(2*β-1) * (p**(1-2*β)*smp.expint(2*β, 2*p*α) - smp.expint(2*β, 2*α))\n",
    "\n",
    "def t_gen2(α, β, p, x):\n",
    "    return (2/(1-x)) * mp.exp(2*x*α) * (smp.expint(2*β, 2*x*α) - x**(2*β-1)*smp.expint(2*β, 2*α))\n",
    "\n",
    "@np.vectorize\n",
    "def τ_rec_ft(N, rate, w_i, w_j, p, fc=1):\n",
    "    \"\"\"j invades i, starting at freq p and reaching fc\"\"\"\n",
    "    s = (w_j - w_i) / w_i   \n",
    "    α=2*N*s\n",
    "    β=2*N*rate\n",
    "    t1=partial(t_gen1, α, β, p)\n",
    "    t2=partial(t_gen2, α, β, p)\n",
    "    return N*(mp.quad(t1,[0,p])+mp.quad(t2,[p,fc]))*2\n",
    "\n",
    "def t_gen1_mp(α, β, p, x):\n",
    "    return (2/(1-x)) * mp.exp(2*x*α) * x**(2*β-1) * (p**(1-2*β)*mp.expint(2*β, 2*p*α) - mp.expint(2*β, 2*α))\n",
    "\n",
    "def t_gen2_mp(α, β, p, x):\n",
    "    return (2/(1-x)) * mp.exp(2*x*α) * (mp.expint(2*β, 2*x*α) - x**(2*β-1)*mp.expint(2*β, 2*α))\n",
    "\n",
    "@np.vectorize\n",
    "def τ_rec_ft_mp(N, rate, w_i, w_j, p, fc=1):\n",
    "    \"\"\"j invades i, starting at freq p and reaching fc\"\"\"\n",
    "    s = (w_j - w_i) / w_i   \n",
    "    α=2*N*s\n",
    "    β=2*N*rate\n",
    "    t1=partial(t_gen1_mp, α, β, p)\n",
    "    t2=partial(t_gen2_mp, α, β, p)\n",
    "    return 2*N*(mp.quad(t1,[0,p])+mp.quad(t2,[p,fc]))\n",
    "\n",
    "\n",
    "@np.vectorize\n",
    "def τ_rec_ft_lambda(N, rate, w_i, w_j, p, fc=1):\n",
    "    \"\"\"j invades i, starting at freq p and reaching 1\"\"\"\n",
    "    s = (w_j - w_i) / w_i   \n",
    "    α=2*N*s\n",
    "    β=2*N*rate\n",
    "    t1=lambda x: (2*N/(1-x)) * mp.exp(2*x*α) * x**(2*β-1) * (p**(1-2*β)*smp.expint(2*β, 2*p*α) - smp.expint(2*β, 2*α))\n",
    "    t2=lambda x: (2*N/(1-x)) * mp.exp(2*x*α) * (smp.expint(2*β, 2*x*α) - x**(2*β-1)*smp.expint(2*β, 2*α))\n",
    "    return mp.quad(t1,[0,p])+mp.quad(t2,[p,fc]) #follows Ewens book"
   ]
  },
  {
   "cell_type": "code",
   "execution_count": 28,
   "metadata": {},
   "outputs": [],
   "source": [
    "def t_g1(α, β, p, x):\n",
    "    t = (2/(1-x)) * mp.exp(2*x*α) * x**(2*β-1) * (p**(1-2*β)*mp.expint(2*β, 2*p*α) - mp.expint(2*β, 2*α))\n",
    "    return np.float64(t)\n",
    "\n",
    "def t_g2(α, β, p, x):\n",
    "    t = (2/(1-x)) * mp.exp(2*x*α) * (mp.expint(2*β, 2*x*α) - x**(2*β-1)*mp.expint(2*β, 2*α))\n",
    "    return np.float64(t)\n",
    "\n",
    "@np.vectorize\n",
    "def τ_recmut(N, rate, w_i, w_j, p, fc=1):\n",
    "    \"\"\"j invades i, starting at freq p and reaching fc\"\"\"\n",
    "    s = (w_j - w_i) / w_i   \n",
    "    α = 2*N*s\n",
    "    β = 2*N*rate\n",
    "    t1 = partial(t_g1, α, β, p)\n",
    "    t2 = partial(t_g2, α, β, p)\n",
    "    return 2*N*(quad(t1,0,p)[0]+quad(t2,p,fc)[0])"
   ]
  },
  {
   "cell_type": "code",
   "execution_count": 8,
   "metadata": {},
   "outputs": [],
   "source": [
    "def T_rec(N, μ1, μ2, δ, w_euwt, w_anwt, w_anmt, w_eumt, x_0=0, fc=.95):\n",
    "    assert w_euwt < w_anwt < w_anmt < w_eumt\n",
    "    p_euwt_eumt = 1 - (1 - p_kimura(N, (w_eumt - w_euwt) / w_euwt) * μ1)**N\n",
    "    p_euwt_anwt = 1 - (1 - p_kimura(N, (w_anwt - w_euwt) / w_euwt) * δ)**N\n",
    "    p_anwt_anmt = 1 - (1 - p_kimura(N, (w_anmt - w_anwt) / w_anwt) * μ2)**N\n",
    "    # no fix of anmt - use w_anwt; \n",
    "#     p_anmt_eumt = 1 - (1 - p_kimura(N, (w_eumt - w_anwt) / w_anwt) * δ)**N # N doesnt make sense here but it doesnt seem to matter\n",
    "    \n",
    "    δ=np.array([δ])\n",
    "    if δ.all() == 0:\n",
    "        p_anmt_eumt = 1\n",
    "    else: p_anmt_eumt = 1 - (1 - p_kimura(N, (w_eumt - w_anwt) / w_anwt) * δ)**N  # N doesnt make sense here...\n",
    "    \n",
    "\n",
    "    p_min = 1 - (1 - p_euwt_eumt) * (1 - p_euwt_anwt)\n",
    "    p_a = p_euwt_anwt / (p_euwt_eumt + p_euwt_anwt)\n",
    "    \n",
    "    # τ_kimura(N, s, x0=None, max_x=1, min_x=0)\n",
    "    τ_euwt_eumt = τ_rec_ft(N, μ1, w_euwt, w_eumt, p=np.maximum(x_0,1/N),fc=fc)\n",
    "    # start with one or delta*N individuals\n",
    "    τ_euwt_anwt = τ_rec_ft(N, δ, w_euwt, w_anwt, p=np.maximum(δ, 1/N),fc=fc) \n",
    "    # no fix of anmt, don't count\n",
    "    # τ_anwt_anmt = τ_kimura(N, w_anwt, w_anmt, x=1-1/N, y=1/N)\n",
    "    # no fix of anmt - use w_anwt; # start with one or delta*N individuals\n",
    "    τ_anmt_eumt = τ_rec_ft(N, δ, w_anwt, w_eumt, p=np.maximum(δ, 1/N),fc=fc)\n",
    "    \n",
    "    T_m = 1/p_min + τ_euwt_eumt\n",
    "    T_a = (\n",
    "        # euwt->anwt\n",
    "        1/p_min \n",
    "        + τ_euwt_anwt \n",
    "        # anwt->anmt\n",
    "        + 1/p_anwt_anmt \n",
    "#         + τ_anwt_anmt  # no fix of anmt, don't count\n",
    "        # anmt->eumt\n",
    "        + 1/p_anmt_eumt\n",
    "        + τ_anmt_eumt \n",
    "    )             \n",
    "    T =  p_a * T_a + (1 - p_a) * T_m\n",
    "    return T"
   ]
  },
  {
   "cell_type": "markdown",
   "metadata": {},
   "source": [
    "# Comparison:"
   ]
  },
  {
   "cell_type": "markdown",
   "metadata": {},
   "source": [
    "## Population size"
   ]
  },
  {
   "cell_type": "code",
   "execution_count": 9,
   "metadata": {},
   "outputs": [],
   "source": [
    "Nm58, msim_noaneuN_manu58=np.load('msim_noaneuN_manu58.npy',allow_pickle=True)\n",
    "Nm58 = Nm58.astype('float64')\n",
    "\n",
    "msim_noaneuN58=np.array([x for x in msim_noaneuN_manu58[0]])"
   ]
  },
  {
   "cell_type": "code",
   "execution_count": 75,
   "metadata": {},
   "outputs": [],
   "source": [
    "N, μ, δ, w_euwt, w_anwt, w_anmt, w_eumt = Nm58, 9.6e-08, 0, 1, 1.021, 1.025, 1.028"
   ]
  },
  {
   "cell_type": "code",
   "execution_count": 12,
   "metadata": {},
   "outputs": [
    {
     "name": "stdout",
     "output_type": "stream",
     "text": [
      "12.4 s ± 21.7 ms per loop (mean ± std. dev. of 7 runs, 1 loop each)\n",
      "10 s ± 25.6 ms per loop (mean ± std. dev. of 7 runs, 1 loop each)\n"
     ]
    }
   ],
   "source": [
    "%timeit τ_rec_ft_lambda(N, μ , w_euwt, w_eumt, 1/N, fc=0.95)\n",
    "%timeit τ_rec_ft(N, μ , w_euwt, w_eumt, 1/N, fc=0.95)"
   ]
  },
  {
   "cell_type": "code",
   "execution_count": 113,
   "metadata": {},
   "outputs": [
    {
     "name": "stdout",
     "output_type": "stream",
     "text": [
      "10.1 s ± 249 ms per loop (mean ± std. dev. of 7 runs, 1 loop each)\n",
      "7.61 s ± 101 ms per loop (mean ± std. dev. of 7 runs, 1 loop each)\n",
      "10.1 s ± 62.8 ms per loop (mean ± std. dev. of 7 runs, 1 loop each)\n"
     ]
    }
   ],
   "source": [
    "%timeit τ_rec_ft_lambda(N, μ , w_euwt, w_eumt, 1/N, fc=0.95)\n",
    "%timeit τ_rec_ft(N, μ , w_euwt, w_eumt, 1/N, fc=0.95)\n",
    "%timeit τ_rec_ft_mp(N, μ , w_euwt, w_eumt, 1/N, fc=0.95)"
   ]
  },
  {
   "cell_type": "code",
   "execution_count": 14,
   "metadata": {},
   "outputs": [
    {
     "name": "stdout",
     "output_type": "stream",
     "text": [
      "7.54 s ± 88.5 ms per loop (mean ± std. dev. of 7 runs, 1 loop each)\n"
     ]
    }
   ],
   "source": [
    "%timeit τ_rec_ft(N, μ , w_euwt, w_eumt, 1/N, fc=0.95)"
   ]
  },
  {
   "cell_type": "code",
   "execution_count": 29,
   "metadata": {},
   "outputs": [
    {
     "name": "stdout",
     "output_type": "stream",
     "text": [
      "17.7 s ± 84.9 ms per loop (mean ± std. dev. of 7 runs, 1 loop each)\n"
     ]
    }
   ],
   "source": [
    "%timeit τ_recmut(N,  μ , w_euwt, w_eumt, 1/N, fc=0.95)"
   ]
  },
  {
   "cell_type": "code",
   "execution_count": 114,
   "metadata": {},
   "outputs": [],
   "source": [
    "τ__= τ(w_euwt, w_eumt, .95, 1/N)\n",
    "τ_K= τ_kimura(N, w_euwt, w_eumt, x=.95, y=1/N)\n",
    "τ_r= τ_rec_ft(N, μ , w_euwt, w_eumt, 1/N, fc=0.95)"
   ]
  },
  {
   "cell_type": "code",
   "execution_count": 17,
   "metadata": {},
   "outputs": [],
   "source": [
    "p0 = 1 - (1 - p_kimura(N, (w_eumt - w_euwt) / w_euwt) * μ)**N\n",
    "p1 = 1 - (1 - p_kimura(N, (w_anwt - w_euwt) / w_euwt) * δ)**N\n",
    "p_mint = 1 - (1 - p0) * (1 - p1)\n",
    "p_at= p1 / (p0 + p1)"
   ]
  },
  {
   "cell_type": "code",
   "execution_count": 43,
   "metadata": {},
   "outputs": [],
   "source": [
    "p0h = 1 - (1 - 2*(w_eumt - w_euwt)* μ / w_euwt )**N\n",
    "p1h = 1 - (1 - 2*(w_anwt - w_euwt)* δ / w_euwt) **N\n",
    "p_minth = 1 - (1 - p0h) * (1 - p1h)\n",
    "p_ath= p1h / (p0h + p1h)"
   ]
  },
  {
   "cell_type": "code",
   "execution_count": 56,
   "metadata": {
    "scrolled": true
   },
   "outputs": [
    {
     "data": {
      "text/plain": [
       "(array([0.02747738, 0.02747629, 0.02747504, 0.0274736 , 0.02747194,\n",
       "        0.02747003, 0.02746783, 0.0274653 , 0.02746238, 0.02745902,\n",
       "        0.02745516, 0.0274507 , 0.02744558, 0.02743968, 0.02743289,\n",
       "        0.02742507, 0.02741607, 0.02740571, 0.02739379, 0.02738006,\n",
       "        0.02736426, 0.02734608, 0.02732515, 0.02730107, 0.02727336,\n",
       "        0.02724147, 0.02720479, 0.02716259, 0.02711406, 0.02705826,\n",
       "        0.02699409, 0.02692034, 0.02683558, 0.02673821, 0.02662638,\n",
       "        0.026498  , 0.02635069, 0.02618174, 0.02598811, 0.02576634,\n",
       "        0.02551255, 0.0252224 , 0.02489108, 0.02451322, 0.02408298,\n",
       "        0.02359399, 0.02303942, 0.0224121 , 0.02170461, 0.0209096 ]),\n",
       " array([1913.188507  , 1661.69952508, 1443.26541627, 1253.56343967,\n",
       "        1088.79457471,  945.70040811,  821.41405393,  713.4742076 ,\n",
       "         619.72562487,  538.3039563 ,  467.58943396,  406.17258242,\n",
       "         352.83118746,  306.50349819,  266.26776229,  231.32241246,\n",
       "         200.97190578,  174.61218346,  151.71855341,  131.83521   ,\n",
       "         114.56632948,   99.56809323,   86.5419899 ,   75.22873155,\n",
       "          65.40306083,   56.86940912,   49.45789177,   43.02096348,\n",
       "          37.43049417,   32.57519007,   28.35840272,   24.69618492,\n",
       "          21.51563739,   18.75344096,   16.35461274,   14.27139909,\n",
       "          12.46232827,   10.89138969,    9.52730969,    8.34293392,\n",
       "           7.31468519,    6.42209404,    5.64739169,    4.97515573,\n",
       "           4.3920031 ,    3.88632383,    3.44804951,    3.06845237,\n",
       "           2.73997121,    2.45605995]))"
      ]
     },
     "execution_count": 56,
     "metadata": {},
     "output_type": "execute_result"
    }
   ],
   "source": [
    "(1/p_mint- 1/p_minth)/(1/p_mint)"
   ]
  },
  {
   "cell_type": "code",
   "execution_count": 52,
   "metadata": {},
   "outputs": [],
   "source": [
    "p0g = 1 - (1 -  μ )**N\n",
    "p1g = 1 - (1 -  δ ) **N\n",
    "p_mintg = 1 - (1 - p0g) * (1 - p1g)\n",
    "p_atg= p1g / (p0g + p1g)"
   ]
  },
  {
   "cell_type": "code",
   "execution_count": 62,
   "metadata": {},
   "outputs": [
    {
     "data": {
      "text/plain": [
       "array([1.80852105e+03, 1.57072825e+03, 1.36419011e+03, 1.18481931e+03,\n",
       "       1.02902371e+03, 8.93722365e+02, 7.76204509e+02, 6.74142878e+02,\n",
       "       5.85499600e+02, 5.08511853e+02, 4.41648075e+02, 3.83575543e+02,\n",
       "       3.33138598e+02, 2.89333299e+02, 2.51288081e+02, 2.18245016e+02,\n",
       "       1.89546424e+02, 1.64621123e+02, 1.42972974e+02, 1.24170969e+02,\n",
       "       1.07840810e+02, 9.36573686e+01, 8.13383513e+01, 7.06385454e+01,\n",
       "       6.13449091e+01, 5.32724652e+01, 4.62605130e+01, 4.01694658e+01,\n",
       "       3.48780845e+01, 3.02810387e+01, 2.62868349e+01, 2.28159781e+01,\n",
       "       1.97994102e+01, 1.71771240e+01, 1.48969926e+01, 1.29137296e+01,\n",
       "       1.11880054e+01, 9.68568731e+00, 8.37717696e+00, 7.23685239e+00,\n",
       "       6.24258344e+00, 5.37531115e+00, 4.61867209e+00, 3.95864729e+00,\n",
       "       3.38322332e+00, 2.88206184e+00, 2.44618987e+00, 2.06773554e+00,\n",
       "       1.73973183e+00, 1.45599222e+00])"
      ]
     },
     "execution_count": 62,
     "metadata": {},
     "output_type": "execute_result"
    }
   ],
   "source": [
    "1/p_mint-1/p_mintg"
   ]
  },
  {
   "cell_type": "code",
   "execution_count": 68,
   "metadata": {
    "scrolled": true
   },
   "outputs": [
    {
     "data": {
      "image/png": "[encoded data removed]",
      "text/plain": [
       "<Figure size 432x288 with 1 Axes>"
      ]
     },
     "metadata": {
      "needs_background": "light"
     },
     "output_type": "display_data"
    }
   ],
   "source": [
    "plt.plot(N, τ__, label='Classic fixation time')\n",
    "plt.plot(N, τ_K, label='Diffusion fixation time')\n",
    "plt.plot(N, τ_r, label='Diffusion with rec mut fixation time')\n",
    "plt.plot(N, 1/p_mint, label='waiting time to first event')\n",
    "plt.plot(N, 1/p_mint+τ__, label='waiting time to first event+classic FT')\n",
    "plt.plot(N, 1/p_mint+τ_r, label='waiting time to first event+rec mut FT')\n",
    "plt.plot(N, 1/p_mintg+2*τ_r, label='waiting time to first event, no sel+rec mut FT')\n",
    "\n",
    "plt.xscale('log')\n",
    "#plt.yscale('log')\n",
    "#plt.xlim([1e7,1e8])\n",
    "#plt.ylim([500,700])\n",
    "plt.xlabel(\"Population size, $N$\")\n",
    "plt.ylabel('Time, $T$')\n",
    "plt.legend();"
   ]
  },
  {
   "cell_type": "code",
   "execution_count": 16,
   "metadata": {},
   "outputs": [
    {
     "data": {
      "text/plain": [
       "(array([0.00052269, 0.00060179, 0.00069287, 0.00079773, 0.00091845,\n",
       "        0.00105742, 0.00121741, 0.00140159, 0.00161362, 0.00185769,\n",
       "        0.00213863, 0.00246201, 0.00283422, 0.00326261, 0.00375562,\n",
       "        0.00432297, 0.00497582, 0.00572698, 0.00659115, 0.00758523,\n",
       "        0.00872857, 0.01004338, 0.01155508, 0.01329279, 0.0152898 ,\n",
       "        0.01758415, 0.02021922, 0.02324448, 0.02671618, 0.03069821,\n",
       "        0.03526292, 0.04049208, 0.04647782, 0.05332355, 0.06114483,\n",
       "        0.07007021, 0.08024183, 0.09181565, 0.10496142, 0.11986191,\n",
       "        0.13671128, 0.15571245, 0.1770729 , 0.20099873, 0.22768654,\n",
       "        0.25731258, 0.29001904, 0.32589719, 0.36496734, 0.40715619]),\n",
       " array([0., 0., 0., 0., 0., 0., 0., 0., 0., 0., 0., 0., 0., 0., 0., 0., 0.,\n",
       "        0., 0., 0., 0., 0., 0., 0., 0., 0., 0., 0., 0., 0., 0., 0., 0., 0.,\n",
       "        0., 0., 0., 0., 0., 0., 0., 0., 0., 0., 0., 0., 0., 0., 0., 0.]),\n",
       " array([1913.188507  , 1661.69952508, 1443.26541627, 1253.56343967,\n",
       "        1088.79457471,  945.70040811,  821.41405393,  713.4742076 ,\n",
       "         619.72562487,  538.3039563 ,  467.58943396,  406.17258242,\n",
       "         352.83118746,  306.50349819,  266.26776229,  231.32241246,\n",
       "         200.97190578,  174.61218346,  151.71855341,  131.83521   ,\n",
       "         114.56632948,   99.56809323,   86.5419899 ,   75.22873155,\n",
       "          65.40306083,   56.86940912,   49.45789177,   43.02096348,\n",
       "          37.43049417,   32.57519007,   28.35840272,   24.69618492,\n",
       "          21.51563739,   18.75344096,   16.35461274,   14.27139909,\n",
       "          12.46232827,   10.89138969,    9.52730969,    8.34293392,\n",
       "           7.31468519,    6.42209404,    5.64739169,    4.97515573,\n",
       "           4.3920031 ,    3.88632383,    3.44804951,    3.06845237,\n",
       "           2.73997121,    2.45605995]),\n",
       " array([0., 0., 0., 0., 0., 0., 0., 0., 0., 0., 0., 0., 0., 0., 0., 0., 0.,\n",
       "        0., 0., 0., 0., 0., 0., 0., 0., 0., 0., 0., 0., 0., 0., 0., 0., 0.,\n",
       "        0., 0., 0., 0., 0., 0., 0., 0., 0., 0., 0., 0., 0., 0., 0., 0.]))"
      ]
     },
     "execution_count": 16,
     "metadata": {},
     "output_type": "execute_result"
    }
   ],
   "source": [
    "p0,p1,1/p_mint,p_at"
   ]
  },
  {
   "cell_type": "code",
   "execution_count": 99,
   "metadata": {},
   "outputs": [],
   "source": [
    "T__=T(N, μ, μ, 0, w_euwt, w_anwt, w_anmt, w_eumt)#, x_0=35*μ)\n",
    "T_K=T_kimura(N, μ, μ, 0, w_euwt, w_anwt, w_anmt, w_eumt)#, x_0=35*μ)\n",
    "T_r=T_rec(N, μ, μ, 0, w_euwt, w_anwt, w_anmt, w_eumt, fc=.95)#, x_0=35*μ)"
   ]
  },
  {
   "cell_type": "code",
   "execution_count": 103,
   "metadata": {
    "scrolled": false
   },
   "outputs": [
    {
     "data": {
      "image/png": "[encoded data removed]",
      "text/plain": [
       "<Figure size 432x288 with 1 Axes>"
      ]
     },
     "metadata": {
      "needs_background": "light"
     },
     "output_type": "display_data"
    }
   ],
   "source": [
    "mean = msim_noaneuN58.mean(axis=1)\n",
    "low = np.percentile(msim_noaneuN58, 25, axis=1)\n",
    "high = np.percentile(msim_noaneuN58, 75, axis=1)\n",
    "plt.errorbar(N, mean, [(mean-low), (high-mean)],fmt='o', color='k', capsize=2, label='Mean (50% CI)', alpha=.3)\n",
    "\n",
    "#plt.plot(N, T__, label='Classic')\n",
    "plt.plot(N, T_K, label='Diffusion')\n",
    "plt.plot(N, T_r, label='Diffusion with rec mut')\n",
    "#plt.plot(N, T_rr, label='Diffusion with rec mut')\n",
    "#plt.plot(N, 1/p_mint+2*τ_r, label='waiting time to first event, no sel+rec mut FT')\n",
    "#plt.plot(N, 1/p_mint+τ__, label='waiting time to first event+rec mut FT')\n",
    "\n",
    "plt.xscale('log')\n",
    "#plt.yscale('log')\n",
    "#plt.xlim([1e7,1e8])\n",
    "#plt.ylim([525,600])\n",
    "plt.xlabel(\"Population size, $N$\")\n",
    "plt.ylabel('Adaptation time, $T$')\n",
    "plt.legend()\n",
    "plt.savefig('Diffusion with mutation_N.pdf');"
   ]
  },
  {
   "cell_type": "code",
   "execution_count": 80,
   "metadata": {},
   "outputs": [
    {
     "data": {
      "text/plain": [
       "24"
      ]
     },
     "execution_count": 80,
     "metadata": {},
     "output_type": "execute_result"
    }
   ],
   "source": [
    "sum(2*N*μ<1/2)"
   ]
  },
  {
   "cell_type": "code",
   "execution_count": 86,
   "metadata": {},
   "outputs": [
    {
     "data": {
      "text/plain": [
       "2559547.0"
      ]
     },
     "execution_count": 86,
     "metadata": {},
     "output_type": "execute_result"
    }
   ],
   "source": [
    "N[23]"
   ]
  },
  {
   "cell_type": "code",
   "execution_count": 85,
   "metadata": {},
   "outputs": [
    {
     "data": {
      "text/plain": [
       "0.491433024"
      ]
     },
     "execution_count": 85,
     "metadata": {},
     "output_type": "execute_result"
    }
   ],
   "source": [
    "(2*N*μ)[23]"
   ]
  },
  {
   "cell_type": "code",
   "execution_count": 42,
   "metadata": {},
   "outputs": [
    {
     "data": {
      "image/png": "[encoded data removed]",
      "text/plain": [
       "<Figure size 432x288 with 1 Axes>"
      ]
     },
     "metadata": {
      "needs_background": "light"
     },
     "output_type": "display_data"
    }
   ],
   "source": [
    "plt.plot(N, (T__-mean)/mean, label='Classic')\n",
    "plt.plot(N, (T_K-mean)/mean, label='Diffusion')\n",
    "plt.plot(N, (T_r-mean)/mean, label='Diffusion with rec mut')\n",
    "#plt.plot(N, T_rr, label='Diffusion with rec mut')\n",
    "#plt.plot(N, 1/p_mint+2*τ_r, label='waiting time to first event, no sel+rec mut FT')\n",
    "#plt.plot(N, 1/p_mint+τ__, label='waiting time to first event+rec mut FT')\n",
    "\n",
    "plt.xscale('log')\n",
    "#plt.yscale('log')\n",
    "#plt.xlim([1e7,1e8])\n",
    "#plt.ylim([525,600])\n",
    "plt.xlabel(\"Population size, $N$\")\n",
    "plt.ylabel('Adaptation time, $T$')\n",
    "plt.legend();"
   ]
  },
  {
   "cell_type": "markdown",
   "metadata": {},
   "source": [
    "## Mutation rate"
   ]
  },
  {
   "cell_type": "code",
   "execution_count": 55,
   "metadata": {},
   "outputs": [],
   "source": [
    "μm, msim_noaneuμ_manu=np.load('msim_noaneuμ_manu.npy',allow_pickle=True)\n",
    "μm = μm.astype('float64')\n",
    "\n",
    "msim_noaneuμ_manu=np.array([x for x in msim_noaneuμ_manu[0]])"
   ]
  },
  {
   "cell_type": "code",
   "execution_count": 122,
   "metadata": {},
   "outputs": [],
   "source": [
    "N, μ, δ, w_euwt, w_anwt, w_anmt, w_eumt = 6e6, μm, 0, 1, 1.021,1.025, 1.028"
   ]
  },
  {
   "cell_type": "code",
   "execution_count": 57,
   "metadata": {},
   "outputs": [],
   "source": [
    "τ__= [τ(w_euwt, w_eumt, .95, 1/N) for x in μ]\n",
    "τ_K= [τ_kimura(N, w_euwt, w_eumt, x=.95, y=1/N) for x in μ]\n",
    "τ_r= τ_rec_ft(N, μ , w_euwt, w_eumt, 1/N, fc=0.95)"
   ]
  },
  {
   "cell_type": "code",
   "execution_count": 79,
   "metadata": {},
   "outputs": [],
   "source": [
    "p0 = 1 - (1 - p_kimura(N, (w_eumt - w_euwt) / w_euwt) * μ)**N\n",
    "p1 = 1 - (1 - p_kimura(N, (w_anwt - w_euwt) / w_euwt) * δ)**N\n",
    "p_mint = 1 - (1 - p0) * (1 - p1)\n",
    "p_at= p1 / (p0 + p1)"
   ]
  },
  {
   "cell_type": "code",
   "execution_count": 80,
   "metadata": {},
   "outputs": [],
   "source": [
    "p0g = 1 - (1 -  μ )**N\n",
    "p1g = 1 - (1 -  δ ) **N\n",
    "p_mintg = 1 - (1 - p0g) * (1 - p1g)\n",
    "p_atg= p1g / (p0g + p1g)"
   ]
  },
  {
   "cell_type": "code",
   "execution_count": 88,
   "metadata": {},
   "outputs": [
    {
     "data": {
      "image/png": "[encoded data removed]",
      "text/plain": [
       "<Figure size 432x288 with 1 Axes>"
      ]
     },
     "metadata": {
      "needs_background": "light"
     },
     "output_type": "display_data"
    }
   ],
   "source": [
    "plt.plot(μ, τ__, label='Classic fixation time')\n",
    "plt.plot(μ, τ_K, label='Diffusion fixation time')\n",
    "plt.plot(μ, τ_r, label='Diffusion with rec mut fixation time')\n",
    "plt.plot(μ, 1/p_mint, label='waiting time to first event')\n",
    "plt.plot(μ, 1/p_mint+τ__, label='waiting time to first event+classic FT')\n",
    "plt.plot(μ, 1/p_mint+τ_r, label='waiting time to first event+rec mut FT')\n",
    "plt.plot(μ, 1/p_mintg+2*τ_r, label='waiting time to first event, no sel+rec mut FT')\n",
    "\n",
    "plt.xscale('log')\n",
    "#plt.yscale('log')\n",
    "#plt.xlim([1e7,1e8])\n",
    "#plt.ylim([500,700])\n",
    "plt.xlabel(\"Mutation rate, $μ$\")\n",
    "plt.ylabel('Time, $T$')\n",
    "plt.legend();"
   ]
  },
  {
   "cell_type": "code",
   "execution_count": 123,
   "metadata": {},
   "outputs": [],
   "source": [
    "T__ = T(N, μ, μ, 0, w_euwt, w_anwt, w_anmt, w_eumt) #, x_0=35*μ)\n",
    "T_ = T_kimura(N, μ, μ, 0, w_euwt, w_anwt, w_anmt, w_eumt) #, x_0=35*μ)\n",
    "T_r = T_rec(N, μ, μ, 0, w_euwt, w_anwt, w_anmt, w_eumt, fc=.95) #, x_0=35*μ)"
   ]
  },
  {
   "cell_type": "code",
   "execution_count": 125,
   "metadata": {},
   "outputs": [
    {
     "data": {
      "image/png": "[encoded data removed]",
      "text/plain": [
       "<Figure size 432x288 with 1 Axes>"
      ]
     },
     "metadata": {
      "needs_background": "light"
     },
     "output_type": "display_data"
    }
   ],
   "source": [
    "mean = np.mean(msim_noaneuμ_manu, axis=1)\n",
    "low = np.percentile(msim_noaneuμ_manu, 25, axis=1)\n",
    "high = np.percentile(msim_noaneuμ_manu, 75, axis=1)\n",
    "plt.errorbar(μ, mean, [mean-low, high-mean], color='k', capsize=2, label='Mean (50% CI)', alpha=.5)\n",
    "\n",
    "plt.plot(μ, T__, label='Classic')\n",
    "plt.plot(μ, T_, label='Diffusion')\n",
    "plt.plot(μ, T_r, label='Diffusion with rec mut')\n",
    "#plt.plot(μ, 1/p_mint+2*τ_r, label='waiting time to first event, no sel+rec mut FT')\n",
    "\n",
    "plt.xscale('log')\n",
    "#plt.yscale('log')\n",
    "#plt.xlim([1e-8,1e-7])\n",
    "#plt.ylim([530,1000])\n",
    "plt.xlabel(\"Mutation rate $2n+1$ to $2n+1^*$\")\n",
    "plt.ylabel('Adaptation time, $T$')\n",
    "plt.legend()\n",
    "plt.savefig('Diffusion with mutation_mu2.pdf');"
   ]
  },
  {
   "cell_type": "code",
   "execution_count": 105,
   "metadata": {},
   "outputs": [],
   "source": [
    "μm68, msim_noaneuμ68_manu=np.load('msim_noaneuμ68_manu.npy',allow_pickle=True)\n",
    "μm68= μm68.astype('float64')\n",
    "\n",
    "msim_noaneuμ68_manu=np.array([x for x in msim_noaneuμ68_manu[0]])"
   ]
  },
  {
   "cell_type": "code",
   "execution_count": 106,
   "metadata": {},
   "outputs": [],
   "source": [
    "N, μ, δ, w_euwt, w_anwt, w_anmt, w_eumt = 6e6, μm68, 0, 1, 1.021,1.025, 1.028"
   ]
  },
  {
   "cell_type": "code",
   "execution_count": 72,
   "metadata": {},
   "outputs": [
    {
     "data": {
      "text/plain": [
       "array([ 0.12      ,  0.1282823 ,  0.13713625,  0.14660128,  0.15671959,\n",
       "        0.16753625,  0.17909947,  0.19146077,  0.20467524,  0.21880176,\n",
       "        0.23390328,  0.2500471 ,  0.26730515,  0.28575434,  0.30547688,\n",
       "        0.32656065,  0.34909961,  0.37319419,  0.39895175,  0.42648708,\n",
       "        0.45592288,  0.48739032,  0.52102961,  0.55699066,  0.59543371,\n",
       "        0.63653007,  0.68046287,  0.72742788,  0.77763437,  0.83130608,\n",
       "        0.88868216,  0.9500183 ,  1.01558781,  1.08568287,  1.16061584,\n",
       "        1.24072062,  1.32635417,  1.41789808,  1.51576028,  1.62037685,\n",
       "        1.73221397,  1.85177   ,  1.97957769,  2.11620657,  2.26226546,\n",
       "        2.41840522,  2.58532163,  2.76375847,  2.95451088,  3.15842887,\n",
       "        3.37642112,  3.60945902,  3.85858101,  4.1248972 ,  4.40959433,\n",
       "        4.71394102,  5.03929348,  5.38710151,  5.75891497,  6.1563907 ,\n",
       "        6.58129989,  7.03553598,  7.52112307,  8.040225  ,  8.59515494,\n",
       "        9.1883857 ,  9.82256077, 10.5005061 , 11.22524268, 12.        ])"
      ]
     },
     "execution_count": 72,
     "metadata": {},
     "output_type": "execute_result"
    }
   ],
   "source": [
    "2*N*μm68"
   ]
  },
  {
   "cell_type": "code",
   "execution_count": 107,
   "metadata": {},
   "outputs": [],
   "source": [
    "T__ = T(N, μ, μ, 0, w_euwt, w_anwt, w_anmt, w_eumt) #, x_0=35*μ)\n",
    "T_ = T_kimura(N, μ, μ, 0, w_euwt, w_anwt, w_anmt, w_eumt) #, x_0=35*μ)\n",
    "T_r = T_rec(N, μ, μ, 0, w_euwt, w_anwt, w_anmt, w_eumt, fc=.95) #, x_0=35*μ)"
   ]
  },
  {
   "cell_type": "code",
   "execution_count": 117,
   "metadata": {},
   "outputs": [
    {
     "data": {
      "image/png": "[encoded data removed]",
      "text/plain": [
       "<Figure size 432x288 with 1 Axes>"
      ]
     },
     "metadata": {
      "needs_background": "light"
     },
     "output_type": "display_data"
    }
   ],
   "source": [
    "mean = np.mean(msim_noaneuμ68_manu, axis=1)\n",
    "low = np.percentile(msim_noaneuμ68_manu, 25, axis=1)\n",
    "high = np.percentile(msim_noaneuμ68_manu, 75, axis=1)\n",
    "plt.errorbar(μ[27:30], mean[27:30], [(mean-low)[27:30], (high-mean)[27:30]], color='k', capsize=2, label='Mean (50% CI)', alpha=.5)\n",
    "\n",
    "#plt.plot(μ, T__, label='Classic')\n",
    "plt.plot(μ[27:30], T_[27:30], label='Diffusion')\n",
    "plt.plot(μ[27:30], T_r[27:30], label='Diffusion with rec mut')\n",
    "\n",
    "plt.xscale('log')\n",
    "#plt.yscale('log')\n",
    "#plt.xlim([1e-8,1e-7])\n",
    "#plt.ylim([530,1000])\n",
    "plt.xlabel(\"Mutation rate $2n+1$ to $2n+1^*$\")\n",
    "plt.ylabel('Adaptation time, $T$')\n",
    "plt.legend()\n",
    "plt.savefig('Diffusion with mutation_mu.pdf');"
   ]
  },
  {
   "cell_type": "code",
   "execution_count": 120,
   "metadata": {},
   "outputs": [
    {
     "data": {
      "text/plain": [
       "(mpf('630.21868830704329'),\n",
       " mpf('632.90492579694785'),\n",
       " mpf('626.95938527602971'),\n",
       " mpf('626.47738832203163'),\n",
       " mpf('623.91052822707888'),\n",
       " mpf('620.31986322506305'))"
      ]
     },
     "execution_count": 120,
     "metadata": {},
     "output_type": "execute_result"
    }
   ],
   "source": [
    "T_[27], T_r[27],  T_[28], T_r[28],  T_[29], T_r[29]"
   ]
  },
  {
   "cell_type": "code",
   "execution_count": 121,
   "metadata": {},
   "outputs": [
    {
     "data": {
      "text/plain": [
       "0.777634372849501"
      ]
     },
     "execution_count": 121,
     "metadata": {},
     "output_type": "execute_result"
    }
   ],
   "source": [
    "(2*N*μ)[28]"
   ]
  },
  {
   "cell_type": "code",
   "execution_count": null,
   "metadata": {},
   "outputs": [],
   "source": []
  }
 ],
 "metadata": {
  "kernelspec": {
   "display_name": "Python 3",
   "language": "python",
   "name": "python3"
  },
  "language_info": {
   "codemirror_mode": {
    "name": "ipython",
    "version": 3
   },
   "file_extension": ".py",
   "mimetype": "text/x-python",
   "name": "python",
   "nbconvert_exporter": "python",
   "pygments_lexer": "ipython3",
   "version": "3.8.5"
  }
 },
 "nbformat": 4,
 "nbformat_minor": 4
}
