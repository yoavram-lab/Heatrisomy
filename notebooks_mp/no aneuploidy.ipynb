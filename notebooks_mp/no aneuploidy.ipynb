{
 "cells": [
  {
   "cell_type": "code",
   "execution_count": null,
   "metadata": {},
   "outputs": [],
   "source": [
    "%matplotlib inline\n",
    "import matplotlib.pyplot as plt\n",
    "import numpy as np\n",
    "from functools import partial\n",
    "from scipy.integrate import quad"
   ]
  },
  {
   "cell_type": "code",
   "execution_count": null,
   "metadata": {},
   "outputs": [],
   "source": [
    "def τ(w_i, w_j, x, y):\n",
    "    \"\"\"j invades i, starting at freq y and reaching freq x\n",
    "    \"\"\"\n",
    "    return np.log((x * (1-y)) / ((1-x) * y)) / np.log(w_j / w_i)\n",
    "\n",
    "\n",
    "def T(N, μ1, μ2, δ, w_euwt, w_anwt, w_anmt, w_eumt, PLOT_N=False, PLOT_δ=False ):\n",
    "    assert w_euwt < w_anwt < w_anmt < w_eumt\n",
    "    p_euwt_eumt = 1 - (1 - 2*((w_eumt - w_euwt) / w_euwt) * μ1)**N\n",
    "    p_euwt_anwt = 1 - (1 - 2*((w_anwt - w_euwt) / w_euwt) * δ)**N\n",
    "    p_anwt_anmt = 1 - (1 - 2*((w_anmt - w_anwt) / w_anwt) * μ2)**N\n",
    "    # no fix of anmt - use w_anwt; \n",
    "    δ=np.array([δ])\n",
    "    if δ.all() == 0:\n",
    "        p_anmt_eumt = 1\n",
    "    else: p_anmt_eumt = 1 - (1 - 2*((w_eumt - w_anwt) / w_anwt) * δ)**N # N doesnt make sense here...\n",
    "    \n",
    "\n",
    "    \n",
    "    p_min = 1 - (1 - p_euwt_eumt) * (1 - p_euwt_anwt)\n",
    "    p_a = p_euwt_anwt / (p_euwt_eumt + p_euwt_anwt)\n",
    "    \n",
    "    # \n",
    "    τ_euwt_eumt = τ(w_euwt, w_eumt, x=0.95, y=np.maximum(δ,1/N))\n",
    "    # start with one or delta*N individuals  # why delta*N and not 2*s*delta*N\n",
    "    τ_euwt_anwt = τ(w_euwt, w_anwt, x=1-1/N, y=np.maximum(δ, 1/N)) \n",
    "    # \n",
    "    τ_anwt_anmt = τ(w_anwt, w_anmt, x=1-1/N, y=np.maximum(μ2,1/N))\n",
    "     # no fix of anmt - use w_anwt; # start with one or delta*N individuals\n",
    "    τ_anmt_eumt = τ(w_anwt, w_eumt, x=0.95, y=np.maximum(δ, 1/N))\n",
    "    \n",
    "    T_m = 1/p_min + τ_euwt_eumt\n",
    "    T_a = (\n",
    "        1/p_min \n",
    "        + 1/p_anwt_anmt \n",
    "        + 1/p_anmt_eumt \n",
    "        + τ_euwt_anwt  \n",
    "#        + τ_anwt_anmt  # no fix of anmt, don't count\n",
    "        + τ_anmt_eumt \n",
    "    )             \n",
    "    T =  p_a * T_a + (1 - p_a) * T_m\n",
    "    \n",
    "    if PLOT_N:\n",
    "        plt.plot(N, 1/p_min, label='T_min', color='blue')\n",
    "        plt.plot(N, 1/p_anwt_anmt, label='T_anwt_anmt', color='orange' )\n",
    "        plt.plot(N, 1/p_anmt_eumt, label='T_anmt_eumt', color='red' )\n",
    "        plt.plot(N, τ_euwt_anwt, '--', label='τ_euwt_anwt', color='orange')\n",
    "        plt.plot(N, τ_anwt_anmt, '--', label='τ_anwt_anmt', color='red')\n",
    "        plt.plot(N, τ_anmt_eumt, '--', label='τ_anmt_eumt', color='purple')\n",
    "        plt.legend()\n",
    "#         plt.yscale('log')\n",
    "        plt.xscale('log')\n",
    "        plt.ylim(0, None)\n",
    "        \n",
    "    if PLOT_δ:\n",
    "        plt.plot(δ, 1/p_min, label='T_min', color='blue')\n",
    "        plt.plot(δ, [1/p_anwt_anmt for d in δ], label='T_anwt_anmt', color='orange' )\n",
    "        plt.plot(δ, 1/p_anmt_eumt, label='T_anmt_eumt', color='red' )\n",
    "        plt.plot(δ, τ_euwt_anwt, '--', label='τ_euwt_anwt', color='orange')\n",
    "        plt.plot(δ, [τ_anwt_anmt for d in δ], '--', label='τ_anwt_anmt', color='red')\n",
    "        plt.plot(δ, τ_anmt_eumt, '--', label='τ_anmt_eumt', color='purple')\n",
    "        plt.legend()\n",
    "#         plt.yscale('log')\n",
    "        plt.xscale('log')\n",
    "        plt.ylim(0, None)\n",
    "    return T"
   ]
  },
  {
   "cell_type": "code",
   "execution_count": null,
   "metadata": {},
   "outputs": [],
   "source": [
    "(1.028-1.025)/1.025, (1.028-1.021)/1.021, (1.028-1)/1"
   ]
  },
  {
   "cell_type": "code",
   "execution_count": null,
   "metadata": {},
   "outputs": [],
   "source": [
    "import mpmath as mp\n",
    "\n",
    "def integral(f, N, s, a, b):\n",
    "    f = partial(f, N, s)    \n",
    "    return quad(f, a, b)[0] #  limit=100\n",
    "\n",
    "def mpintegral(f, N, s, a, b):\n",
    "    f = partial(f, N, s)    \n",
    "    return mp.quad(f, [a, b], verbose=False)\n",
    "\n",
    "def I1(N, s, x):\n",
    "    if x == 1:\n",
    "        return 0\n",
    "    S = 2*N*s\n",
    "#     return np.expm1(S*x) * (np.exp(-S*x) - np.exp(-S)) / (x * (1-x)) # first term overflow so I rearranged:\n",
    "    return (np.exp(-S) - np.exp(-S*x) - np.expm1(-S*(1-x))) / (x * (1-x))\n",
    "\n",
    "def I2(N, s, x):\n",
    "    if x == 0:\n",
    "        return 0\n",
    "    S = 2*N*s\n",
    "    # use mp instad of np for high precision due to expm1(S*x)\n",
    "    return -mp.expm1(S*x) * mp.expm1(-S*x) / (x * (1-x)) \n",
    "\n",
    "def p_kimura(N, s, x0=None):\n",
    "    if x0 is None: x0 = 1 / N\n",
    "    S = 2 * N * s\n",
    "    numer = np.expm1(-S * x0)\n",
    "    denom = np.expm1(-S)\n",
    "    return numer / denom\n",
    "\n",
    "@np.vectorize\n",
    "def τ_kimura(N, w_i, w_j, x, y):\n",
    "    \"\"\"j invades i, starting at freq y and reaching freq x\n",
    "    \"\"\"\n",
    "    s = (w_j - w_i) / w_i    \n",
    "    x0, max_x, min_x = y, x, 0\n",
    "    S = 2 * N * s\n",
    "    J1 = -1.0 / (s * np.expm1(-S)) * integral(I1, N, s, x0, max_x)\n",
    "    u = p_kimura(N, s, x0)\n",
    "    # use mpintegral with mp.quad for high precision due to expm1(S*x) in I2\n",
    "    J2 = -1.0 / (s * np.expm1(-S)) * mpintegral(I2, N, s, min_x, x0)\n",
    "#     print(J1, J2, u, 1-u)\n",
    "    return J1 + ((1 - u) / u) * J2 # eq 17 in Kimura & Ohta, Genetics 1969\n"
   ]
  },
  {
   "cell_type": "code",
   "execution_count": null,
   "metadata": {},
   "outputs": [],
   "source": [
    "def T_kimura(N, μ1, μ2, δ, w_euwt, w_anwt, w_anmt, w_eumt):\n",
    "    assert w_euwt < w_anwt < w_anmt < w_eumt\n",
    "    p_euwt_eumt = 1 - (1 - p_kimura(N, (w_eumt - w_euwt) / w_euwt) * μ1)**N\n",
    "    p_euwt_anwt = 1 - (1 - p_kimura(N, (w_anwt - w_euwt) / w_euwt) * δ)**N\n",
    "    p_anwt_anmt = 1 - (1 - p_kimura(N, (w_anmt - w_anwt) / w_anwt) * μ2)**N\n",
    "    # no fix of anmt - use w_anwt; \n",
    "#     p_anmt_eumt = 1 - (1 - p_kimura(N, (w_eumt - w_anwt) / w_anwt) * δ)**N # N doesnt make sense here but it doesnt seem to matter\n",
    "    \n",
    "    δ=np.array([δ])\n",
    "    if δ.all() == 0:\n",
    "        p_anmt_eumt = 1\n",
    "    else: p_anmt_eumt = 1 - (1 - p_kimura(N, (w_eumt - w_anwt) / w_anwt) * δ)**N  # N doesnt make sense here...\n",
    "    \n",
    "\n",
    "    p_min = 1 - (1 - p_euwt_eumt) * (1 - p_euwt_anwt)\n",
    "    p_a = p_euwt_anwt / (p_euwt_eumt + p_euwt_anwt)\n",
    "    \n",
    "    # τ_kimura(N, s, x0=None, max_x=1, min_x=0)\n",
    "    τ_euwt_eumt = τ_kimura(N, w_euwt, w_eumt, x=0.95, y=np.maximum(5e-8,1/N))\n",
    "    # start with one or delta*N individuals\n",
    "    τ_euwt_anwt = τ_kimura(N, w_euwt, w_anwt, x=1-1/N, y=np.maximum(δ, 1/N)) \n",
    "    # no fix of anmt, don't count\n",
    "    # τ_anwt_anmt = τ_kimura(N, w_anwt, w_anmt, x=1-1/N, y=1/N)\n",
    "    # no fix of anmt - use w_anwt; # start with one or delta*N individuals\n",
    "    τ_anmt_eumt = τ_kimura(N, w_anwt, w_eumt, x=0.95, y=np.maximum(δ, 1/N))\n",
    "    \n",
    "    T_m = 1/p_min + τ_euwt_eumt\n",
    "    T_a = (\n",
    "        # euwt->anwt\n",
    "        1/p_min \n",
    "        + τ_euwt_anwt \n",
    "        # anwt->anmt\n",
    "        + 1/p_anwt_anmt \n",
    "#         + τ_anwt_anmt  # no fix of anmt, don't count\n",
    "        # anmt->eumt\n",
    "        + 1/p_anmt_eumt\n",
    "        + τ_anmt_eumt \n",
    "    )             \n",
    "    T =  p_a * T_a + (1 - p_a) * T_m\n",
    "    return T"
   ]
  },
  {
   "cell_type": "markdown",
   "metadata": {},
   "source": [
    "# No aneuploidy"
   ]
  },
  {
   "cell_type": "markdown",
   "metadata": {},
   "source": [
    "## Population size"
   ]
  },
  {
   "cell_type": "code",
   "execution_count": 357,
   "metadata": {},
   "outputs": [],
   "source": [
    "Nm58, msim_noaneuN_manu58=np.load('msim_noaneuN_manu58.npy',allow_pickle=True)\n",
    "Nm58 = Nm58.astype('float64')\n",
    "\n",
    "msim_noaneuN58=np.array([x for x in msim_noaneuN_manu58[0]])"
   ]
  },
  {
   "cell_type": "code",
   "execution_count": 433,
   "metadata": {},
   "outputs": [],
   "source": [
    "N, μ, δ, w_euwt, w_anwt, w_anmt, w_eumt = Nm58, 9.6e-08, 0, 1, 1.021, 1.025, 1.028"
   ]
  },
  {
   "cell_type": "code",
   "execution_count": 437,
   "metadata": {},
   "outputs": [],
   "source": [
    "T__ = T(N, μ, μ, 0, w_euwt, w_anwt, w_anmt, w_eumt)\n",
    "T_ = T_kimura(N, μ, μ, 0, w_euwt, w_anwt, w_anmt, w_eumt)"
   ]
  },
  {
   "cell_type": "code",
   "execution_count": 438,
   "metadata": {},
   "outputs": [
    {
     "data": {
      "image/png": "[encoded data removed]",
      "text/plain": [
       "<Figure size 432x288 with 1 Axes>"
      ]
     },
     "metadata": {
      "needs_background": "light"
     },
     "output_type": "display_data"
    }
   ],
   "source": [
    "mean = msim_noaneuN58.mean(axis=1)\n",
    "low = np.percentile(msim_noaneuN58, 25, axis=1)\n",
    "high = np.percentile(msim_noaneuN58, 75, axis=1)\n",
    "plt.errorbar(N, mean, [mean-low, high-mean], color='k', capsize=2, label='Mean (50% CI)')\n",
    "\n",
    "plt.plot(N, T__, label='Classic')\n",
    "plt.plot(N, T_, label='Diffusion')\n",
    "\n",
    "\n",
    "plt.xscale('log')\n",
    "#plt.yscale('log')\n",
    "plt.xlabel(\"Population size, $N$\")\n",
    "plt.ylabel('Adaptation time, $T$')\n",
    "plt.legend();"
   ]
  },
  {
   "cell_type": "markdown",
   "metadata": {},
   "source": [
    "## Mutation rate"
   ]
  },
  {
   "cell_type": "code",
   "execution_count": 428,
   "metadata": {},
   "outputs": [],
   "source": [
    "μm, msim_noaneuμ_manu=np.load('msim_noaneuμ_manu.npy',allow_pickle=True)\n",
    "μm = μm.astype('float64')\n",
    "\n",
    "msim_noaneuμ_manu=np.array([x for x in msim_noaneuμ_manu[0]])"
   ]
  },
  {
   "cell_type": "code",
   "execution_count": 429,
   "metadata": {},
   "outputs": [],
   "source": [
    "N, μ, δ, w_euwt, w_anwt, w_anmt, w_eumt = 6e6, μm, 5.4e-04, 1, 1.021,1.025, 1.028"
   ]
  },
  {
   "cell_type": "code",
   "execution_count": 430,
   "metadata": {},
   "outputs": [],
   "source": [
    "T__ = T(N, μ, μ, 0, w_euwt, w_anwt, w_anmt, w_eumt)\n",
    "T_ = T_kimura(N, μ, μ, 0, w_euwt, w_anwt, w_anmt, w_eumt)"
   ]
  },
  {
   "cell_type": "code",
   "execution_count": 431,
   "metadata": {
    "scrolled": true
   },
   "outputs": [
    {
     "data": {
      "image/png": "[encoded data removed]",
      "text/plain": [
       "<Figure size 432x288 with 1 Axes>"
      ]
     },
     "metadata": {
      "needs_background": "light"
     },
     "output_type": "display_data"
    }
   ],
   "source": [
    "mean = np.mean(msim_noaneuμ_manu, axis=1)\n",
    "low = np.percentile(msim_noaneuμ_manu, 25, axis=1)\n",
    "high = np.percentile(msim_noaneuμ_manu, 75, axis=1)\n",
    "plt.errorbar(μ, mean, [mean-low, high-mean], color='k', capsize=2, label='Mean (50% CI)')\n",
    "\n",
    "plt.plot(μ, T__, label='Classic')\n",
    "plt.plot(μ, T_, label='Diffusion')\n",
    "\n",
    "plt.xscale('log')\n",
    "plt.yscale('log')\n",
    "plt.xlabel(\"Mutation rate $2n+1$ to $2n+1^*$\")\n",
    "plt.ylabel('Adaptation time, $T$')\n",
    "plt.legend();"
   ]
  },
  {
   "cell_type": "code",
   "execution_count": null,
   "metadata": {},
   "outputs": [],
   "source": []
  }
 ],
 "metadata": {
  "kernelspec": {
   "display_name": "Python 3",
   "language": "python",
   "name": "python3"
  },
  "language_info": {
   "codemirror_mode": {
    "name": "ipython",
    "version": 3
   },
   "file_extension": ".py",
   "mimetype": "text/x-python",
   "name": "python",
   "nbconvert_exporter": "python",
   "pygments_lexer": "ipython3",
   "version": "3.8.5"
  }
 },
 "nbformat": 4,
 "nbformat_minor": 4
}
