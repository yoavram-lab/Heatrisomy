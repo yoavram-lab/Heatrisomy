{
 "cells": [
  {
   "cell_type": "code",
   "execution_count": 2,
   "metadata": {},
   "outputs": [],
   "source": [
    "%matplotlib inline\n",
    "import matplotlib.pyplot as plt\n",
    "import numpy as np\n",
    "from functools import partial\n",
    "from scipy.integrate import quad"
   ]
  },
  {
   "cell_type": "code",
   "execution_count": 40,
   "metadata": {},
   "outputs": [],
   "source": [
    "from scipy.optimize import curve_fit"
   ]
  },
  {
   "cell_type": "code",
   "execution_count": 109,
   "metadata": {},
   "outputs": [],
   "source": [
    "def τ(w_i, w_j, x, y):\n",
    "    \"\"\"j invades i, starting at freq y and reaching freq x\n",
    "    \"\"\"\n",
    "    return np.log((x * (1-y)) / ((1-x) * y)) / np.log(w_j / w_i)\n",
    "\n",
    "\n",
    "def T(N, μ1, μ2, δ, w_euwt, w_anwt, w_anmt, w_eumt, x_0=0, PLOT_N=False, PLOT_δ=False ):\n",
    "    assert w_euwt < w_anwt < w_anmt < w_eumt\n",
    "    p_euwt_eumt = 1 - (1 - 2*((w_eumt - w_euwt) / w_euwt) * μ1)**N\n",
    "    p_euwt_anwt = 1 - (1 - 2*((w_anwt - w_euwt) / w_euwt) * δ)**N\n",
    "    p_anwt_anmt = 1 - (1 - 2*((w_anmt - w_anwt) / w_anwt) * μ2)**N\n",
    "    # no fix of anmt - use w_anwt; \n",
    "    δ=np.array([δ])\n",
    "    if δ.all() == 0:\n",
    "        p_anmt_eumt = 1\n",
    "    else: p_anmt_eumt = 1 - (1 - 2*((w_eumt - w_anwt) / w_anwt) * δ)**N # N doesnt make sense here...\n",
    "    \n",
    "\n",
    "    \n",
    "    p_min = 1 - (1 - p_euwt_eumt) * (1 - p_euwt_anwt)\n",
    "    p_a = p_euwt_anwt / (p_euwt_eumt + p_euwt_anwt)\n",
    "    \n",
    "    # \n",
    "    τ_euwt_eumt = τ(w_euwt, w_eumt, x=0.95, y=np.maximum(x_0,1/N))\n",
    "    # start with one or delta*N individuals  # why delta*N and not 2*s*delta*N\n",
    "    τ_euwt_anwt = τ(w_euwt, w_anwt, x=1-1/N, y=np.maximum(δ, 1/N)) \n",
    "    # \n",
    "    τ_anwt_anmt = τ(w_anwt, w_anmt, x=1-1/N, y=np.maximum(μ2,1/N))\n",
    "     # no fix of anmt - use w_anwt; # start with one or delta*N individuals\n",
    "    τ_anmt_eumt = τ(w_anwt, w_eumt, x=0.95, y=np.maximum(δ, 1/N))\n",
    "    \n",
    "    T_m = 1/p_min + τ_euwt_eumt\n",
    "    T_a = (\n",
    "        1/p_min \n",
    "        + 1/p_anwt_anmt \n",
    "        + 1/p_anmt_eumt \n",
    "        + τ_euwt_anwt  \n",
    "#        + τ_anwt_anmt  # no fix of anmt, don't count\n",
    "        + τ_anmt_eumt \n",
    "    )             \n",
    "    T =  p_a * T_a + (1 - p_a) * T_m\n",
    "    \n",
    "    if PLOT_N:\n",
    "        plt.plot(N, 1/p_min, label='T_min', color='blue')\n",
    "        plt.plot(N, 1/p_anwt_anmt, label='T_anwt_anmt', color='orange' )\n",
    "        plt.plot(N, 1/p_anmt_eumt, label='T_anmt_eumt', color='red' )\n",
    "        plt.plot(N, τ_euwt_anwt, '--', label='τ_euwt_anwt', color='orange')\n",
    "        plt.plot(N, τ_anwt_anmt, '--', label='τ_anwt_anmt', color='red')\n",
    "        plt.plot(N, τ_anmt_eumt, '--', label='τ_anmt_eumt', color='purple')\n",
    "        plt.legend()\n",
    "#         plt.yscale('log')\n",
    "        plt.xscale('log')\n",
    "        plt.ylim(0, None)\n",
    "        \n",
    "    if PLOT_δ:\n",
    "        plt.plot(δ, 1/p_min, label='T_min', color='blue')\n",
    "        plt.plot(δ, [1/p_anwt_anmt for d in δ], label='T_anwt_anmt', color='orange' )\n",
    "        plt.plot(δ, 1/p_anmt_eumt, label='T_anmt_eumt', color='red' )\n",
    "        plt.plot(δ, τ_euwt_anwt, '--', label='τ_euwt_anwt', color='orange')\n",
    "        plt.plot(δ, [τ_anwt_anmt for d in δ], '--', label='τ_anwt_anmt', color='red')\n",
    "        plt.plot(δ, τ_anmt_eumt, '--', label='τ_anmt_eumt', color='purple')\n",
    "        plt.legend()\n",
    "#         plt.yscale('log')\n",
    "        plt.xscale('log')\n",
    "        plt.ylim(0, None)\n",
    "    return T"
   ]
  },
  {
   "cell_type": "code",
   "execution_count": 245,
   "metadata": {},
   "outputs": [
    {
     "data": {
      "text/plain": [
       "(8.566329565735332e-06,\n",
       " 4.700505831984894e-05,\n",
       " 0.0007840000000000014,\n",
       " 0.00044099999999999614)"
      ]
     },
     "execution_count": 245,
     "metadata": {},
     "output_type": "execute_result"
    }
   ],
   "source": [
    "((1.028-1.025)/1.025)**2, ((1.028-1.021)/1.021)**2, ((1.028-1)/1)**2, ((1.021-1)/1)**2"
   ]
  },
  {
   "cell_type": "code",
   "execution_count": 5,
   "metadata": {},
   "outputs": [],
   "source": [
    "import mpmath as mp\n",
    "\n",
    "def integral(f, N, s, a, b):\n",
    "    f = partial(f, N, s)    \n",
    "    return quad(f, a, b)[0] #  limit=100\n",
    "\n",
    "def mpintegral(f, N, s, a, b):\n",
    "    f = partial(f, N, s)    \n",
    "    return mp.quad(f, [a, b], verbose=False)\n",
    "\n",
    "def I1(N, s, x):\n",
    "    if x == 1:\n",
    "        return 0\n",
    "    S = 2*N*s\n",
    "#     return np.expm1(S*x) * (np.exp(-S*x) - np.exp(-S)) / (x * (1-x)) # first term overflow so I rearranged:\n",
    "    return (np.exp(-S) - np.exp(-S*x) - np.expm1(-S*(1-x))) / (x * (1-x))\n",
    "\n",
    "def I2(N, s, x):\n",
    "    if x == 0:\n",
    "        return 0\n",
    "    S = 2*N*s\n",
    "    # use mp instad of np for high precision due to expm1(S*x)\n",
    "    return -mp.expm1(S*x) * mp.expm1(-S*x) / (x * (1-x)) \n",
    "\n",
    "def p_kimura(N, s, x0=None):\n",
    "    if x0 is None: x0 = 1 / N\n",
    "    S = 2 * N * s\n",
    "    numer = np.expm1(-S * x0)\n",
    "    denom = np.expm1(-S)\n",
    "    return numer / denom\n",
    "\n",
    "@np.vectorize\n",
    "def τ_kimura(N, w_i, w_j, x, y):\n",
    "    \"\"\"j invades i, starting at freq y and reaching freq x\n",
    "    \"\"\"\n",
    "    s = (w_j - w_i) / w_i    \n",
    "    x0, max_x, min_x = y, x, 0\n",
    "    S = 2 * N * s\n",
    "    J1 = -1.0 / (s * np.expm1(-S)) * integral(I1, N, s, x0, max_x)\n",
    "    u = p_kimura(N, s, x0)\n",
    "    # use mpintegral with mp.quad for high precision due to expm1(S*x) in I2\n",
    "    J2 = -1.0 / (s * np.expm1(-S)) * mpintegral(I2, N, s, min_x, x0)\n",
    "#     print(J1, J2, u, 1-u)\n",
    "    return J1 + ((1 - u) / u) * J2 # eq 17 in Kimura & Ohta, Genetics 1969\n"
   ]
  },
  {
   "cell_type": "code",
   "execution_count": 108,
   "metadata": {},
   "outputs": [],
   "source": [
    "def T_kimura(N, μ1, μ2, δ, w_euwt, w_anwt, w_anmt, w_eumt, x_0=0):\n",
    "    assert w_euwt < w_anwt < w_anmt < w_eumt\n",
    "    p_euwt_eumt = 1 - (1 - p_kimura(N, (w_eumt - w_euwt) / w_euwt) * μ1)**N\n",
    "    p_euwt_anwt = 1 - (1 - p_kimura(N, (w_anwt - w_euwt) / w_euwt) * δ)**N\n",
    "    p_anwt_anmt = 1 - (1 - p_kimura(N, (w_anmt - w_anwt) / w_anwt) * μ2)**N\n",
    "    # no fix of anmt - use w_anwt; \n",
    "#     p_anmt_eumt = 1 - (1 - p_kimura(N, (w_eumt - w_anwt) / w_anwt) * δ)**N # N doesnt make sense here but it doesnt seem to matter\n",
    "    \n",
    "    δ=np.array([δ])\n",
    "    if δ.all() == 0:\n",
    "        p_anmt_eumt = 1\n",
    "    else: p_anmt_eumt = 1 - (1 - p_kimura(N, (w_eumt - w_anwt) / w_anwt) * δ)**N  # N doesnt make sense here...\n",
    "    \n",
    "\n",
    "    p_min = 1 - (1 - p_euwt_eumt) * (1 - p_euwt_anwt)\n",
    "    p_a = p_euwt_anwt / (p_euwt_eumt + p_euwt_anwt)\n",
    "    \n",
    "    # τ_kimura(N, s, x0=None, max_x=1, min_x=0)\n",
    "    τ_euwt_eumt = τ_kimura(N, w_euwt, w_eumt, x=0.95, y=np.maximum(x_0,1/N))\n",
    "    # start with one or delta*N individuals\n",
    "    τ_euwt_anwt = τ_kimura(N, w_euwt, w_anwt, x=1-1/N, y=np.maximum(δ, 1/N)) \n",
    "    # no fix of anmt, don't count\n",
    "    # τ_anwt_anmt = τ_kimura(N, w_anwt, w_anmt, x=1-1/N, y=1/N)\n",
    "    # no fix of anmt - use w_anwt; # start with one or delta*N individuals\n",
    "    τ_anmt_eumt = τ_kimura(N, w_anwt, w_eumt, x=0.95, y=np.maximum(δ, 1/N))\n",
    "    \n",
    "    T_m = 1/p_min + τ_euwt_eumt\n",
    "    T_a = (\n",
    "        # euwt->anwt\n",
    "        1/p_min \n",
    "        + τ_euwt_anwt \n",
    "        # anwt->anmt\n",
    "        + 1/p_anwt_anmt \n",
    "#         + τ_anwt_anmt  # no fix of anmt, don't count\n",
    "        # anmt->eumt\n",
    "        + 1/p_anmt_eumt\n",
    "        + τ_anmt_eumt \n",
    "    )             \n",
    "    T =  p_a * T_a + (1 - p_a) * T_m\n",
    "    return T"
   ]
  },
  {
   "cell_type": "markdown",
   "metadata": {},
   "source": [
    "# No aneuploidy"
   ]
  },
  {
   "cell_type": "markdown",
   "metadata": {},
   "source": [
    "## Population size"
   ]
  },
  {
   "cell_type": "code",
   "execution_count": 7,
   "metadata": {},
   "outputs": [],
   "source": [
    "Nm58, msim_noaneuN_manu58=np.load('msim_noaneuN_manu58.npy',allow_pickle=True)\n",
    "Nm58 = Nm58.astype('float64')\n",
    "\n",
    "msim_noaneuN58=np.array([x for x in msim_noaneuN_manu58[0]])"
   ]
  },
  {
   "cell_type": "code",
   "execution_count": 250,
   "metadata": {},
   "outputs": [],
   "source": [
    "N, μ, δ, w_euwt, w_anwt, w_anmt, w_eumt = Nm58, 9.6e-08, 0, 1, 1.021, 1.025, 1.028"
   ]
  },
  {
   "cell_type": "code",
   "execution_count": 251,
   "metadata": {
    "scrolled": false
   },
   "outputs": [],
   "source": [
    "T__ = T(N, μ, μ, 0, w_euwt, w_anwt, w_anmt, w_eumt) #, x_0=35*μ)\n",
    "T_ = T_kimura(N, μ, μ, 0, w_euwt, w_anwt, w_anmt, w_eumt) #,x_0=35*μ)"
   ]
  },
  {
   "cell_type": "code",
   "execution_count": 253,
   "metadata": {
    "scrolled": true
   },
   "outputs": [
    {
     "data": {
      "image/png": "[encoded data removed]",
      "text/plain": [
       "<Figure size 432x288 with 1 Axes>"
      ]
     },
     "metadata": {
      "needs_background": "light"
     },
     "output_type": "display_data"
    }
   ],
   "source": [
    "mean = msim_noaneuN58.mean(axis=1)\n",
    "low = np.percentile(msim_noaneuN58, 25, axis=1)\n",
    "high = np.percentile(msim_noaneuN58, 75, axis=1)\n",
    "plt.errorbar(N, mean, [mean-low, high-mean], color='k', capsize=2, label='Mean (50% CI)')\n",
    "\n",
    "plt.plot(N, T__, label='Classic')\n",
    "plt.plot(N, T_, label='Diffusion')\n",
    "\n",
    "\n",
    "plt.xscale('log')\n",
    "#plt.yscale('log')\n",
    "#plt.xlim([1e7,1e8])\n",
    "#plt.ylim([500,700])\n",
    "plt.xlabel(\"Population size, $N$\")\n",
    "plt.ylabel('Adaptation time, $T$')\n",
    "plt.legend();"
   ]
  },
  {
   "cell_type": "code",
   "execution_count": 227,
   "metadata": {},
   "outputs": [
    {
     "data": {
      "text/plain": [
       "array([  0.336     ,   0.38686704,   0.44543856,   0.51287376,\n",
       "         0.59052336,   0.67992288,   0.7828632 ,   0.90138384,\n",
       "         1.03785024,   1.19497728,   1.37588976,   1.58419296,\n",
       "         1.82403312,   2.1001848 ,   2.4181416 ,   2.78423712,\n",
       "         3.2057592 ,   3.69109776,   4.2499128 ,   4.89332928,\n",
       "         5.63415552,   6.48714192,   7.46926656,   8.60007792,\n",
       "         9.90209136,  11.40122256,  13.12731504,  15.11473152,\n",
       "        17.40303264,  20.03777328,  23.07139968,  26.56430448,\n",
       "        30.58601616,  35.21660016,  40.54823136,  46.68704544,\n",
       "        53.75525232,  61.89354864,  71.26394688,  82.0529808 ,\n",
       "        94.47542496, 108.778572  , 125.24714832, 144.20898912,\n",
       "       166.04156688, 191.1794976 , 220.1231928 , 253.448832  ,\n",
       "       291.81982032, 336.        ])"
      ]
     },
     "execution_count": 227,
     "metadata": {},
     "output_type": "execute_result"
    }
   ],
   "source": [
    "35*μ*N"
   ]
  },
  {
   "cell_type": "markdown",
   "metadata": {},
   "source": [
    "## Mutation rate"
   ]
  },
  {
   "cell_type": "code",
   "execution_count": 208,
   "metadata": {},
   "outputs": [],
   "source": [
    "μm, msim_noaneuμ_manu=np.load('msim_noaneuμ_manu.npy',allow_pickle=True)\n",
    "μm = μm.astype('float64')\n",
    "\n",
    "msim_noaneuμ_manu=np.array([x for x in msim_noaneuμ_manu[0]])"
   ]
  },
  {
   "cell_type": "code",
   "execution_count": 230,
   "metadata": {},
   "outputs": [],
   "source": [
    "N, μ, δ, w_euwt, w_anwt, w_anmt, w_eumt = 6e6, μm, 0, 1, 1.021,1.025, 1.028"
   ]
  },
  {
   "cell_type": "code",
   "execution_count": 246,
   "metadata": {},
   "outputs": [],
   "source": [
    "T__ = T(N, μ, μ, 0, w_euwt, w_anwt, w_anmt, w_eumt) #, x_0=35*μ)\n",
    "T_ = T_kimura(N, μ, μ, 0, w_euwt, w_anwt, w_anmt, w_eumt) #, x_0=35*μ)"
   ]
  },
  {
   "cell_type": "code",
   "execution_count": 247,
   "metadata": {
    "scrolled": false
   },
   "outputs": [
    {
     "data": {
      "image/png": "[encoded data removed]",
      "text/plain": [
       "<Figure size 432x288 with 1 Axes>"
      ]
     },
     "metadata": {
      "needs_background": "light"
     },
     "output_type": "display_data"
    }
   ],
   "source": [
    "mean = np.mean(msim_noaneuμ_manu, axis=1)\n",
    "low = np.percentile(msim_noaneuμ_manu, 25, axis=1)\n",
    "high = np.percentile(msim_noaneuμ_manu, 75, axis=1)\n",
    "plt.errorbar(μ, mean, [mean-low, high-mean], color='k', capsize=2, label='Mean (50% CI)')\n",
    "\n",
    "plt.plot(μ, T__, label='Classic')\n",
    "plt.plot(μ, T_, label='Diffusion')\n",
    "\n",
    "plt.xscale('log')\n",
    "#plt.yscale('log')\n",
    "#plt.xlim([1e-8,1e-7])\n",
    "#plt.ylim([530,1000])\n",
    "plt.xlabel(\"Mutation rate $2n+1$ to $2n+1^*$\")\n",
    "plt.ylabel('Adaptation time, $T$')\n",
    "plt.legend();"
   ]
  },
  {
   "cell_type": "code",
   "execution_count": 217,
   "metadata": {},
   "outputs": [
    {
     "data": {
      "text/plain": [
       "array([ 0.222     ,  0.23732226,  0.25370206,  0.27121237,  0.28993123,\n",
       "        0.30994206,  0.33133401,  0.35420242,  0.37864919,  0.40478326,\n",
       "        0.43272107,  0.46258714,  0.49451454,  0.52864554,  0.56513223,\n",
       "        0.60413721,  0.64583428,  0.69040924,  0.73806074,  0.78900111,\n",
       "        0.84345734,  0.90167209,  0.96390478,  1.03043272,  1.10155237,\n",
       "        1.17758064,  1.25885631,  1.34574158,  1.43862359,  1.53791625,\n",
       "        1.644062  ,  1.75753385,  1.87883744,  2.00851331,  2.1471393 ,\n",
       "        2.29533315,  2.45375521,  2.62311145,  2.80415651,  2.99769716,\n",
       "        3.20459584,  3.42577449,  3.66221872,  3.91498215,  4.1851911 ,\n",
       "        4.47404966,  4.78284501,  5.11295317,  5.46584513,  5.84309341,\n",
       "        6.24637907,  6.67749919,  7.13837487,  7.63105983,  8.15774951,\n",
       "        8.72079089,  9.32269294,  9.96613779, 10.6539927 , 11.3893228 ,\n",
       "       12.1754048 , 13.01574155, 13.91407768, 14.87441626, 15.90103664,\n",
       "       16.99851354, 18.17173742, 19.42593628, 20.76669896, 22.2       ])"
      ]
     },
     "execution_count": 217,
     "metadata": {},
     "output_type": "execute_result"
    }
   ],
   "source": [
    "37*μ*N"
   ]
  },
  {
   "cell_type": "code",
   "execution_count": 240,
   "metadata": {},
   "outputs": [
    {
     "data": {
      "text/plain": [
       "[<matplotlib.lines.Line2D at 0x14900340880>]"
      ]
     },
     "execution_count": 240,
     "metadata": {},
     "output_type": "execute_result"
    },
    {
     "data": {
      "image/png": "[encoded data removed]",
      "text/plain": [
       "<Figure size 432x288 with 1 Axes>"
      ]
     },
     "metadata": {
      "needs_background": "light"
     },
     "output_type": "display_data"
    }
   ],
   "source": [
    "n=np.arange(1,1000)\n",
    "plt.plot(n,τ_kimura(1e8, w_euwt, w_eumt, x=0.95, y=1/1e8)-τ_kimura(1e8, w_euwt, w_eumt, x=0.95, y=n/1e8))"
   ]
  },
  {
   "cell_type": "code",
   "execution_count": 241,
   "metadata": {},
   "outputs": [
    {
     "data": {
      "text/plain": [
       "array(mpf('679.71188716338872'), dtype=object)"
      ]
     },
     "execution_count": 241,
     "metadata": {},
     "output_type": "execute_result"
    }
   ],
   "source": [
    "τ_kimura(1e8, w_euwt, w_eumt, x=0.95, y=1/1e8)"
   ]
  },
  {
   "cell_type": "code",
   "execution_count": null,
   "metadata": {},
   "outputs": [],
   "source": []
  }
 ],
 "metadata": {
  "kernelspec": {
   "display_name": "Python 3",
   "language": "python",
   "name": "python3"
  },
  "language_info": {
   "codemirror_mode": {
    "name": "ipython",
    "version": 3
   },
   "file_extension": ".py",
   "mimetype": "text/x-python",
   "name": "python",
   "nbconvert_exporter": "python",
   "pygments_lexer": "ipython3",
   "version": "3.8.5"
  }
 },
 "nbformat": 4,
 "nbformat_minor": 4
}
