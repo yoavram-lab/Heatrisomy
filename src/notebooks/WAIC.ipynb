{
 "cells": [
  {
   "cell_type": "code",
   "execution_count": 1,
   "metadata": {},
   "outputs": [],
   "source": [
    "import pyabc\n",
    "import scipy\n",
    "import numpy as np\n",
    "from pyabc.visualization import plot_kde_matrix_highlevel,plot_kde_matrix2\n",
    "from datetime import datetime\n",
    "import pandas as pd\n",
    "from arviz import hdi\n",
    "from pyabc.visualization import plot_kde_matrix_highlevel, plot_kde_matrix\n",
    "import numpy as np\n",
    "import matplotlib.pyplot as plt\n",
    "\n",
    "path = '../../results'\n",
    "output_path = '../../figures'\n",
    "\n",
    "f_no_aneuploidy = 'no-aneuploidy'\n",
    "f_with_aneuploidy = 'basic-prior'\n",
    "f_fixedm5 = 'fixedmr_5' \n",
    "f_fixedm6 = 'fixedmr_6'\n",
    "f_fixedm7 = 'fixedmr_7'\n",
    "f_fixedm36 = 'fixedmr_36' #3*10^-6\n",
    "f_prior4 = 'extended-prior' # 0.370941 epsilon #bug it is not 1000 reps, it is 100, rerun\n",
    "f_neutral = 'neutral-aneuploidy'\n",
    "# f_wider_range = '2022-02-13-wider-mutation-rate-r100'"
   ]
  },
  {
   "cell_type": "code",
   "execution_count": 24,
   "metadata": {},
   "outputs": [],
   "source": [
    "k1 = 'basic-prior'\n",
    "k2 = 'tau2' \n",
    "k103125 = 'tau3332'\n",
    "k5 = 'tau5' \n",
    "k10 = 'tau10'\n",
    "k100 = 'tau100'\n",
    "allf = [k1, k103125, k2, k5, k10, k100]"
   ]
  },
  {
   "cell_type": "code",
   "execution_count": 25,
   "metadata": {},
   "outputs": [
    {
     "name": "stdout",
     "output_type": "stream",
     "text": [
      "termination times:\n",
      "basic-prior 0.12659\n",
      "no-aneuploidy 0.26716\n",
      "extended-prior 0.37094\n",
      "neutral-aneuploidy 0.18438\n",
      "fixedmr_5 0.12735\n",
      "fixedmr_6 0.12957\n",
      "fixedmr_7 0.12996\n",
      "fixedmr_36 0.12788\n",
      "basic-prior 0.12659\n",
      "tau3332 0.12827\n",
      "tau2 0.12688\n",
      "tau5 0.1277\n",
      "tau10 0.12719\n",
      "tau100 0.13082\n"
     ]
    }
   ],
   "source": [
    "print('termination times:')\n",
    "for f in [f_with_aneuploidy, f_no_aneuploidy, f_prior4, f_neutral, f_fixedm5, f_fixedm6, f_fixedm7, f_fixedm36]+allf:\n",
    "    history = pyabc.History(\"sqlite:///{0}/{1}/{1}.db\".format(path, f))\n",
    "    print(f, round(history.get_all_populations()['epsilon'].values[-1],5))"
   ]
  },
  {
   "cell_type": "code",
   "execution_count": 26,
   "metadata": {},
   "outputs": [],
   "source": [
    "from scipy.special import logsumexp\n",
    "\n",
    "def WAIC_with_weights(likelihoods, rounding=None, weights = None):\n",
    "    if not weights:\n",
    "        weights = [1/len(likelihoods)]*len(likelihoods)\n",
    "    loglik_E = np.log(sum(a*b for a,b in zip(weights,likelihoods)))\n",
    "    #for p2\n",
    "    E_loglik = sum(a*np.log(b) for a,b in zip(weights,likelihoods))\n",
    "    p2 = sum((w*(l-E_loglik)**2 for w,l in zip(weights,np.log(likelihoods))))\n",
    "    ans =  -2*loglik_E + 2*p2\n",
    "    if rounding:\n",
    "        ans = round(ans, rounding)\n",
    "    return ans\n",
    "\n",
    "def WAIC_for_weighted_samples(f, tminus=0):\n",
    "    # TODO maybe it should be calculated using kde samples...\n",
    "    history = pyabc.History(\"sqlite:///{0}/{1}/{1}.db\".format(path,f))\n",
    "    hist_stats = history.get_weighted_sum_stats(t=history.max_t-tminus)\n",
    "    likelihoods = [a['res']-1 for a in hist_stats[1]]\n",
    "    likelihoods = -np.array(likelihoods) + 0.000001\n",
    "    weights = hist_stats[0]\n",
    "    return WAIC_with_weights(likelihoods, weights)\n",
    "\n",
    "# just another implementation for sanity check\n",
    "def WAIC_version2(logliks, ddof=0): \n",
    "    l_logliks = [np.log(l) for l in logliks]\n",
    "    l_logliks = np.array(l_logliks)\n",
    "    S = len(l_logliks)\n",
    "    llpd = -np.log(S) + logsumexp(l_logliks)\n",
    "#     p1 = 2*(-np.log(S) + logsumexp(l_logliks) - l_logliks.mean())\n",
    "    p2 = np.var(l_logliks, ddof=ddof)\n",
    "    return -2*(llpd + -p2)\n",
    "\n",
    "# bootstraping WAIC\n",
    "def bootstrap(likelihoods, roundd=1, n=1000, sampling_size=1000):\n",
    "    n = 1000\n",
    "    WAICs = []\n",
    "    for _ in range(n):\n",
    "        choice = np.random.choice(likelihoods, size = sampling_size, replace=True)\n",
    "        WAICs.append(WAIC_with_weights(choice))\n",
    "    alpha=0.95\n",
    "    ordered = np.sort(np.array(WAICs))\n",
    "    lower = np.percentile(ordered, 100*(1-alpha)/2)\n",
    "    upper = np.percentile(ordered, 100*(alpha+((1-alpha)/2)))\n",
    "    return (round(np.median(ordered),roundd),round(lower,roundd),round(upper,roundd))\n",
    "\n",
    "def getl(arr, add=0):\n",
    "    return [a[1]+add for a in arr] "
   ]
  },
  {
   "cell_type": "code",
   "execution_count": 27,
   "metadata": {},
   "outputs": [],
   "source": [
    "class W_RV(pyabc.RVBase):\n",
    "    def __init__(self):\n",
    "        l = np.load('../../data/evo39_fitness_39deg.npz')\n",
    "        self.kde = scipy.stats.gaussian_kde(l['arr_0'])\n",
    "    def rvs(self, *args, **kwargs):\n",
    "        return self.kde.resample(1)[0][0]\n",
    "    def pdf(self, x, *args, **kwargs):\n",
    "        return self.kde.pdf(x)[0]\n",
    "    def copy(self):\n",
    "        raise NotImplementedError('copy')\n",
    "    def pmf(self, x, *args, **kwargs):\n",
    "        raise NotImplementedError('pmf')\n",
    "    def cdf(self, x, *args, **kwargs):\n",
    "        raise NotImplementedError('cdf')\n",
    "        \n",
    "class D_RV(pyabc.RVBase):\n",
    "    def __init__(self):\n",
    "        l = np.load('../../data/refined_vs_evo39_fitness_39deg.npz')\n",
    "        self.kde = scipy.stats.gaussian_kde(l['arr_0'])\n",
    "    def rvs(self, *args, **kwargs):\n",
    "        return self.kde.resample(1)[0][0]\n",
    "    def pdf(self, x, *args, **kwargs):\n",
    "        return self.kde.pdf(x)[0]\n",
    "    def copy(self):\n",
    "        raise NotImplementedError('copy')\n",
    "    def pmf(self, x, *args, **kwargs):\n",
    "        raise NotImplementedError('pmf')\n",
    "    def cdf(self, x, *args, **kwargs):\n",
    "        raise NotImplementedError('cdf')\n",
    "        \n",
    "prior = pyabc.Distribution(p1_mr=pyabc.RV(\"uniform\", 10.0**-9, 10.0**-5-10.0**-9)\n",
    "                            ,p2_tr=pyabc.RV(\"uniform\", 10.0**-6, 10.0**-2-10.0**-6)\n",
    "                            ,p3_w1=W_RV()\n",
    "                            ,p4_w2=W_RV()\n",
    "                            ,p5_w3=W_RV())\n",
    "\n",
    "prior_alt = pyabc.Distribution(p1_mr=pyabc.RV(\"uniform\", 10.0**-9, 10.0**-5-10.0**-9)\n",
    "                            ,p2_tr=pyabc.RV(\"uniform\", 10.0**-6, 10.0**-2-10.0**-6)\n",
    "                            ,p3_w1=W_RV()\n",
    "                            ,p4_w2=D_RV()\n",
    "                            ,p5_w3=D_RV())\n",
    "\n",
    "prior_fixed_mr = pyabc.Distribution(p2_tr=pyabc.RV(\"uniform\", 10.0**-6, 10.0**-2-10.0**-6)\n",
    "                            ,p3_w1=W_RV()\n",
    "                            ,p4_w2=W_RV()\n",
    "                            ,p5_w3=W_RV())\n",
    "\n",
    "prior_no_aneuploidy = pyabc.Distribution(p1_mr=pyabc.RV(\"uniform\", 10.0**-9, 10.0**-5-10.0**-9)\n",
    "                        ,p5_w3=W_RV())\n",
    "\n",
    "def WAIC_for(f, fixed_mut_rate=False, no_aneuploidy=False, alt_prior=False):\n",
    "    history = pyabc.History(\"sqlite:///{0}/{1}/{1}.db\".format(path, f))\n",
    "    samples, weights = history.get_distribution(m=0, t=None)\n",
    "    columns = list(samples.columns)\n",
    "    kde = scipy.stats.gaussian_kde(samples.T.values.tolist(), weights=weights)\n",
    "    size = 50000\n",
    "    samples = kde.resample(size)\n",
    "    posteriors = kde.pdf(samples)\n",
    "    if fixed_mut_rate:\n",
    "        priors = [prior_fixed_mr.pdf(dict(zip(['p2_tr','p3_w1','p4_w2','p5_w3'],s)))+1e-6 for s in samples.T]\n",
    "    elif no_aneuploidy:\n",
    "        priors = [prior_no_aneuploidy.pdf(dict(zip(['p1_mr','p5_w3'],s)))+1e-6 for s in samples.T]\n",
    "    elif alt_prior:\n",
    "        priors = [prior_alt.pdf(dict(zip(['p1_mr','p2_tr','p3_w1','p4_w2','p5_w3'],s)))+1e-6 for s in samples.T]\n",
    "    else:\n",
    "        priors = [prior.pdf(dict(zip(['p1_mr','p2_tr','p3_w1','p4_w2','p5_w3'],s)))+1e-6 for s in samples.T]\n",
    "    likelihoods = posteriors/priors \n",
    "    return round(WAIC_with_weights(likelihoods))"
   ]
  },
  {
   "cell_type": "code",
   "execution_count": 28,
   "metadata": {},
   "outputs": [
    {
     "data": {
      "text/plain": [
       "[{'Model': 'Without aneuploidy', 'WAIC': -35},\n",
       " {'Model': 'Fixed mutation rate, $\\\\mu=10^{{-{5}}}$, $\\\\tau=1$', 'WAIC': -16},\n",
       " {'Model': 'Fixed mutation rate, $\\\\mu=10^{{-{6}}}$, $\\\\tau=1$', 'WAIC': -38},\n",
       " {'Model': 'Fixed mutation rate, $\\\\mu=10^{{-{7}}}$, $\\\\tau=1$', 'WAIC': -53},\n",
       " {'Model': 'Free mutation rate, $\\\\tau=1$', 'WAIC': 291},\n",
       " {'Model': 'Free mutation rate, $\\\\tau=33/32$', 'WAIC': 264},\n",
       " {'Model': 'Free mutation rate, $\\\\tau=2$', 'WAIC': 503},\n",
       " {'Model': 'Free mutation rate, $\\\\tau=5$', 'WAIC': 383},\n",
       " {'Model': 'Free mutation rate, $\\\\tau=10$', 'WAIC': 317},\n",
       " {'Model': 'Free mutation rate, $\\\\tau=100$', 'WAIC': 319}]"
      ]
     },
     "execution_count": 28,
     "metadata": {},
     "output_type": "execute_result"
    }
   ],
   "source": [
    "results = []\n",
    "results.append(dict(Model='Without aneuploidy', WAIC=WAIC_for(f_no_aneuploidy, fixed_mut_rate=False, no_aneuploidy=True)))\n",
    "results.append(dict(Model='Fixed mutation rate, $\\mu=10^{{-{5}}}$, $\\\\tau=1$', WAIC=WAIC_for(f_fixedm5, fixed_mut_rate=True)))\n",
    "results.append(dict(Model='Fixed mutation rate, $\\mu=10^{{-{6}}}$, $\\\\tau=1$', WAIC=WAIC_for(f_fixedm6, fixed_mut_rate=True)))\n",
    "results.append(dict(Model='Fixed mutation rate, $\\mu=10^{{-{7}}}$, $\\\\tau=1$', WAIC=WAIC_for(f_fixedm7, fixed_mut_rate=True)))\n",
    "labels = ['Free mutation rate, $\\\\tau=1$','Free mutation rate, $\\\\tau=33/32$',\n",
    "          'Free mutation rate, $\\\\tau=2$','Free mutation rate, $\\\\tau=5$','Free mutation rate, $\\\\tau=10$',\n",
    "          'Free mutation rate, $\\\\tau=100$']\n",
    "for l, f in zip(labels, allf):\n",
    "    waic = WAIC_for(f)\n",
    "    results.append(dict(Model=l, WAIC=waic))\n",
    "results"
   ]
  },
  {
   "cell_type": "code",
   "execution_count": 29,
   "metadata": {},
   "outputs": [
    {
     "data": {
      "text/plain": [
       "[{'Model': 'Without aneuploidy', 'WAIC': -35},\n",
       " {'Model': 'Fixed mutation rate, $\\\\mu=10^{{-{5}}}$, $\\\\tau=1$', 'WAIC': -16},\n",
       " {'Model': 'Fixed mutation rate, $\\\\mu=10^{{-{6}}}$, $\\\\tau=1$', 'WAIC': -39},\n",
       " {'Model': 'Fixed mutation rate, $\\\\mu=10^{{-{7}}}$, $\\\\tau=1$', 'WAIC': -53},\n",
       " {'Model': 'Free mutation rate, $\\\\tau=1$', 'WAIC': 290},\n",
       " {'Model': 'Free mutation rate, $\\\\tau=33/32$', 'WAIC': 264},\n",
       " {'Model': 'Free mutation rate, $\\\\tau=2$', 'WAIC': 501},\n",
       " {'Model': 'Free mutation rate, $\\\\tau=5$', 'WAIC': 376},\n",
       " {'Model': 'Free mutation rate, $\\\\tau=10$', 'WAIC': 319},\n",
       " {'Model': 'Free mutation rate, $\\\\tau=100$', 'WAIC': 314}]"
      ]
     },
     "execution_count": 29,
     "metadata": {},
     "output_type": "execute_result"
    }
   ],
   "source": [
    "#running again, simillar results\n",
    "results = []\n",
    "results.append(dict(Model='Without aneuploidy', WAIC=WAIC_for(f_no_aneuploidy, fixed_mut_rate=False, no_aneuploidy=True)))\n",
    "results.append(dict(Model='Fixed mutation rate, $\\mu=10^{{-{5}}}$, $\\\\tau=1$', WAIC=WAIC_for(f_fixedm5, fixed_mut_rate=True)))\n",
    "results.append(dict(Model='Fixed mutation rate, $\\mu=10^{{-{6}}}$, $\\\\tau=1$', WAIC=WAIC_for(f_fixedm6, fixed_mut_rate=True)))\n",
    "results.append(dict(Model='Fixed mutation rate, $\\mu=10^{{-{7}}}$, $\\\\tau=1$', WAIC=WAIC_for(f_fixedm7, fixed_mut_rate=True)))\n",
    "labels = ['Free mutation rate, $\\\\tau=1$','Free mutation rate, $\\\\tau=33/32$',\n",
    "          'Free mutation rate, $\\\\tau=2$','Free mutation rate, $\\\\tau=5$','Free mutation rate, $\\\\tau=10$',\n",
    "          'Free mutation rate, $\\\\tau=100$']\n",
    "for l, f in zip(labels, allf):\n",
    "    waic = WAIC_for(f)\n",
    "    results.append(dict(Model=l, WAIC=waic))\n",
    "results"
   ]
  },
  {
   "cell_type": "code",
   "execution_count": 32,
   "metadata": {},
   "outputs": [
    {
     "data": {
      "text/plain": [
       "-51"
      ]
     },
     "execution_count": 32,
     "metadata": {},
     "output_type": "execute_result"
    }
   ],
   "source": [
    "WAIC_for(f_fixedm36, fixed_mut_rate=True) #3.6*1e-6"
   ]
  },
  {
   "cell_type": "code",
   "execution_count": null,
   "metadata": {},
   "outputs": [],
   "source": [
    "WAIC_for(f_prior4, alt_prior=True)"
   ]
  },
  {
   "cell_type": "code",
   "execution_count": null,
   "metadata": {},
   "outputs": [],
   "source": [
    "df = pd.DataFrame(results)\n",
    "df.index = np.arange(1, len(df)+1)\n",
    "df.index.rename('id', inplace=True)\n",
    "df = df.reset_index().rename({'index':'index1'}, axis = 'columns')\n",
    "# df.to_csv(f'{output_path}/Table_WAIC.csv', index=False, float_format=\"%.2f\", sep=';')\n",
    "df"
   ]
  },
  {
   "cell_type": "markdown",
   "metadata": {},
   "source": [
    "## Analyzing why WAIC for alternative prior is lower\n",
    "## "
   ]
  },
  {
   "cell_type": "code",
   "execution_count": 141,
   "metadata": {},
   "outputs": [],
   "source": [
    "def WAIC_for(f, fixed_mut_rate=False, no_aneuploidy=False, alt_prior=False):\n",
    "    history = pyabc.History(\"sqlite:///{0}/{1}/{1}.db\".format(path, f))\n",
    "    samples, weights = history.get_distribution(m=0, t=None)\n",
    "    columns = list(samples.columns)\n",
    "    kde = scipy.stats.gaussian_kde(samples.T.values.tolist(), weights=weights)\n",
    "    size = 500\n",
    "    samples = kde.resample(size)\n",
    "    posteriors = kde.pdf(samples)\n",
    "    if fixed_mut_rate:\n",
    "        priors = [prior_fixed_mr.pdf(dict(zip(['p2_tr','p3_w1','p4_w2','p5_w3'],s)))+1e-6 for s in samples.T]\n",
    "    elif no_aneuploidy:\n",
    "        priors = [prior_no_aneuploidy.pdf(dict(zip(['p1_mr','p5_w3'],s)))+1e-6 for s in samples.T]\n",
    "    elif alt_prior:\n",
    "        priors = [prior_alt.pdf(dict(zip(['p1_mr','p2_tr','p3_w1','p4_w2','p5_w3'],s)))+1e-6 for s in samples.T]\n",
    "    else:\n",
    "        priors = [prior.pdf(dict(zip(['p1_mr','p2_tr','p3_w1','p4_w2','p5_w3'],s)))+1e-6 for s in samples.T]\n",
    "    likelihoods = posteriors/priors \n",
    "    return likelihoods\n",
    "    return round(WAIC_with_weights(likelihoods))\n",
    "\n",
    "prior4_l = WAIC_for(f_prior4, alt_prior=True)\n",
    "prior1_l = WAIC_for(k1)"
   ]
  },
  {
   "cell_type": "code",
   "execution_count": 148,
   "metadata": {},
   "outputs": [],
   "source": [
    "def WAIC_with_weights(likelihoods, rounding=None, weights = None):\n",
    "    if not weights:\n",
    "        weights = [1/len(likelihoods)]*len(likelihoods)\n",
    "    loglik_E = np.log(sum(a*b for a,b in zip(weights,likelihoods)))\n",
    "    #for p2\n",
    "    E_loglik = sum(a*np.log(b) for a,b in zip(weights,likelihoods))\n",
    "    p2 = sum((w*(l-E_loglik)**2 for w,l in zip(weights,np.log(likelihoods))))\n",
    "    print(-2*loglik_E, 2*p2)\n",
    "    ans =  -2*loglik_E + 2*p2\n",
    "    if rounding:\n",
    "        ans = round(ans, rounding)\n",
    "    return ans\n"
   ]
  },
  {
   "cell_type": "code",
   "execution_count": 150,
   "metadata": {},
   "outputs": [
    {
     "name": "stdout",
     "output_type": "stream",
     "text": [
      "-34.99573235916515 7.1294649888865536\n"
     ]
    },
    {
     "data": {
      "text/plain": [
       "-27.8662673702786"
      ]
     },
     "execution_count": 150,
     "metadata": {},
     "output_type": "execute_result"
    }
   ],
   "source": [
    "WAIC_with_weights(prior4_l)"
   ]
  },
  {
   "cell_type": "code",
   "execution_count": 156,
   "metadata": {},
   "outputs": [
    {
     "name": "stdout",
     "output_type": "stream",
     "text": [
      "-90.69689424435543 355.7377236869039\n"
     ]
    },
    {
     "data": {
      "text/plain": [
       "265.04082944254844"
      ]
     },
     "execution_count": 156,
     "metadata": {},
     "output_type": "execute_result"
    }
   ],
   "source": [
    "WAIC_with_weights(prior1_l)"
   ]
  },
  {
   "cell_type": "code",
   "execution_count": 153,
   "metadata": {},
   "outputs": [],
   "source": [
    "def roundd(v):\n",
    "    return round(v,3)\n",
    "        \n",
    "def findd(n):\n",
    "    for i in range(0,12):\n",
    "        m = n*10**i\n",
    "        if m>=1 and m<=10:\n",
    "            return i\n",
    "    raise ValueError(n)\n",
    "           \n",
    "# returns (MAP, low_hdi, high_hdi)\n",
    "def calc_hdi(f, hdi_p=.50):\n",
    "    history = pyabc.History(\"sqlite:///{0}/{1}/{1}.db\".format(path, f))\n",
    "    samples, weights = history.get_distribution(m=0, t=None)\n",
    "    columns = list(samples.columns)\n",
    "    kde = scipy.stats.gaussian_kde(samples.T.values.tolist(), weights=weights)\n",
    "    size = 50000\n",
    "    samples = kde.resample(size).T\n",
    "    samples = pd.DataFrame(data=samples)\n",
    "    MAP = scipy.optimize.minimize(lambda x: -kde.logpdf(x) ,samples.median().values)['x']\n",
    "    hdi_res = hdi(samples.values, hdi_prob=hdi_p)\n",
    "    hi = hdi_res.T[1]\n",
    "    lo = hdi_res.T[0]\n",
    "    return (MAP, lo, hi)\n",
    "\n",
    "def print_mode_and_hdi(f, display_cols=['\\mu','\\delta','w_{2n+1}','w_{2n+1^*}', 'w_{2n^*}'], hdi_p=.50):\n",
    "    ans = calc_hdi(f,hdi_p)\n",
    "    orders = [np.array(list(map(findd,ans))) for ans in ans]\n",
    "    singles = [list(map(roundd,ans*(10**np.array(list(map(findd,ans)))))) for ans in ans]\n",
    "    for a in list(zip(list(display_cols),*singles, *orders)):\n",
    "        if a[-1]==0:\n",
    "            print('${}={} ({}-{})$,'.format(*a))\n",
    "        else:\n",
    "            print('${0}={1}\\\\times10^{{-{4}}} ({2}\\\\times10^{{-{5}}}-{3}\\\\times10^{{-{6}}})$,'.format(*a))\n",
    "    \n",
    "\n",
    "import warnings\n",
    "warnings.filterwarnings('ignore')"
   ]
  },
  {
   "cell_type": "code",
   "execution_count": 154,
   "metadata": {},
   "outputs": [
    {
     "name": "stdout",
     "output_type": "stream",
     "text": [
      "$\\mu=3.014\\times10^{-6} (2.272\\times10^{-7}-4.175\\times10^{-6})$,\n",
      "$\\delta=1.738\\times10^{-3} (1.387\\times10^{-3}-2.733\\times10^{-3})$,\n",
      "$w_{2n+1}=1.022 (1.021-1.023)$,\n",
      "$w_{2n+1^*}=1.025 (1.024-1.026)$,\n",
      "$w_{2n^*}=1.028 (1.026-1.029)$,\n"
     ]
    }
   ],
   "source": [
    "print_mode_and_hdi(k1)"
   ]
  },
  {
   "cell_type": "code",
   "execution_count": 155,
   "metadata": {},
   "outputs": [
    {
     "name": "stdout",
     "output_type": "stream",
     "text": [
      "$\\mu=2.378\\times10^{-9} (2.263\\times10^{-9}-2.455\\times10^{-9})$,\n",
      "$\\delta=2.644\\times10^{-3} (2.294\\times10^{-3}-2.966\\times10^{-3})$,\n",
      "$w_{2n+1}=1.022 (1.021-1.023)$,\n",
      "$w_{2n+1^*}=1.032 (1.03-1.035)$,\n",
      "$w_{2n^*}=1.033 (1.031-1.037)$,\n"
     ]
    }
   ],
   "source": [
    "print_mode_and_hdi(f_prior4)"
   ]
  }
 ],
 "metadata": {
  "kernelspec": {
   "display_name": "Python 3.7.2 64-bit",
   "language": "python",
   "name": "python37264bit479608b2bd8c45f19a70e2b38dda7da8"
  },
  "language_info": {
   "codemirror_mode": {
    "name": "ipython",
    "version": 3
   },
   "file_extension": ".py",
   "mimetype": "text/x-python",
   "name": "python",
   "nbconvert_exporter": "python",
   "pygments_lexer": "ipython3",
   "version": "3.7.2"
  }
 },
 "nbformat": 4,
 "nbformat_minor": 2
}
