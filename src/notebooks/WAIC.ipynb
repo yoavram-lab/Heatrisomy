{
 "cells": [
  {
   "cell_type": "code",
   "execution_count": 6,
   "metadata": {},
   "outputs": [],
   "source": [
    "import pyabc\n",
    "import scipy\n",
    "import numpy as np\n",
    "from pyabc.visualization import plot_kde_matrix_highlevel,plot_kde_matrix2\n",
    "from datetime import datetime\n",
    "import pandas as pd\n",
    "from arviz import hdi\n",
    "from pyabc.visualization import plot_kde_matrix_highlevel, plot_kde_matrix\n",
    "import numpy as np\n",
    "import matplotlib.pyplot as plt\n",
    "\n",
    "path = '../../results'\n",
    "output_path = '../../figures'\n",
    "\n",
    "f_no_aneuploidy = 'no-aneuploidy'\n",
    "f_with_aneuploidy = 'basic-prior'\n",
    "f_fixedm5 = 'fixedmr_5' \n",
    "f_fixedm6 = 'fixedmr_6'\n",
    "f_fixedm7 = 'fixedmr_7'\n",
    "f_fixedm36 = 'fixedmr_36' #3*10^-6\n",
    "f_prior4 = 'extended-prior' # 0.370941 epsilon #bug it is not 1000 reps, it is 100, rerun\n",
    "f_neutral = 'neutral-aneuploidy'\n",
    "# f_wider_range = '2022-02-13-wider-mutation-rate-r100'"
   ]
  },
  {
   "cell_type": "code",
   "execution_count": 7,
   "metadata": {},
   "outputs": [],
   "source": [
    "k1 = 'basic-prior'\n",
    "k2 = 'tau2' \n",
    "k103125 = 'tau3332'\n",
    "k5 = 'tau5' \n",
    "k10 = 'tau10'\n",
    "k100 = 'tau100'\n",
    "allf = [k1, k103125, k2, k5, k10, k100]"
   ]
  },
  {
   "cell_type": "code",
   "execution_count": 8,
   "metadata": {},
   "outputs": [
    {
     "name": "stdout",
     "output_type": "stream",
     "text": [
      "termination times:\n",
      "basic-prior 0.12659\n",
      "no-aneuploidy 0.26716\n",
      "extended-prior 0.37094\n",
      "neutral-aneuploidy 0.18438\n",
      "fixedmr_5 0.12735\n",
      "fixedmr_6 0.12957\n",
      "fixedmr_7 0.12996\n",
      "fixedmr_36 0.12788\n",
      "basic-prior 0.12659\n",
      "tau3332 0.12827\n",
      "tau2 0.12688\n",
      "tau5 0.1277\n",
      "tau10 0.12719\n",
      "tau100 0.13082\n"
     ]
    }
   ],
   "source": [
    "print('termination times:')\n",
    "for f in [f_with_aneuploidy, f_no_aneuploidy, f_prior4, f_neutral, f_fixedm5, f_fixedm6, f_fixedm7, f_fixedm36]+allf:\n",
    "    history = pyabc.History(\"sqlite:///{0}/{1}/{1}.db\".format(path, f))\n",
    "    print(f, round(history.get_all_populations()['epsilon'].values[-1],5))"
   ]
  },
  {
   "cell_type": "code",
   "execution_count": 65,
   "metadata": {},
   "outputs": [],
   "source": [
    "class W_RV(pyabc.RVBase):\n",
    "    def __init__(self):\n",
    "        l = np.load('../../data/evo39_fitness_39deg.npz')\n",
    "        self.kde = scipy.stats.gaussian_kde(l['arr_0'])\n",
    "    def rvs(self, *args, **kwargs):\n",
    "        return self.kde.resample(1)[0][0]\n",
    "    def pdf(self, x, *args, **kwargs):\n",
    "        return self.kde.pdf(x)[0]\n",
    "    def copy(self):\n",
    "        raise NotImplementedError('copy')\n",
    "    def pmf(self, x, *args, **kwargs):\n",
    "        raise NotImplementedError('pmf')\n",
    "    def cdf(self, x, *args, **kwargs):\n",
    "        raise NotImplementedError('cdf')\n",
    "        \n",
    "class D_RV(pyabc.RVBase):\n",
    "    def __init__(self):\n",
    "        l = np.load('../../data/refined_vs_evo39_fitness_39deg.npz')\n",
    "        self.kde = scipy.stats.gaussian_kde(l['arr_0'])\n",
    "    def rvs(self, *args, **kwargs):\n",
    "        return self.kde.resample(1)[0][0]\n",
    "    def pdf(self, x, *args, **kwargs):\n",
    "        return self.kde.pdf(x)[0]\n",
    "    def copy(self):\n",
    "        raise NotImplementedError('copy')\n",
    "    def pmf(self, x, *args, **kwargs):\n",
    "        raise NotImplementedError('pmf')\n",
    "    def cdf(self, x, *args, **kwargs):\n",
    "        raise NotImplementedError('cdf')\n",
    "        \n",
    "prior = pyabc.Distribution(p1_mr=pyabc.RV(\"uniform\", 10.0**-9, 10.0**-5-10.0**-9)\n",
    "                            ,p2_tr=pyabc.RV(\"uniform\", 10.0**-6, 10.0**-2-10.0**-6)\n",
    "                            ,p3_w1=W_RV()\n",
    "                            ,p4_w2=W_RV()\n",
    "                            ,p5_w3=W_RV())\n",
    "\n",
    "prior_alt = pyabc.Distribution(p1_mr=pyabc.RV(\"uniform\", 10.0**-9, 10.0**-5-10.0**-9)\n",
    "                            ,p2_tr=pyabc.RV(\"uniform\", 10.0**-6, 10.0**-2-10.0**-6)\n",
    "                            ,p3_w1=W_RV()\n",
    "                            ,p4_w2=D_RV()\n",
    "                            ,p5_w3=D_RV())\n",
    "\n",
    "prior_fixed_mr = pyabc.Distribution(p2_tr=pyabc.RV(\"uniform\", 10.0**-6, 10.0**-2-10.0**-6)\n",
    "                            ,p3_w1=W_RV()\n",
    "                            ,p4_w2=W_RV()\n",
    "                            ,p5_w3=W_RV())\n",
    "\n",
    "prior_no_aneuploidy = pyabc.Distribution(p1_mr=pyabc.RV(\"uniform\", 10.0**-9, 10.0**-5-10.0**-9)\n",
    "                        ,p5_w3=W_RV())\n",
    "\n",
    "def sample_from_kde(file_name, t=None, alt_prior=False, size=50000):\n",
    "    history = pyabc.History(\"sqlite:///{0}/{1}/{1}.db\".format(path, file_name))\n",
    "    samples, weights = history.get_distribution(m=0, t=t)\n",
    "    kde = scipy.stats.gaussian_kde(samples.T.values.tolist(),weights=weights)\n",
    "    kdesamples = kde.resample(2*size).T\n",
    "    if alt_prior:\n",
    "        kdesamples = pd.DataFrame(data=kdesamples,columns=['mutation rate', 'trisomy rate', '2n+1 fitness', '2n+1* fitness', '2n* fitness'])\n",
    "        criteria = (kdesamples['mutation rate']>1e-9) & (kdesamples['mutation rate']<1e-5) & (kdesamples['trisomy rate']>1e-6) & (kdesamples['mutation rate']<1e-2)\n",
    "        w1 = samples['p3_w1']\n",
    "        w2 = samples['p3_w1']*samples['p4_w2']\n",
    "        w3 = samples['p3_w1']*samples['p5_w3']\n",
    "        order_criteria = (1<w1) & (w1<w2) & (w2<w3)\n",
    "        criteria = criteria & order_criteria\n",
    "        kdesamples = kdesamples[criteria][:size]\n",
    "    elif len(samples.columns)==2:\n",
    "        kdesamples = pd.DataFrame(data=kdesamples,columns=['mutation rate', '2n* fitness'])\n",
    "        criteria = (kdesamples['mutation rate']>1e-9) & (kdesamples['mutation rate']<1e-5)\n",
    "        kdesamples = kdesamples[criteria][:size]\n",
    "    elif len(samples.columns)==4:\n",
    "        kdesamples = pd.DataFrame(data=kdesamples,columns=['trisomy rate', '2n+1 fitness', '2n+1* fitness', '2n* fitness'])\n",
    "        criteria = (kdesamples['trisomy rate']>1e-6) & (kdesamples['trisomy rate']<1e-2)\n",
    "        kdesamples = kdesamples[criteria][:size]\n",
    "    else:\n",
    "        kdesamples = pd.DataFrame(data=kdesamples,columns=['mutation rate', 'trisomy rate', '2n+1 fitness', '2n+1* fitness', '2n* fitness'])\n",
    "        criteria = (kdesamples['mutation rate']>1e-9) & (kdesamples['mutation rate']<1e-5) & (kdesamples['trisomy rate']>1e-6) & (kdesamples['mutation rate']<1e-2)\n",
    "        order_criteria = (kdesamples['2n+1 fitness'] < kdesamples['2n+1* fitness']) & (kdesamples['2n+1* fitness'] < kdesamples['2n* fitness'])\n",
    "        criteria = criteria & order_criteria\n",
    "        kdesamples = kdesamples[criteria][:size]\n",
    "    return kdesamples, kde\n",
    "\n",
    "def WAIC_for(f, fixed_mut_rate=False, no_aneuploidy=False, alt_prior=False):\n",
    "    if alt_prior:\n",
    "        samples, kde = sample_from_kde(f, t=18, alt_prior=True)\n",
    "    else:\n",
    "        samples, kde = sample_from_kde(f)\n",
    "    samples = samples.T.values\n",
    "    posteriors = kde.pdf(samples)\n",
    "    if fixed_mut_rate:\n",
    "        priors = [prior_fixed_mr.pdf(dict(zip(['p2_tr','p3_w1','p4_w2','p5_w3'],s)))+1e-6 for s in samples.T]\n",
    "    elif no_aneuploidy:\n",
    "        priors = [prior_no_aneuploidy.pdf(dict(zip(['p1_mr','p5_w3'],s)))+1e-6 for s in samples.T]\n",
    "    elif alt_prior:\n",
    "        priors = [prior_alt.pdf(dict(zip(['p1_mr','p2_tr','p3_w1','p4_w2','p5_w3'],s)))+1e-6 for s in samples.T]\n",
    "    else:\n",
    "        priors = [prior.pdf(dict(zip(['p1_mr','p2_tr','p3_w1','p4_w2','p5_w3'],s)))+1e-6 for s in samples.T]\n",
    "    likelihoods = posteriors/priors \n",
    "    return round(WAIC_with_weights(likelihoods))"
   ]
  },
  {
   "cell_type": "code",
   "execution_count": 66,
   "metadata": {},
   "outputs": [
    {
     "data": {
      "text/plain": [
       "[{'Model': 'Without aneuploidy', 'WAIC': -35},\n",
       " {'Model': 'Fixed mutation rate, $\\\\mu=10^{{-{5}}}$, $\\\\tau=1$', 'WAIC': -16},\n",
       " {'Model': 'Fixed mutation rate, $\\\\mu=10^{{-{6}}}$, $\\\\tau=1$', 'WAIC': -11},\n",
       " {'Model': 'Fixed mutation rate, $\\\\mu=10^{{-{7}}}$, $\\\\tau=1$', 'WAIC': -14},\n",
       " {'Model': 'Free mutation rate, $\\\\tau=1$', 'WAIC': -9},\n",
       " {'Model': 'Free mutation rate, $\\\\tau=33/32$', 'WAIC': -9},\n",
       " {'Model': 'Free mutation rate, $\\\\tau=2$', 'WAIC': -8},\n",
       " {'Model': 'Free mutation rate, $\\\\tau=5$', 'WAIC': -12},\n",
       " {'Model': 'Free mutation rate, $\\\\tau=10$', 'WAIC': -9},\n",
       " {'Model': 'Free mutation rate, $\\\\tau=100$', 'WAIC': -12}]"
      ]
     },
     "execution_count": 66,
     "metadata": {},
     "output_type": "execute_result"
    }
   ],
   "source": [
    "results = []\n",
    "results.append(dict(Model='Without aneuploidy', WAIC=WAIC_for(f_no_aneuploidy, fixed_mut_rate=False, no_aneuploidy=True)))\n",
    "results.append(dict(Model='Fixed mutation rate, $\\mu=10^{{-{5}}}$, $\\\\tau=1$', WAIC=WAIC_for(f_fixedm5, fixed_mut_rate=True)))\n",
    "results.append(dict(Model='Fixed mutation rate, $\\mu=10^{{-{6}}}$, $\\\\tau=1$', WAIC=WAIC_for(f_fixedm6, fixed_mut_rate=True)))\n",
    "results.append(dict(Model='Fixed mutation rate, $\\mu=10^{{-{7}}}$, $\\\\tau=1$', WAIC=WAIC_for(f_fixedm7, fixed_mut_rate=True)))\n",
    "labels = ['Free mutation rate, $\\\\tau=1$','Free mutation rate, $\\\\tau=33/32$',\n",
    "          'Free mutation rate, $\\\\tau=2$','Free mutation rate, $\\\\tau=5$','Free mutation rate, $\\\\tau=10$',\n",
    "          'Free mutation rate, $\\\\tau=100$']\n",
    "for l, f in zip(labels, allf):\n",
    "    waic = WAIC_for(f)\n",
    "    results.append(dict(Model=l, WAIC=waic))\n",
    "results"
   ]
  },
  {
   "cell_type": "code",
   "execution_count": 67,
   "metadata": {},
   "outputs": [
    {
     "data": {
      "text/plain": [
       "[{'Model': 'Without aneuploidy', 'WAIC': -35},\n",
       " {'Model': 'Fixed mutation rate, $\\\\mu=10^{{-{5}}}$, $\\\\tau=1$', 'WAIC': -16},\n",
       " {'Model': 'Fixed mutation rate, $\\\\mu=10^{{-{6}}}$, $\\\\tau=1$', 'WAIC': -11},\n",
       " {'Model': 'Fixed mutation rate, $\\\\mu=10^{{-{7}}}$, $\\\\tau=1$', 'WAIC': -14},\n",
       " {'Model': 'With aneuploidy, extended prior', 'WAIC': -30},\n",
       " {'Model': 'Free mutation rate, $\\\\tau=1$', 'WAIC': -9},\n",
       " {'Model': 'Free mutation rate, $\\\\tau=33/32$', 'WAIC': -9},\n",
       " {'Model': 'Free mutation rate, $\\\\tau=2$', 'WAIC': -8},\n",
       " {'Model': 'Free mutation rate, $\\\\tau=5$', 'WAIC': -12},\n",
       " {'Model': 'Free mutation rate, $\\\\tau=10$', 'WAIC': -9},\n",
       " {'Model': 'Free mutation rate, $\\\\tau=100$', 'WAIC': -12}]"
      ]
     },
     "execution_count": 67,
     "metadata": {},
     "output_type": "execute_result"
    }
   ],
   "source": [
    "#running again, simillar results\n",
    "results = []\n",
    "results.append(dict(Model='Without aneuploidy', WAIC=WAIC_for(f_no_aneuploidy, fixed_mut_rate=False, no_aneuploidy=True)))\n",
    "results.append(dict(Model='Fixed mutation rate, $\\mu=10^{{-{5}}}$, $\\\\tau=1$', WAIC=WAIC_for(f_fixedm5, fixed_mut_rate=True)))\n",
    "results.append(dict(Model='Fixed mutation rate, $\\mu=10^{{-{6}}}$, $\\\\tau=1$', WAIC=WAIC_for(f_fixedm6, fixed_mut_rate=True)))\n",
    "results.append(dict(Model='Fixed mutation rate, $\\mu=10^{{-{7}}}$, $\\\\tau=1$', WAIC=WAIC_for(f_fixedm7, fixed_mut_rate=True)))\n",
    "labels = ['Free mutation rate, $\\\\tau=1$','Free mutation rate, $\\\\tau=33/32$',\n",
    "          'Free mutation rate, $\\\\tau=2$','Free mutation rate, $\\\\tau=5$','Free mutation rate, $\\\\tau=10$',\n",
    "          'Free mutation rate, $\\\\tau=100$']\n",
    "results.append(dict(Model='With aneuploidy, extended prior', WAIC=WAIC_for(f_prior4, alt_prior=True)))\n",
    "for l, f in zip(labels, allf):\n",
    "    waic = WAIC_for(f)\n",
    "    results.append(dict(Model=l, WAIC=waic))\n",
    "results"
   ]
  },
  {
   "cell_type": "code",
   "execution_count": 57,
   "metadata": {},
   "outputs": [
    {
     "data": {
      "text/plain": [
       "-12"
      ]
     },
     "execution_count": 57,
     "metadata": {},
     "output_type": "execute_result"
    }
   ],
   "source": [
    "WAIC_for(f_fixedm36, fixed_mut_rate=True) #3.6*1e-6"
   ]
  },
  {
   "cell_type": "code",
   "execution_count": 63,
   "metadata": {},
   "outputs": [
    {
     "data": {
      "text/plain": [
       "-28"
      ]
     },
     "execution_count": 63,
     "metadata": {},
     "output_type": "execute_result"
    }
   ],
   "source": [
    "WAIC_for(f_prior4, alt_prior=True)"
   ]
  },
  {
   "cell_type": "code",
   "execution_count": 68,
   "metadata": {},
   "outputs": [
    {
     "data": {
      "text/html": [
       "<div>\n",
       "<style scoped>\n",
       "    .dataframe tbody tr th:only-of-type {\n",
       "        vertical-align: middle;\n",
       "    }\n",
       "\n",
       "    .dataframe tbody tr th {\n",
       "        vertical-align: top;\n",
       "    }\n",
       "\n",
       "    .dataframe thead th {\n",
       "        text-align: right;\n",
       "    }\n",
       "</style>\n",
       "<table border=\"1\" class=\"dataframe\">\n",
       "  <thead>\n",
       "    <tr style=\"text-align: right;\">\n",
       "      <th></th>\n",
       "      <th>id</th>\n",
       "      <th>Model</th>\n",
       "      <th>WAIC</th>\n",
       "    </tr>\n",
       "  </thead>\n",
       "  <tbody>\n",
       "    <tr>\n",
       "      <th>0</th>\n",
       "      <td>1</td>\n",
       "      <td>Without aneuploidy</td>\n",
       "      <td>-35</td>\n",
       "    </tr>\n",
       "    <tr>\n",
       "      <th>1</th>\n",
       "      <td>2</td>\n",
       "      <td>Fixed mutation rate, $\\mu=10^{{-{5}}}$, $\\tau=1$</td>\n",
       "      <td>-16</td>\n",
       "    </tr>\n",
       "    <tr>\n",
       "      <th>2</th>\n",
       "      <td>3</td>\n",
       "      <td>Fixed mutation rate, $\\mu=10^{{-{6}}}$, $\\tau=1$</td>\n",
       "      <td>-11</td>\n",
       "    </tr>\n",
       "    <tr>\n",
       "      <th>3</th>\n",
       "      <td>4</td>\n",
       "      <td>Fixed mutation rate, $\\mu=10^{{-{7}}}$, $\\tau=1$</td>\n",
       "      <td>-14</td>\n",
       "    </tr>\n",
       "    <tr>\n",
       "      <th>4</th>\n",
       "      <td>5</td>\n",
       "      <td>With aneuploidy, extended prior</td>\n",
       "      <td>-30</td>\n",
       "    </tr>\n",
       "    <tr>\n",
       "      <th>5</th>\n",
       "      <td>6</td>\n",
       "      <td>Free mutation rate, $\\tau=1$</td>\n",
       "      <td>-9</td>\n",
       "    </tr>\n",
       "    <tr>\n",
       "      <th>6</th>\n",
       "      <td>7</td>\n",
       "      <td>Free mutation rate, $\\tau=33/32$</td>\n",
       "      <td>-9</td>\n",
       "    </tr>\n",
       "    <tr>\n",
       "      <th>7</th>\n",
       "      <td>8</td>\n",
       "      <td>Free mutation rate, $\\tau=2$</td>\n",
       "      <td>-8</td>\n",
       "    </tr>\n",
       "    <tr>\n",
       "      <th>8</th>\n",
       "      <td>9</td>\n",
       "      <td>Free mutation rate, $\\tau=5$</td>\n",
       "      <td>-12</td>\n",
       "    </tr>\n",
       "    <tr>\n",
       "      <th>9</th>\n",
       "      <td>10</td>\n",
       "      <td>Free mutation rate, $\\tau=10$</td>\n",
       "      <td>-9</td>\n",
       "    </tr>\n",
       "    <tr>\n",
       "      <th>10</th>\n",
       "      <td>11</td>\n",
       "      <td>Free mutation rate, $\\tau=100$</td>\n",
       "      <td>-12</td>\n",
       "    </tr>\n",
       "  </tbody>\n",
       "</table>\n",
       "</div>"
      ],
      "text/plain": [
       "    id                                             Model  WAIC\n",
       "0    1                                Without aneuploidy   -35\n",
       "1    2  Fixed mutation rate, $\\mu=10^{{-{5}}}$, $\\tau=1$   -16\n",
       "2    3  Fixed mutation rate, $\\mu=10^{{-{6}}}$, $\\tau=1$   -11\n",
       "3    4  Fixed mutation rate, $\\mu=10^{{-{7}}}$, $\\tau=1$   -14\n",
       "4    5                   With aneuploidy, extended prior   -30\n",
       "5    6                      Free mutation rate, $\\tau=1$    -9\n",
       "6    7                  Free mutation rate, $\\tau=33/32$    -9\n",
       "7    8                      Free mutation rate, $\\tau=2$    -8\n",
       "8    9                      Free mutation rate, $\\tau=5$   -12\n",
       "9   10                     Free mutation rate, $\\tau=10$    -9\n",
       "10  11                    Free mutation rate, $\\tau=100$   -12"
      ]
     },
     "execution_count": 68,
     "metadata": {},
     "output_type": "execute_result"
    }
   ],
   "source": [
    "df = pd.DataFrame(results)\n",
    "df.index = np.arange(1, len(df)+1)\n",
    "df.index.rename('id', inplace=True)\n",
    "df = df.reset_index().rename({'index':'index1'}, axis = 'columns')\n",
    "# df.to_csv(f'{output_path}/Table_WAIC.csv', index=False, float_format=\"%.2f\", sep=';')\n",
    "df"
   ]
  },
  {
   "cell_type": "code",
   "execution_count": null,
   "metadata": {},
   "outputs": [],
   "source": []
  }
 ],
 "metadata": {
  "kernelspec": {
   "display_name": "Python 3.7.2 64-bit",
   "language": "python",
   "name": "python37264bit479608b2bd8c45f19a70e2b38dda7da8"
  },
  "language_info": {
   "codemirror_mode": {
    "name": "ipython",
    "version": 3
   },
   "file_extension": ".py",
   "mimetype": "text/x-python",
   "name": "python",
   "nbconvert_exporter": "python",
   "pygments_lexer": "ipython3",
   "version": "3.7.2"
  }
 },
 "nbformat": 4,
 "nbformat_minor": 2
}
