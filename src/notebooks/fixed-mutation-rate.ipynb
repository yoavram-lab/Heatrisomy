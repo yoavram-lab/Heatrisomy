{
 "cells": [
  {
   "cell_type": "code",
   "execution_count": 1,
   "metadata": {},
   "outputs": [],
   "source": [
    "import pyabc\n",
    "import scipy\n",
    "import numpy as np\n",
    "from pyabc.visualization import plot_kde_matrix_highlevel,plot_kde_matrix2\n",
    "from datetime import datetime\n",
    "import pandas as pd\n",
    "from arviz import hdi\n",
    "from pyabc.visualization import plot_kde_matrix_highlevel, plot_kde_matrix\n",
    "import numpy as np\n",
    "import matplotlib.pyplot as plt\n",
    "\n",
    "path = '/Users/adsurbum/sim-data/single-model-abc/new4'\n",
    "output_path = '../../figures'\n",
    "\n",
    "f_no_aneuploidy = '2021-12-29-no-aneuploidy'\n",
    "f_with_aneuploidy = '2021-12-29-an200-k1'\n",
    "f100 = '2022-01-04-tau1-r100-22'\n",
    "f_wider_range = '2022-02-13-wider-mutation-rate-r100'\n",
    "f_fixedm5 = '2022-02-15-m5-r100'\n",
    "f_fixedm6 = '2022-02-15-m6-r100'\n",
    "f_fixedm7 = '2022-02-15-m7-r100'"
   ]
  },
  {
   "cell_type": "markdown",
   "metadata": {},
   "source": [
    "## HDI"
   ]
  },
  {
   "cell_type": "code",
   "execution_count": 144,
   "metadata": {},
   "outputs": [],
   "source": [
    "def roundd(v):\n",
    "    return round(v,3)\n",
    "        \n",
    "def findd(n):\n",
    "    for i in range(0,12):\n",
    "        m = n*10**i\n",
    "        if m>=1 and m<=10:\n",
    "            return i\n",
    "    raise ValueError(n)\n",
    "           \n",
    "# returns (MAP, low_hdi, high_hdi)\n",
    "def calc_hdi(f, hdi_p=.50):\n",
    "    history = pyabc.History(\"sqlite:///{0}/{1}/{1}.db\".format(path, f))\n",
    "    samples, weights = history.get_distribution(m=0, t=None)\n",
    "    columns = list(samples.columns)\n",
    "    kde = scipy.stats.gaussian_kde(samples.T.values.tolist(), weights=weights)\n",
    "    size = 50000\n",
    "    samples = kde.resample(size).T\n",
    "    samples = pd.DataFrame(data=samples)\n",
    "    MAP = scipy.optimize.minimize(lambda x: -kde.logpdf(x) ,samples.median().values)['x']\n",
    "    hdi_res = hdi(samples.values, hdi_prob=hdi_p)\n",
    "    hi = hdi_res.T[1]\n",
    "    lo = hdi_res.T[0]\n",
    "    return (MAP, lo, hi)\n",
    "\n",
    "def print_mode_and_hdi(f, display_cols=['\\mu','\\delta','w_{2n+1}','w_{2n+1^*}', 'w_{2n^*}'], hdi_p=.50):\n",
    "    ans = calc_hdi(f,hdi_p)\n",
    "    orders = [np.array(list(map(findd,ans))) for ans in ans]\n",
    "    singles = [list(map(roundd,ans*(10**np.array(list(map(findd,ans)))))) for ans in ans]\n",
    "    for a in list(zip(list(display_cols),*singles, *orders)):\n",
    "        if a[-1]==0:\n",
    "            print('${}={} ({}-{})$,'.format(*a))\n",
    "        else:\n",
    "            print('${0}={1}\\\\times10^{{-{4}}} ({2}\\\\times10^{{-{5}}}-{3}\\\\times10^{{-{6}}})$,'.format(*a))\n",
    "    \n",
    "\n",
    "import warnings\n",
    "warnings.filterwarnings('ignore')"
   ]
  },
  {
   "cell_type": "code",
   "execution_count": 152,
   "metadata": {
    "scrolled": true
   },
   "outputs": [
    {
     "name": "stdout",
     "output_type": "stream",
     "text": [
      "$\\mu=2.957\\times10^{-6} (1.635\\times10^{-7}-4.115\\times10^{-6})$,\n",
      "$\\delta=1.735\\times10^{-3} (1.357\\times10^{-3}-2.719\\times10^{-3})$,\n",
      "$w_{2n+1}=1.022 (1.021-1.023)$,\n",
      "$w_{2n+1^*}=1.025 (1.024-1.026)$,\n",
      "$w_{2n^*}=1.028 (1.026-1.029)$,\n"
     ]
    }
   ],
   "source": [
    "print_mode_and_hdi(f_with_aneuploidy)"
   ]
  },
  {
   "cell_type": "code",
   "execution_count": 155,
   "metadata": {},
   "outputs": [
    {
     "name": "stdout",
     "output_type": "stream",
     "text": [
      "$\\delta=2.81\\times10^{-3} (2.271\\times10^{-3}-3.165\\times10^{-3})$,\n",
      "$w_{2n+1}=1.022 (1.021-1.023)$,\n",
      "$w_{2n+1^*}=1.025 (1.023-1.026)$,\n",
      "$w_{2n^*}=1.027 (1.026-1.028)$,\n"
     ]
    }
   ],
   "source": [
    "print_mode_and_hdi(f_fixedm5, display_cols=['\\delta','w_{2n+1}','w_{2n+1^*}', 'w_{2n^*}'])"
   ]
  },
  {
   "cell_type": "code",
   "execution_count": 156,
   "metadata": {},
   "outputs": [
    {
     "name": "stdout",
     "output_type": "stream",
     "text": [
      "$\\delta=1.996\\times10^{-3} (9.297\\times10^{-4}-2.581\\times10^{-3})$,\n",
      "$w_{2n+1}=1.022 (1.02-1.023)$,\n",
      "$w_{2n+1^*}=1.025 (1.023-1.026)$,\n",
      "$w_{2n^*}=1.028 (1.026-1.029)$,\n"
     ]
    }
   ],
   "source": [
    "print_mode_and_hdi(f_fixedm6, display_cols=['\\delta','w_{2n+1}','w_{2n+1^*}', 'w_{2n^*}'])"
   ]
  },
  {
   "cell_type": "code",
   "execution_count": 157,
   "metadata": {},
   "outputs": [
    {
     "name": "stdout",
     "output_type": "stream",
     "text": [
      "$\\delta=3.038\\times10^{-3} (2.203\\times10^{-3}-3.847\\times10^{-3})$,\n",
      "$w_{2n+1}=1.02 (1.018-1.022)$,\n",
      "$w_{2n+1^*}=1.026 (1.023-1.027)$,\n",
      "$w_{2n^*}=1.028 (1.027-1.03)$,\n"
     ]
    }
   ],
   "source": [
    "print_mode_and_hdi(f_fixedm7, display_cols=['\\delta','w_{2n+1}','w_{2n+1^*}', 'w_{2n^*}'])"
   ]
  },
  {
   "cell_type": "markdown",
   "metadata": {},
   "source": [
    "## Sample posterior and calculate likelihoods"
   ]
  },
  {
   "cell_type": "code",
   "execution_count": 160,
   "metadata": {},
   "outputs": [],
   "source": [
    "def sample_params_calc_likelihoods(f, reps, runs, tminus=0, mr=None):\n",
    "    history = pyabc.History(\"sqlite:///{0}/{1}/{1}.db\".format(path, f))\n",
    "    samples, weights = history.get_distribution(m=0, t=history.max_t-tminus)\n",
    "#     samples.insert(0,'p1_mr', mr)\n",
    "    columns = list(samples.columns)\n",
    "    kde = scipy.stats.gaussian_kde(samples.T.values.tolist(), weights=weights)\n",
    "    size = runs\n",
    "    samples = kde.resample(size).T\n",
    "    samples = pd.DataFrame(data=samples,columns=columns)\n",
    "#     samples = samples.values[np.all(samples.values>0,axis=1)] #about 90% > 0; we filter it\n",
    "    samples = samples.values\n",
    "    \n",
    "    samples_likelihoods = []\n",
    "    for sample in samples:\n",
    "        p = sample\n",
    "#         if not np.all(p>0):\n",
    "#             g = 0\n",
    "#         else:\n",
    "        try:\n",
    "            if p[0]<0 or p[1]<0: #the case when p[1]==0 is not really interesting and have usually grade 0\n",
    "                g = 0\n",
    "            elif len(p)>2:\n",
    "                if mr is not None:\n",
    "                    p = [mr, p[0],p[0],p[1],*p[2:]] # aneuploidy gain and loss rates are the same\n",
    "#                     print(p)\n",
    "                else:\n",
    "                    p = [p[0],p[1],p[1],*p[2:]]\n",
    "                times_p = model.run_simulations(N, *p, repetitions=reps, seed=555)\n",
    "                g = model.grade_function2(times_p)\n",
    "            else:\n",
    "                p = [p[0],0,0,0,0,p[-1]]\n",
    "                times_p = model.run_simulations(N, *p, repetitions=reps, seed=555)\n",
    "                g = model.grade_function_no_aneuploidy(times_p)\n",
    "        except Exception as e:\n",
    "            print(sample)\n",
    "            print(e)\n",
    "            raise\n",
    "            \n",
    "        samples_likelihoods.append((sample, -g))\n",
    "    return samples_likelihoods\n",
    "\n",
    "import sys\n",
    "sys.path.insert(0, '../models')\n",
    "from singleLocusModel import SingleLocusModel\n",
    "model = SingleLocusModel(k=1, stopon=2752, fixation=0.95)\n",
    "N = 6*10**6"
   ]
  },
  {
   "cell_type": "code",
   "execution_count": 170,
   "metadata": {},
   "outputs": [
    {
     "name": "stdout",
     "output_type": "stream",
     "text": [
      "CPU times: user 6min 2s, sys: 3.5 s, total: 6min 5s\n",
      "Wall time: 6min 41s\n"
     ]
    },
    {
     "data": {
      "text/plain": [
       "<matplotlib.axes._subplots.AxesSubplot at 0x7fcfabd772e8>"
      ]
     },
     "execution_count": 170,
     "metadata": {},
     "output_type": "execute_result"
    },
    {
     "data": {
      "image/png": "[encoded data removed]",
      "text/plain": [
       "<Figure size 432x288 with 1 Axes>"
      ]
     },
     "metadata": {
      "image/png": {
       "height": 248,
       "width": 369
      },
      "needs_background": "light"
     },
     "output_type": "display_data"
    }
   ],
   "source": [
    "%%time\n",
    "runs = 100\n",
    "reps = 100\n",
    "p_l = sample_params_calc_likelihoods(f_with_aneuploidy, reps=reps, runs=runs)\n",
    "norm = p_l\n",
    "pd.Series([p[1] for p in p_l]).hist()"
   ]
  },
  {
   "cell_type": "code",
   "execution_count": 171,
   "metadata": {},
   "outputs": [
    {
     "name": "stdout",
     "output_type": "stream",
     "text": [
      "CPU times: user 5min 51s, sys: 2.46 s, total: 5min 53s\n",
      "Wall time: 6min 8s\n"
     ]
    },
    {
     "data": {
      "text/plain": [
       "<matplotlib.axes._subplots.AxesSubplot at 0x7fcfab984978>"
      ]
     },
     "execution_count": 171,
     "metadata": {},
     "output_type": "execute_result"
    },
    {
     "data": {
      "image/png": "[encoded data removed]",
      "text/plain": [
       "<Figure size 432x288 with 1 Axes>"
      ]
     },
     "metadata": {
      "image/png": {
       "height": 248,
       "width": 371
      },
      "needs_background": "light"
     },
     "output_type": "display_data"
    }
   ],
   "source": [
    "%%time\n",
    "runs = 100\n",
    "reps = 100\n",
    "p_l = sample_params_calc_likelihoods(f_fixedm5, reps=reps, runs=runs, mr=1e-5)\n",
    "m5 = p_l\n",
    "pd.Series([p[1] for p in p_l]).hist()"
   ]
  },
  {
   "cell_type": "code",
   "execution_count": 172,
   "metadata": {},
   "outputs": [
    {
     "name": "stdout",
     "output_type": "stream",
     "text": [
      "CPU times: user 5min 36s, sys: 2.72 s, total: 5min 38s\n",
      "Wall time: 5min 49s\n"
     ]
    },
    {
     "data": {
      "text/plain": [
       "<matplotlib.axes._subplots.AxesSubplot at 0x7fcfabd16748>"
      ]
     },
     "execution_count": 172,
     "metadata": {},
     "output_type": "execute_result"
    },
    {
     "data": {
      "image/png": "[encoded data removed]",
      "text/plain": [
       "<Figure size 432x288 with 1 Axes>"
      ]
     },
     "metadata": {
      "image/png": {
       "height": 248,
       "width": 369
      },
      "needs_background": "light"
     },
     "output_type": "display_data"
    }
   ],
   "source": [
    "%%time\n",
    "runs = 100\n",
    "reps = 100\n",
    "p_l = sample_params_calc_likelihoods(f_fixedm6, reps=reps, runs=runs, mr=1e-6)\n",
    "m6 = p_l\n",
    "pd.Series([p[1] for p in p_l]).hist()"
   ]
  },
  {
   "cell_type": "code",
   "execution_count": 173,
   "metadata": {},
   "outputs": [
    {
     "name": "stdout",
     "output_type": "stream",
     "text": [
      "CPU times: user 7min 56s, sys: 4.57 s, total: 8min 1s\n",
      "Wall time: 8min 43s\n"
     ]
    },
    {
     "data": {
      "text/plain": [
       "<matplotlib.axes._subplots.AxesSubplot at 0x7fcfabb279e8>"
      ]
     },
     "execution_count": 173,
     "metadata": {},
     "output_type": "execute_result"
    },
    {
     "data": {
      "image/png": "[encoded data removed]",
      "text/plain": [
       "<Figure size 432x288 with 1 Axes>"
      ]
     },
     "metadata": {
      "image/png": {
       "height": 248,
       "width": 369
      },
      "needs_background": "light"
     },
     "output_type": "display_data"
    }
   ],
   "source": [
    "%%time\n",
    "runs = 100\n",
    "reps = 100\n",
    "p_l = sample_params_calc_likelihoods(f_fixedm6, reps=reps, runs=runs, mr=1e-7)\n",
    "m7 = p_l\n",
    "pd.Series([p[1] for p in p_l]).hist()"
   ]
  },
  {
   "cell_type": "code",
   "execution_count": 174,
   "metadata": {},
   "outputs": [
    {
     "name": "stdout",
     "output_type": "stream",
     "text": [
      "CPU times: user 7min 5s, sys: 4.07 s, total: 7min 9s\n",
      "Wall time: 7min 38s\n"
     ]
    },
    {
     "data": {
      "text/plain": [
       "<matplotlib.axes._subplots.AxesSubplot at 0x7fcfac5e72e8>"
      ]
     },
     "execution_count": 174,
     "metadata": {},
     "output_type": "execute_result"
    },
    {
     "data": {
      "image/png": "[encoded data removed]",
      "text/plain": [
       "<Figure size 432x288 with 1 Axes>"
      ]
     },
     "metadata": {
      "image/png": {
       "height": 248,
       "width": 369
      },
      "needs_background": "light"
     },
     "output_type": "display_data"
    }
   ],
   "source": [
    "%%time\n",
    "runs = 100\n",
    "reps = 100\n",
    "p_l = sample_params_calc_likelihoods(f_no_aneuploidy, reps=reps, runs=runs)\n",
    "no_an = p_l\n",
    "pd.Series([p[1] for p in p_l]).hist()"
   ]
  },
  {
   "cell_type": "markdown",
   "metadata": {},
   "source": [
    "## WAIC"
   ]
  },
  {
   "cell_type": "code",
   "execution_count": 259,
   "metadata": {},
   "outputs": [],
   "source": [
    "from scipy.special import logsumexp\n",
    "\n",
    "def WAIC_with_weights(likelihoods, rounding=None, weights = None):\n",
    "    if not weights:\n",
    "        weights = [1/len(likelihoods)]*len(likelihoods)\n",
    "    loglik_E = np.log(sum(a*b for a,b in zip(weights,likelihoods)))\n",
    "    #for p2\n",
    "    E_loglik = sum(a*np.log(b) for a,b in zip(weights,likelihoods))\n",
    "    p2 = sum((w*(l-E_loglik)**2 for w,l in zip(weights,np.log(likelihoods))))\n",
    "    ans = -2*loglik_E \n",
    "    if rounding:\n",
    "        ans = round(ans, rounding)\n",
    "    return ans\n",
    "\n",
    "def WAIC_for_weighted_samples(f, tminus=0):\n",
    "    # TODO maybe it should be calculated using kde samples...\n",
    "    history = pyabc.History(\"sqlite:///{0}/{1}/{1}.db\".format(path,f))\n",
    "    hist_stats = history.get_weighted_sum_stats(t=history.max_t-tminus)\n",
    "    likelihoods = [a['res']-1 for a in hist_stats[1]]\n",
    "    likelihoods = -np.array(likelihoods) + 0.000001\n",
    "    weights = hist_stats[0]\n",
    "    return WAIC_with_weights(likelihoods, weights)\n",
    "\n",
    "# just another implementation for sanity check\n",
    "def WAIC_version2(logliks, ddof=0): \n",
    "    l_logliks = [np.log(l) for l in logliks]\n",
    "    l_logliks = np.array(l_logliks)\n",
    "    S = len(l_logliks)\n",
    "    llpd = -np.log(S) + logsumexp(l_logliks)\n",
    "#     p1 = 2*(-np.log(S) + logsumexp(l_logliks) - l_logliks.mean())\n",
    "    p2 = np.var(l_logliks, ddof=ddof)\n",
    "    return -2*(llpd + -p2)\n",
    "\n",
    "def getl(arr, add=0):\n",
    "    return [a[1]+add for a in arr] "
   ]
  },
  {
   "cell_type": "code",
   "execution_count": 252,
   "metadata": {},
   "outputs": [
    {
     "name": "stdout",
     "output_type": "stream",
     "text": [
      "WAICs\n",
      "no aneuploidy 0.8320648495412682\n",
      "norm 67.85814357776349\n",
      "m5 0.6011016147521643\n",
      "m6 33.89371349032772\n",
      "m7 29.580856529687523\n"
     ]
    }
   ],
   "source": [
    "print('WAICs')\n",
    "print('no aneuploidy', WAIC_with_weights(getl(no_an,1e-6)))\n",
    "print('norm',WAIC_with_weights(getl(norm,1e-6)))\n",
    "print('m5',WAIC_with_weights(getl(m5,1e-6)))\n",
    "print('m6',WAIC_with_weights(getl(m6,1e-6)))\n",
    "print('m7',WAIC_with_weights(getl(m7,1e-6)))"
   ]
  },
  {
   "cell_type": "code",
   "execution_count": 260,
   "metadata": {},
   "outputs": [
    {
     "name": "stdout",
     "output_type": "stream",
     "text": [
      "norm 2.048177257734655\n"
     ]
    }
   ],
   "source": [
    "print('norm',WAIC_with_weights(getl(norm,0)))\n"
   ]
  },
  {
   "cell_type": "code",
   "execution_count": 261,
   "metadata": {},
   "outputs": [
    {
     "data": {
      "text/plain": [
       "[0.07763168000000009,\n",
       " 0.0,\n",
       " 0.875,\n",
       " 0.64567118,\n",
       " 0.45260768000000007,\n",
       " 0.07763168000000009,\n",
       " 0.18548750000000014,\n",
       " 0.87019488,\n",
       " 0.79688928,\n",
       " 0.0,\n",
       " 0.0,\n",
       " 0.7107031800000001,\n",
       " 0.28356607999999994,\n",
       " 0.31418477999999983,\n",
       " 0.039403980000000005,\n",
       " 0.0,\n",
       " 0.87469998,\n",
       " 0,\n",
       " 0,\n",
       " 0.81543168,\n",
       " 0.07763168000000009,\n",
       " 0.8138224000000001,\n",
       " 0.15065088000000015,\n",
       " 0.7866295799999999,\n",
       " 0.5682295799999999,\n",
       " 0.8448,\n",
       " 0.0,\n",
       " 0.3282160000000001,\n",
       " 0.0,\n",
       " 0.2519239799999998,\n",
       " 0.64567118,\n",
       " 0.0,\n",
       " 0.0,\n",
       " 0.7107031800000001,\n",
       " 0.07763168000000009,\n",
       " 0.5245815800000001,\n",
       " 0.5888,\n",
       " 0.039403980000000005,\n",
       " 0.2519239799999998,\n",
       " 0.37192848,\n",
       " 0.72511488,\n",
       " 0.6801919999999999,\n",
       " 0.37243118,\n",
       " 0.31418477999999983,\n",
       " 0,\n",
       " 0.6275068799999999,\n",
       " 0.0,\n",
       " 0.64567118,\n",
       " 0.18548750000000014,\n",
       " 0.5468284800000001,\n",
       " 0.37243118,\n",
       " 0,\n",
       " 0.5888,\n",
       " 0.0,\n",
       " 0.87469998,\n",
       " 0.7107031800000001,\n",
       " 0.60855438,\n",
       " 0.8237287799999999,\n",
       " 0.05268703999999993,\n",
       " 0.5888,\n",
       " 0.87469998,\n",
       " 0.5496927999999999,\n",
       " 0.11470638000000011,\n",
       " 0.5014732800000001,\n",
       " 0.6266062400000001,\n",
       " 0.7107031800000001,\n",
       " 0.42681678,\n",
       " 1.1102230246251565e-16,\n",
       " 0.0,\n",
       " 0,\n",
       " 0.0,\n",
       " 0,\n",
       " 0.0,\n",
       " 0.45260768000000007,\n",
       " 0.0,\n",
       " 0.37243118,\n",
       " 0.87019488,\n",
       " 0.0,\n",
       " 0.11470638000000011,\n",
       " 0,\n",
       " 0.83840718,\n",
       " 0.8722983799999999,\n",
       " 0.76409358,\n",
       " 0.18548750000000014,\n",
       " 0.875,\n",
       " 0.039403980000000005,\n",
       " 0.0,\n",
       " 0.7518,\n",
       " 0.0,\n",
       " 0.0,\n",
       " 0,\n",
       " 0.042197100000000015,\n",
       " 0.8237287799999999,\n",
       " 0.11470638000000011,\n",
       " 0.07763168000000009,\n",
       " 0.11470638000000011,\n",
       " 0.5468284800000001,\n",
       " 0.08507984000000007,\n",
       " 0.8722983799999999,\n",
       " 0.5245815800000001]"
      ]
     },
     "execution_count": 261,
     "metadata": {},
     "output_type": "execute_result"
    }
   ],
   "source": [
    "getl(norm,0)"
   ]
  },
  {
   "cell_type": "code",
   "execution_count": 250,
   "metadata": {},
   "outputs": [
    {
     "data": {
      "text/plain": [
       "[{'Model': 'without aneuploidy', 'WAIC': 0.83},\n",
       " {'Model': 'free mutation rate, $\\\\mu$', 'WAIC': 67.86},\n",
       " {'Model': 'fixed mutation rate, $\\\\mu=10^{{-{5}}}$',\n",
       "  'WAIC': '$\\\\textbf{0.6}$'},\n",
       " {'Model': 'fixed mutation rate, $\\\\mu=10^{{-{6}}}$', 'WAIC': 33.89},\n",
       " {'Model': 'fixed mutation rate, $\\\\mu=10^{{-{7}}}$', 'WAIC': 29.58}]"
      ]
     },
     "execution_count": 250,
     "metadata": {},
     "output_type": "execute_result"
    }
   ],
   "source": [
    "# save into csv\n",
    "results = []\n",
    "results.append(dict(Model='without aneuploidy', WAIC=WAIC_with_weights(getl(no_an,1e-6),2)))\n",
    "results.append(dict(Model='free mutation rate, $\\mu$', WAIC=WAIC_with_weights(getl(norm,1e-6),2)))\n",
    "results.append(dict(Model='fixed mutation rate, $\\mu=10^{{-{5}}}$', WAIC='$\\\\textbf{' + str(WAIC_with_weights(getl(m5,1e-6),2))+'}$'))\n",
    "results.append(dict(Model='fixed mutation rate, $\\mu=10^{{-{6}}}$', WAIC=WAIC_with_weights(getl(m6,1e-6),2)))\n",
    "results.append(dict(Model='fixed mutation rate, $\\mu=10^{{-{7}}}$', WAIC=WAIC_with_weights(getl(m7,1e-6),2)))\n",
    "results"
   ]
  },
  {
   "cell_type": "code",
   "execution_count": 251,
   "metadata": {},
   "outputs": [
    {
     "data": {
      "text/html": [
       "<div>\n",
       "<style scoped>\n",
       "    .dataframe tbody tr th:only-of-type {\n",
       "        vertical-align: middle;\n",
       "    }\n",
       "\n",
       "    .dataframe tbody tr th {\n",
       "        vertical-align: top;\n",
       "    }\n",
       "\n",
       "    .dataframe thead th {\n",
       "        text-align: right;\n",
       "    }\n",
       "</style>\n",
       "<table border=\"1\" class=\"dataframe\">\n",
       "  <thead>\n",
       "    <tr style=\"text-align: right;\">\n",
       "      <th></th>\n",
       "      <th>Model</th>\n",
       "      <th>WAIC</th>\n",
       "    </tr>\n",
       "  </thead>\n",
       "  <tbody>\n",
       "    <tr>\n",
       "      <th>0</th>\n",
       "      <td>without aneuploidy</td>\n",
       "      <td>0.83</td>\n",
       "    </tr>\n",
       "    <tr>\n",
       "      <th>1</th>\n",
       "      <td>free mutation rate, $\\mu$</td>\n",
       "      <td>67.86</td>\n",
       "    </tr>\n",
       "    <tr>\n",
       "      <th>2</th>\n",
       "      <td>fixed mutation rate, $\\mu=10^{{-{5}}}$</td>\n",
       "      <td>$\\textbf{0.6}$</td>\n",
       "    </tr>\n",
       "    <tr>\n",
       "      <th>3</th>\n",
       "      <td>fixed mutation rate, $\\mu=10^{{-{6}}}$</td>\n",
       "      <td>33.89</td>\n",
       "    </tr>\n",
       "    <tr>\n",
       "      <th>4</th>\n",
       "      <td>fixed mutation rate, $\\mu=10^{{-{7}}}$</td>\n",
       "      <td>29.58</td>\n",
       "    </tr>\n",
       "  </tbody>\n",
       "</table>\n",
       "</div>"
      ],
      "text/plain": [
       "                                    Model            WAIC\n",
       "0                      without aneuploidy            0.83\n",
       "1               free mutation rate, $\\mu$           67.86\n",
       "2  fixed mutation rate, $\\mu=10^{{-{5}}}$  $\\textbf{0.6}$\n",
       "3  fixed mutation rate, $\\mu=10^{{-{6}}}$           33.89\n",
       "4  fixed mutation rate, $\\mu=10^{{-{7}}}$           29.58"
      ]
     },
     "execution_count": 251,
     "metadata": {},
     "output_type": "execute_result"
    }
   ],
   "source": [
    "df = pd.DataFrame(results)\n",
    "# df = pd.pivot(df, index='Model', columns='WAIC')\n",
    "df.reset_index(drop=True, inplace=True)\n",
    "df.to_csv(f'{output_path}/Table_WAIC.csv', index=False, float_format=\"%.2f\", sep=';')\n",
    "df"
   ]
  },
  {
   "cell_type": "code",
   "execution_count": null,
   "metadata": {},
   "outputs": [],
   "source": [
    "#What happens when 1e-6 is not added?"
   ]
  }
 ],
 "metadata": {
  "kernelspec": {
   "display_name": "Environment (conda_py371)",
   "language": "python",
   "name": "conda_py371"
  },
  "language_info": {
   "codemirror_mode": {
    "name": "ipython",
    "version": 3
   },
   "file_extension": ".py",
   "mimetype": "text/x-python",
   "name": "python",
   "nbconvert_exporter": "python",
   "pygments_lexer": "ipython3",
   "version": "3.7.2"
  }
 },
 "nbformat": 4,
 "nbformat_minor": 2
}
