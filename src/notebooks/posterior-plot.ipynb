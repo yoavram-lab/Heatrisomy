{
 "cells": [
  {
   "cell_type": "code",
   "execution_count": null,
   "metadata": {},
   "outputs": [],
   "source": [
    "def plot(samples, weights, lims=False, logscale = False):   \n",
    "    if logscale is True:\n",
    "        for c in samples.columns:\n",
    "            samples[c] = samples[c].apply(lambda x: np.log(x))\n",
    "            \n",
    "    kde = scipy.stats.gaussian_kde(samples.T.values.tolist(),weights=weights)\n",
    "    size = 50000\n",
    "    samples = kde.resample(size).T\n",
    "    samples = pd.DataFrame(data=samples,columns=['mutation rate', 'trisomy rate', '2n+1 fitness', '2n+1* fitness', '2n* fitness'])\n",
    "    weights = np.full(size,1/size)\n",
    "    params_hat = scipy.optimize.minimize(lambda x: -kde.logpdf(x) ,samples.median().values)['x']\n",
    "#     params_hat = samples.median()\n",
    "    print(params_hat)\n",
    "    mutl = (10.0**-9,10.0**-6)\n",
    "    tril = (10.0**-5,10.0**-2)\n",
    "    limits = {\n",
    "        'mutation rate':mutl,\n",
    "        'trisomy rate':tril,\n",
    "        '2n+1 fitness':(1,1.1),\n",
    "        '2n+1* fitness':(1,1.1),\n",
    "        '2n* fitness':(1,1.1)}\n",
    "    \n",
    "    if logscale is True:\n",
    "        limits = {i:(np.log(v[0]),np.log(v[1])) for (i,v) in limits.items()}\n",
    "        \n",
    "    if lims is True:\n",
    "        axes = plot_kde_matrix_for_paper(\n",
    "            samples, weights,numx=1000,limits=limits,numy=1000,refval={c:p for c,p in  zip(samples.columns,params_hat)}\n",
    "        )\n",
    "    else:\n",
    "        axes = plot_kde_matrix_for_paper(\n",
    "            samples, weights,numx=1000,numy=1000,refval={c:p for c,p in  zip(samples.columns,params_hat)}\n",
    "        )"
   ]
  }
 ],
 "metadata": {
  "kernelspec": {
   "display_name": "Environment (conda_py371)",
   "language": "python",
   "name": "conda_py371"
  },
  "language_info": {
   "codemirror_mode": {
    "name": "ipython",
    "version": 3
   },
   "file_extension": ".py",
   "mimetype": "text/x-python",
   "name": "python",
   "nbconvert_exporter": "python",
   "pygments_lexer": "ipython3",
   "version": "3.7.2"
  }
 },
 "nbformat": 4,
 "nbformat_minor": 2
}
