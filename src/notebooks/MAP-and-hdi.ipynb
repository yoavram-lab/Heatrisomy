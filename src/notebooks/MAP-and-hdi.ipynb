{
 "cells": [
  {
   "cell_type": "code",
   "execution_count": 3,
   "metadata": {},
   "outputs": [
    {
     "data": {
      "text/html": [
       "<div>\n",
       "<style scoped>\n",
       "    .dataframe tbody tr th:only-of-type {\n",
       "        vertical-align: middle;\n",
       "    }\n",
       "\n",
       "    .dataframe tbody tr th {\n",
       "        vertical-align: top;\n",
       "    }\n",
       "\n",
       "    .dataframe thead th {\n",
       "        text-align: right;\n",
       "    }\n",
       "</style>\n",
       "<table border=\"1\" class=\"dataframe\">\n",
       "  <thead>\n",
       "    <tr style=\"text-align: right;\">\n",
       "      <th></th>\n",
       "      <th>t</th>\n",
       "      <th>population_end_time</th>\n",
       "      <th>samples</th>\n",
       "      <th>epsilon</th>\n",
       "      <th>particles</th>\n",
       "    </tr>\n",
       "  </thead>\n",
       "  <tbody>\n",
       "    <tr>\n",
       "      <th>30</th>\n",
       "      <td>29</td>\n",
       "      <td>2022-01-05 22:32:43.491437</td>\n",
       "      <td>8276</td>\n",
       "      <td>0.277612</td>\n",
       "      <td>14</td>\n",
       "    </tr>\n",
       "    <tr>\n",
       "      <th>31</th>\n",
       "      <td>30</td>\n",
       "      <td>2022-01-06 20:40:28.751281</td>\n",
       "      <td>9066</td>\n",
       "      <td>0.275595</td>\n",
       "      <td>14</td>\n",
       "    </tr>\n",
       "    <tr>\n",
       "      <th>32</th>\n",
       "      <td>31</td>\n",
       "      <td>2022-01-08 21:03:27.959201</td>\n",
       "      <td>26766</td>\n",
       "      <td>0.272928</td>\n",
       "      <td>11</td>\n",
       "    </tr>\n",
       "  </tbody>\n",
       "</table>\n",
       "</div>"
      ],
      "text/plain": [
       "     t        population_end_time  samples   epsilon  particles\n",
       "30  29 2022-01-05 22:32:43.491437     8276  0.277612         14\n",
       "31  30 2022-01-06 20:40:28.751281     9066  0.275595         14\n",
       "32  31 2022-01-08 21:03:27.959201    26766  0.272928         11"
      ]
     },
     "execution_count": 3,
     "metadata": {},
     "output_type": "execute_result"
    }
   ],
   "source": [
    "import pyabc\n",
    "import scipy\n",
    "import numpy as np\n",
    "from pyabc.visualization import plot_kde_matrix_highlevel,plot_kde_matrix2,plot_kde_matrix_for_paper\n",
    "from datetime import datetime\n",
    "import pandas as pd\n",
    "from arviz import hdi\n",
    "from pyabc.visualization import plot_kde_matrix_highlevel, plot_kde_matrix\n",
    "import numpy as np\n",
    "import matplotlib.pyplot as plt\n",
    "path = '/Users/adsurbum/sim-data/single-model-abc/new4'\n",
    "\n",
    "f_no_aneuploidy = '2021-12-29-no-aneuploidy'\n",
    "f_with_aneuploidy = '2021-12-29-an200-k1'\n",
    "\n",
    "history = pyabc.History(\"sqlite:///{0}/{1}/{1}.db\".format(path,f_no_aneuploidy))\n",
    "history.get_all_populations()[-3:]"
   ]
  },
  {
   "cell_type": "code",
   "execution_count": 4,
   "metadata": {},
   "outputs": [
    {
     "data": {
      "text/html": [
       "<div>\n",
       "<style scoped>\n",
       "    .dataframe tbody tr th:only-of-type {\n",
       "        vertical-align: middle;\n",
       "    }\n",
       "\n",
       "    .dataframe tbody tr th {\n",
       "        vertical-align: top;\n",
       "    }\n",
       "\n",
       "    .dataframe thead th {\n",
       "        text-align: right;\n",
       "    }\n",
       "</style>\n",
       "<table border=\"1\" class=\"dataframe\">\n",
       "  <thead>\n",
       "    <tr style=\"text-align: right;\">\n",
       "      <th></th>\n",
       "      <th>t</th>\n",
       "      <th>population_end_time</th>\n",
       "      <th>samples</th>\n",
       "      <th>epsilon</th>\n",
       "      <th>particles</th>\n",
       "    </tr>\n",
       "  </thead>\n",
       "  <tbody>\n",
       "    <tr>\n",
       "      <th>4</th>\n",
       "      <td>3</td>\n",
       "      <td>2021-12-29 16:37:20.673694</td>\n",
       "      <td>16125</td>\n",
       "      <td>0.145762</td>\n",
       "      <td>1111</td>\n",
       "    </tr>\n",
       "    <tr>\n",
       "      <th>5</th>\n",
       "      <td>4</td>\n",
       "      <td>2021-12-29 21:50:47.240188</td>\n",
       "      <td>27629</td>\n",
       "      <td>0.131083</td>\n",
       "      <td>964</td>\n",
       "    </tr>\n",
       "    <tr>\n",
       "      <th>6</th>\n",
       "      <td>5</td>\n",
       "      <td>2021-12-30 08:00:52.829615</td>\n",
       "      <td>53803</td>\n",
       "      <td>0.126588</td>\n",
       "      <td>982</td>\n",
       "    </tr>\n",
       "  </tbody>\n",
       "</table>\n",
       "</div>"
      ],
      "text/plain": [
       "   t        population_end_time  samples   epsilon  particles\n",
       "4  3 2021-12-29 16:37:20.673694    16125  0.145762       1111\n",
       "5  4 2021-12-29 21:50:47.240188    27629  0.131083        964\n",
       "6  5 2021-12-30 08:00:52.829615    53803  0.126588        982"
      ]
     },
     "execution_count": 4,
     "metadata": {},
     "output_type": "execute_result"
    }
   ],
   "source": [
    "history = pyabc.History(\"sqlite:///{0}/{1}/{1}.db\".format(path,f_with_aneuploidy))\n",
    "history.get_all_populations()[-3:]"
   ]
  },
  {
   "cell_type": "code",
   "execution_count": 9,
   "metadata": {},
   "outputs": [],
   "source": [
    "def roundd(v):\n",
    "    if v<1e-5:\n",
    "        return round(v,8)\n",
    "    elif v<1e-4:\n",
    "        return round(v,7)\n",
    "    else:\n",
    "        return round(v,3)\n",
    "    \n",
    "def findd(n):\n",
    "    for i in range(0,12):\n",
    "        m = n*10**i\n",
    "        if m>=1 and m<=10:\n",
    "            return i\n",
    "    raise ValueError(n)\n",
    "    \n",
    "def mediansplusminus(samples,kde):\n",
    "    MAP = scipy.optimize.minimize(lambda x: -kde.logpdf(x) ,samples.median().values)['x']\n",
    "    hi = hdi(samples.values, hdi_prob=.50).T[1]\n",
    "    lo = hdi(samples.values, hdi_prob=.50).T[0]\n",
    "    hi = hi*(10**np.array(list(map(findd,MAP))))\n",
    "    lo = lo*(10**np.array(list(map(findd,MAP))))\n",
    "    m = MAP*(10**np.array(list(map(findd,MAP))))\n",
    "    plus = (hi-m)\n",
    "    minus = (m-lo)\n",
    "    return (m,plus,minus,list(map(findd,MAP)))\n",
    "\n",
    "def print_mode_and_hdi(f, display_cols):\n",
    "    history = pyabc.History(\"sqlite:///{0}/{1}/{1}.db\".format(path, f))\n",
    "    \n",
    "    samples, weights = history.get_distribution(m=0, t=None)\n",
    "    columns = list(samples.columns)\n",
    "    kde = scipy.stats.gaussian_kde(samples.T.values.tolist(), weights=weights)\n",
    "    size = 50000\n",
    "    samples = kde.resample(size).T\n",
    "    samples = pd.DataFrame(data=samples,columns=display_cols)\n",
    "\n",
    "    ans = mediansplusminus(samples, kde)\n",
    "    ans = [list(map(roundd,a)) for a in ans]\n",
    "    for a in list(zip(list(samples.columns.values),*ans)):\n",
    "        if a[-1]==0:\n",
    "            print('${}={}\\substack{{+{} \\\\\\ -{}}}$,'.format(*a))\n",
    "        else:\n",
    "            print('${}={}\\substack{{+{} \\\\\\ -{}}}\\\\times10^{{-{}}}$,'.format(*a))\n",
    "            \n",
    "import warnings\n",
    "warnings.filterwarnings('ignore')"
   ]
  },
  {
   "cell_type": "code",
   "execution_count": 10,
   "metadata": {},
   "outputs": [
    {
     "name": "stdout",
     "output_type": "stream",
     "text": [
      "$\\mu=7.837\\substack{+0.078 \\\\ -0.121}\\times10^{-9}$,\n",
      "$w_{2n^*}=1.013\\substack{+0.0 \\\\ -0.0}$,\n"
     ]
    }
   ],
   "source": [
    "print_mode_and_hdi(f_no_aneuploidy, display_cols = ['\\mu', 'w_{2n^*}'])"
   ]
  },
  {
   "cell_type": "code",
   "execution_count": 38,
   "metadata": {},
   "outputs": [
    {
     "name": "stdout",
     "output_type": "stream",
     "text": [
      "$\\mu=2.93\\substack{+1.122 \\\\ -2.824}\\times10^{-6}$,\n",
      "$\\delta=1.716\\substack{+0.974 \\\\ -0.384}\\times10^{-3}$,\n",
      "$w_{2n+1}=1.022\\substack{+0.001 \\\\ -0.002}$,\n",
      "$w_{2n+1^*}=1.025\\substack{+0.001 \\\\ -0.001}$,\n",
      "$w_{2n^*}=1.028\\substack{+0.001 \\\\ -0.001}$,\n"
     ]
    }
   ],
   "source": [
    "print_mode_and_hdi(f_with_aneuploidy, display_cols = ['\\mu','\\delta','w_{2n+1}','w_{2n+1^*}', 'w_{2n^*}'])"
   ]
  },
  {
   "cell_type": "code",
   "execution_count": null,
   "metadata": {},
   "outputs": [],
   "source": [
    "#TODO for tau=100"
   ]
  }
 ],
 "metadata": {
  "kernelspec": {
   "display_name": "Environment (conda_py371)",
   "language": "python",
   "name": "conda_py371"
  },
  "language_info": {
   "codemirror_mode": {
    "name": "ipython",
    "version": 3
   },
   "file_extension": ".py",
   "mimetype": "text/x-python",
   "name": "python",
   "nbconvert_exporter": "python",
   "pygments_lexer": "ipython3",
   "version": "3.7.2"
  }
 },
 "nbformat": 4,
 "nbformat_minor": 2
}
