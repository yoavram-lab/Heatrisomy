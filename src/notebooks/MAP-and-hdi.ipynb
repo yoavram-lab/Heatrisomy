{
 "cells": [
  {
   "cell_type": "code",
   "execution_count": 35,
   "metadata": {},
   "outputs": [
    {
     "data": {
      "text/html": [
       "<div>\n",
       "<style scoped>\n",
       "    .dataframe tbody tr th:only-of-type {\n",
       "        vertical-align: middle;\n",
       "    }\n",
       "\n",
       "    .dataframe tbody tr th {\n",
       "        vertical-align: top;\n",
       "    }\n",
       "\n",
       "    .dataframe thead th {\n",
       "        text-align: right;\n",
       "    }\n",
       "</style>\n",
       "<table border=\"1\" class=\"dataframe\">\n",
       "  <thead>\n",
       "    <tr style=\"text-align: right;\">\n",
       "      <th></th>\n",
       "      <th>t</th>\n",
       "      <th>population_end_time</th>\n",
       "      <th>samples</th>\n",
       "      <th>epsilon</th>\n",
       "      <th>particles</th>\n",
       "    </tr>\n",
       "  </thead>\n",
       "  <tbody>\n",
       "    <tr>\n",
       "      <th>31</th>\n",
       "      <td>30</td>\n",
       "      <td>2022-01-06 20:40:28.751281</td>\n",
       "      <td>9066</td>\n",
       "      <td>0.275595</td>\n",
       "      <td>14</td>\n",
       "    </tr>\n",
       "    <tr>\n",
       "      <th>32</th>\n",
       "      <td>31</td>\n",
       "      <td>2022-01-08 21:03:27.959201</td>\n",
       "      <td>26766</td>\n",
       "      <td>0.272928</td>\n",
       "      <td>11</td>\n",
       "    </tr>\n",
       "    <tr>\n",
       "      <th>33</th>\n",
       "      <td>32</td>\n",
       "      <td>2022-01-12 13:03:32.838836</td>\n",
       "      <td>53034</td>\n",
       "      <td>0.267157</td>\n",
       "      <td>14</td>\n",
       "    </tr>\n",
       "  </tbody>\n",
       "</table>\n",
       "</div>"
      ],
      "text/plain": [
       "     t        population_end_time  samples   epsilon  particles\n",
       "31  30 2022-01-06 20:40:28.751281     9066  0.275595         14\n",
       "32  31 2022-01-08 21:03:27.959201    26766  0.272928         11\n",
       "33  32 2022-01-12 13:03:32.838836    53034  0.267157         14"
      ]
     },
     "execution_count": 35,
     "metadata": {},
     "output_type": "execute_result"
    }
   ],
   "source": [
    "import pyabc\n",
    "import scipy\n",
    "import numpy as np\n",
    "from pyabc.visualization import plot_kde_matrix_highlevel,plot_kde_matrix2,plot_kde_matrix_for_paper\n",
    "from datetime import datetime\n",
    "import pandas as pd\n",
    "from arviz import hdi\n",
    "from pyabc.visualization import plot_kde_matrix_highlevel, plot_kde_matrix\n",
    "import numpy as np\n",
    "import matplotlib.pyplot as plt\n",
    "\n",
    "path = '../../results'\n",
    "\n",
    "f_no_aneuploidy = 'no-aneuploidy'\n",
    "f_with_aneuploidy = 'basic-prior'\n",
    "f_tau100 = 'tau100'\n",
    "f_tau10 = 'tau10'\n",
    "\n",
    "history = pyabc.History(\"sqlite:///{0}/{1}/{1}.db\".format(path,f_no_aneuploidy))\n",
    "history.get_all_populations()[-3:]"
   ]
  },
  {
   "cell_type": "code",
   "execution_count": 36,
   "metadata": {},
   "outputs": [
    {
     "data": {
      "text/html": [
       "<div>\n",
       "<style scoped>\n",
       "    .dataframe tbody tr th:only-of-type {\n",
       "        vertical-align: middle;\n",
       "    }\n",
       "\n",
       "    .dataframe tbody tr th {\n",
       "        vertical-align: top;\n",
       "    }\n",
       "\n",
       "    .dataframe thead th {\n",
       "        text-align: right;\n",
       "    }\n",
       "</style>\n",
       "<table border=\"1\" class=\"dataframe\">\n",
       "  <thead>\n",
       "    <tr style=\"text-align: right;\">\n",
       "      <th></th>\n",
       "      <th>t</th>\n",
       "      <th>population_end_time</th>\n",
       "      <th>samples</th>\n",
       "      <th>epsilon</th>\n",
       "      <th>particles</th>\n",
       "    </tr>\n",
       "  </thead>\n",
       "  <tbody>\n",
       "    <tr>\n",
       "      <th>4</th>\n",
       "      <td>3</td>\n",
       "      <td>2021-12-29 16:37:20.673694</td>\n",
       "      <td>16125</td>\n",
       "      <td>0.145762</td>\n",
       "      <td>1111</td>\n",
       "    </tr>\n",
       "    <tr>\n",
       "      <th>5</th>\n",
       "      <td>4</td>\n",
       "      <td>2021-12-29 21:50:47.240188</td>\n",
       "      <td>27629</td>\n",
       "      <td>0.131083</td>\n",
       "      <td>964</td>\n",
       "    </tr>\n",
       "    <tr>\n",
       "      <th>6</th>\n",
       "      <td>5</td>\n",
       "      <td>2021-12-30 08:00:52.829615</td>\n",
       "      <td>53803</td>\n",
       "      <td>0.126588</td>\n",
       "      <td>982</td>\n",
       "    </tr>\n",
       "  </tbody>\n",
       "</table>\n",
       "</div>"
      ],
      "text/plain": [
       "   t        population_end_time  samples   epsilon  particles\n",
       "4  3 2021-12-29 16:37:20.673694    16125  0.145762       1111\n",
       "5  4 2021-12-29 21:50:47.240188    27629  0.131083        964\n",
       "6  5 2021-12-30 08:00:52.829615    53803  0.126588        982"
      ]
     },
     "execution_count": 36,
     "metadata": {},
     "output_type": "execute_result"
    }
   ],
   "source": [
    "history = pyabc.History(\"sqlite:///{0}/{1}/{1}.db\".format(path,f_with_aneuploidy))\n",
    "history.get_all_populations()[-3:]"
   ]
  },
  {
   "cell_type": "code",
   "execution_count": 62,
   "metadata": {},
   "outputs": [],
   "source": [
    "def sample_from_kde(file_name, size=5_000_000, t=None):\n",
    "    history = pyabc.History(\"sqlite:///{0}/{1}/{1}.db\".format(path, file_name))\n",
    "    samples, weights = history.get_distribution(m=0, t=None)\n",
    "    kde = scipy.stats.gaussian_kde(samples.T.values.tolist(),weights=weights)\n",
    "    kdesamples = kde.resample(2*size).T\n",
    "    if len(samples.columns)==2:\n",
    "        kdesamples = pd.DataFrame(data=kdesamples,columns=['mutation rate', '2n* fitness'])\n",
    "        kdesamples = kdesamples[(kdesamples['mutation rate']>1e-9) & (kdesamples['mutation rate']<1e-5)][:size]\n",
    "    else:\n",
    "        kdesamples = pd.DataFrame(data=kdesamples,columns=['mutation rate', 'trisomy rate', '2n+1 fitness', '2n+1* fitness', '2n* fitness'])\n",
    "        kdesamples = kdesamples[(kdesamples['mutation rate']>1e-9) & (kdesamples['mutation rate']<1e-5) &\n",
    "                  (kdesamples['trisomy rate']>1e-6) & (kdesamples['mutation rate']<1e-2)][:size]\n",
    "    return kdesamples, kde\n",
    "\n",
    "def roundd(v):\n",
    "    return round(v,3)\n",
    "        \n",
    "def findd(n):\n",
    "    for i in range(0,12):\n",
    "        m = n*10**i\n",
    "        if m>=1 and m<=10:\n",
    "            return i\n",
    "    raise ValueError(n)\n",
    "           \n",
    "# returns (MAP, low_hdi, high_hdi)\n",
    "def calc_hdi(f, hdi_p=.50):\n",
    "    samples, kde = sample_from_kde(f)\n",
    "    MAP = scipy.optimize.minimize(lambda x: -kde.logpdf(x) if x[0]>1e-9 and x[0]<1e-5 \n",
    "                                  and x[1]>1e-6 and x[1]<1e-2 else 100000\n",
    "                                  ,samples.median().values)['x']\n",
    "    hdi_res = hdi(samples.values, hdi_prob=hdi_p)\n",
    "    hi = hdi_res.T[1]\n",
    "    lo = hdi_res.T[0]\n",
    "    return (MAP, lo, hi)\n",
    "\n",
    "def print_mode_and_hdi(f, display_cols=['\\mu','\\delta','w_{2n+1}','w_{2n+1^*}', 'w_{2n^*}'], hdi_p=.5):\n",
    "    ans = calc_hdi(f,hdi_p)\n",
    "    orders = [np.array(list(map(findd,ans))) for ans in ans]\n",
    "    singles = [list(map(roundd,ans*(10**np.array(list(map(findd,ans)))))) for ans in ans]\n",
    "    for a in list(zip(list(display_cols),*singles, *orders)):\n",
    "        if a[-1]==0:\n",
    "            print('${}={}\\\\ [{}-{}]$,'.format(*a))\n",
    "        else:\n",
    "            print('${0}={1}\\\\cdot10^{{-{4}}}\\\\ [{2}\\\\cdot10^{{-{5}}}-{3}\\\\cdot10^{{-{6}}}]$,'.format(*a))\n",
    "    \n",
    "\n",
    "import warnings\n",
    "warnings.filterwarnings('ignore')"
   ]
  },
  {
   "cell_type": "code",
   "execution_count": 69,
   "metadata": {},
   "outputs": [
    {
     "name": "stdout",
     "output_type": "stream",
     "text": [
      "$\\mu=7.98\\cdot10^{-9}\\ [7.907\\cdot10^{-9}-8.139\\cdot10^{-9}]$,\n",
      "$w_{2n^*}=1.013\\ [1.012-1.013]$,\n"
     ]
    }
   ],
   "source": [
    "print_mode_and_hdi(f_no_aneuploidy, display_cols = ['\\mu', 'w_{2n^*}'])"
   ]
  },
  {
   "cell_type": "code",
   "execution_count": 63,
   "metadata": {},
   "outputs": [
    {
     "name": "stdout",
     "output_type": "stream",
     "text": [
      "$\\mu=2.986\\cdot10^{-6}\\ [3.734\\cdot10^{-7}-3.725\\cdot10^{-6}]$,\n",
      "$\\delta=1.724\\cdot10^{-3}\\ [1.451\\cdot10^{-3}-2.766\\cdot10^{-3}]$,\n",
      "$w_{2n+1}=1.022\\ [1.021-1.023]$,\n",
      "$w_{2n+1^*}=1.025\\ [1.023-1.026]$,\n",
      "$w_{2n^*}=1.028\\ [1.026-1.029]$,\n"
     ]
    }
   ],
   "source": [
    "print_mode_and_hdi(f_with_aneuploidy, display_cols = ['\\mu','\\delta','w_{2n+1}','w_{2n+1^*}', 'w_{2n^*}'],hdi_p=.5)"
   ]
  },
  {
   "cell_type": "code",
   "execution_count": 43,
   "metadata": {},
   "outputs": [
    {
     "data": {
      "text/plain": [
       "(0.028, 0.921, 0.107)"
      ]
     },
     "execution_count": 43,
     "metadata": {},
     "output_type": "execute_result"
    }
   ],
   "source": [
    "# w1,w2,w3 = calc_hdi(f_with_aneuploidy)[0][2:]\n",
    "w1,w2,w3 = 1.022, 1.025, 1.028\n",
    "s = w3 -1\n",
    "c = 1-(w2-w1)/(w3-1) \n",
    "b = w3-1+c\n",
    "round(s,3),round(b,3),round(1-c,3)"
   ]
  },
  {
   "cell_type": "code",
   "execution_count": 71,
   "metadata": {},
   "outputs": [
    {
     "name": "stdout",
     "output_type": "stream",
     "text": [
      "$\\mu=1.66\\cdot10^{-6}\\ [9.033\\cdot10^{-8}-2.353\\cdot10^{-6}]$,\n",
      "$\\delta=1.483\\cdot10^{-3}\\ [1.162\\cdot10^{-3}-2.492\\cdot10^{-3}]$,\n",
      "$w_{2n+1}=1.022\\ [1.021-1.023]$,\n",
      "$w_{2n+1^*}=1.025\\ [1.023-1.026]$,\n",
      "$w_{2n^*}=1.028\\ [1.026-1.029]$,\n"
     ]
    }
   ],
   "source": [
    "print_mode_and_hdi(f_tau10, display_cols = ['\\mu','\\delta','w_{2n+1}','w_{2n+1^*}', 'w_{2n^*}'],hdi_p=.5)"
   ]
  },
  {
   "cell_type": "code",
   "execution_count": 70,
   "metadata": {},
   "outputs": [
    {
     "name": "stdout",
     "output_type": "stream",
     "text": [
      "$\\mu=3.84\\cdot10^{-7}\\ [6.53\\cdot10^{-8}-6.207\\cdot10^{-7}]$,\n",
      "$\\delta=7.636\\cdot10^{-4}\\ [4.753\\cdot10^{-4}-1.818\\cdot10^{-3}]$,\n",
      "$w_{2n+1}=1.022\\ [1.021-1.024]$,\n",
      "$w_{2n+1^*}=1.024\\ [1.023-1.026]$,\n",
      "$w_{2n^*}=1.028\\ [1.026-1.029]$,\n"
     ]
    }
   ],
   "source": [
    "print_mode_and_hdi(f_tau100, display_cols = ['\\mu','\\delta','w_{2n+1}','w_{2n+1^*}', 'w_{2n^*}'],hdi_p=.5)"
   ]
  }
 ],
 "metadata": {
  "kernelspec": {
   "display_name": "Environment (conda_py371)",
   "language": "python",
   "name": "conda_py371"
  },
  "language_info": {
   "codemirror_mode": {
    "name": "ipython",
    "version": 3
   },
   "file_extension": ".py",
   "mimetype": "text/x-python",
   "name": "python",
   "nbconvert_exporter": "python",
   "pygments_lexer": "ipython3",
   "version": "3.7.2"
  }
 },
 "nbformat": 4,
 "nbformat_minor": 2
}
