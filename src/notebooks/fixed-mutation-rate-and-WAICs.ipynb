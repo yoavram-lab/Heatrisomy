{
 "cells": [
  {
   "cell_type": "code",
   "execution_count": 428,
   "metadata": {},
   "outputs": [],
   "source": [
    "import pyabc\n",
    "import scipy\n",
    "import numpy as np\n",
    "from pyabc.visualization import plot_kde_matrix_highlevel,plot_kde_matrix2\n",
    "from datetime import datetime\n",
    "import pandas as pd\n",
    "from arviz import hdi\n",
    "from pyabc.visualization import plot_kde_matrix_highlevel, plot_kde_matrix\n",
    "import numpy as np\n",
    "import matplotlib.pyplot as plt\n",
    "\n",
    "path = '/Users/adsurbum/sim-data/single-model-abc/new4'\n",
    "output_path = '../../figures'\n",
    "\n",
    "f_no_aneuploidy = '2021-12-29-no-aneuploidy'\n",
    "f_with_aneuploidy = '2021-12-29-an200-k1'\n",
    "f100 = '2022-01-04-tau1-r100-22'\n",
    "f_wider_range = '2022-02-13-wider-mutation-rate-r100'\n",
    "f_fixedm5 = '2022-02-15-m5-r100'\n",
    "f_fixedm6 = '2022-02-15-m6-r100'\n",
    "f_fixedm7 = '2022-02-15-m7-r100'\n",
    "f_fixedm8 = '2022-02-21-m8-r100'\n",
    "f_prior4 = '2022-01-06-tau1-prior4-100' #another informative prior TODO 1k\n",
    "f_prior4 = '2022-01-24-prior4-tau1-1kreps'"
   ]
  },
  {
   "cell_type": "code",
   "execution_count": 430,
   "metadata": {},
   "outputs": [
    {
     "data": {
      "text/html": [
       "<div>\n",
       "<style scoped>\n",
       "    .dataframe tbody tr th:only-of-type {\n",
       "        vertical-align: middle;\n",
       "    }\n",
       "\n",
       "    .dataframe tbody tr th {\n",
       "        vertical-align: top;\n",
       "    }\n",
       "\n",
       "    .dataframe thead th {\n",
       "        text-align: right;\n",
       "    }\n",
       "</style>\n",
       "<table border=\"1\" class=\"dataframe\">\n",
       "  <thead>\n",
       "    <tr style=\"text-align: right;\">\n",
       "      <th></th>\n",
       "      <th>t</th>\n",
       "      <th>population_end_time</th>\n",
       "      <th>samples</th>\n",
       "      <th>epsilon</th>\n",
       "      <th>particles</th>\n",
       "    </tr>\n",
       "  </thead>\n",
       "  <tbody>\n",
       "    <tr>\n",
       "      <th>0</th>\n",
       "      <td>-1</td>\n",
       "      <td>2022-01-24 12:05:48.612418</td>\n",
       "      <td>0</td>\n",
       "      <td>inf</td>\n",
       "      <td>1</td>\n",
       "    </tr>\n",
       "  </tbody>\n",
       "</table>\n",
       "</div>"
      ],
      "text/plain": [
       "   t        population_end_time  samples  epsilon  particles\n",
       "0 -1 2022-01-24 12:05:48.612418        0      inf          1"
      ]
     },
     "execution_count": 430,
     "metadata": {},
     "output_type": "execute_result"
    }
   ],
   "source": [
    "history = pyabc.History(\"sqlite:///{0}/{1}/{1}.db\".format(path, f_prior4))\n",
    "history.get_all_populations()"
   ]
  },
  {
   "cell_type": "markdown",
   "metadata": {},
   "source": [
    "## HDI"
   ]
  },
  {
   "cell_type": "code",
   "execution_count": 395,
   "metadata": {},
   "outputs": [],
   "source": [
    "def roundd(v):\n",
    "    return round(v,3)\n",
    "        \n",
    "def findd(n):\n",
    "    for i in range(0,12):\n",
    "        m = n*10**i\n",
    "        if m>=1 and m<=10:\n",
    "            return i\n",
    "    raise ValueError(n)\n",
    "           \n",
    "# returns (MAP, low_hdi, high_hdi)\n",
    "def calc_hdi(f, hdi_p=.50):\n",
    "    history = pyabc.History(\"sqlite:///{0}/{1}/{1}.db\".format(path, f))\n",
    "    samples, weights = history.get_distribution(m=0, t=None)\n",
    "    columns = list(samples.columns)\n",
    "    kde = scipy.stats.gaussian_kde(samples.T.values.tolist(), weights=weights)\n",
    "    size = 50000\n",
    "    samples = kde.resample(size).T\n",
    "    samples = pd.DataFrame(data=samples)\n",
    "    MAP = scipy.optimize.minimize(lambda x: -kde.logpdf(x) ,samples.median().values)['x']\n",
    "    hdi_res = hdi(samples.values, hdi_prob=hdi_p)\n",
    "    hi = hdi_res.T[1]\n",
    "    lo = hdi_res.T[0]\n",
    "    return (MAP, lo, hi)\n",
    "\n",
    "def print_mode_and_hdi(f, display_cols=['\\mu','\\delta','w_{2n+1}','w_{2n+1^*}', 'w_{2n^*}'], hdi_p=.50):\n",
    "    ans = calc_hdi(f,hdi_p)\n",
    "    orders = [np.array(list(map(findd,ans))) for ans in ans]\n",
    "    singles = [list(map(roundd,ans*(10**np.array(list(map(findd,ans)))))) for ans in ans]\n",
    "    for a in list(zip(list(display_cols),*singles, *orders)):\n",
    "        if a[-1]==0:\n",
    "            print('${}={} ({}-{})$,'.format(*a))\n",
    "        else:\n",
    "            print('${0}={1}\\\\times10^{{-{4}}} ({2}\\\\times10^{{-{5}}}-{3}\\\\times10^{{-{6}}})$,'.format(*a))\n",
    "    \n",
    "\n",
    "import warnings\n",
    "warnings.filterwarnings('ignore')"
   ]
  },
  {
   "cell_type": "code",
   "execution_count": 152,
   "metadata": {
    "scrolled": true
   },
   "outputs": [
    {
     "name": "stdout",
     "output_type": "stream",
     "text": [
      "$\\mu=2.957\\times10^{-6} (1.635\\times10^{-7}-4.115\\times10^{-6})$,\n",
      "$\\delta=1.735\\times10^{-3} (1.357\\times10^{-3}-2.719\\times10^{-3})$,\n",
      "$w_{2n+1}=1.022 (1.021-1.023)$,\n",
      "$w_{2n+1^*}=1.025 (1.024-1.026)$,\n",
      "$w_{2n^*}=1.028 (1.026-1.029)$,\n"
     ]
    }
   ],
   "source": [
    "print_mode_and_hdi(f_with_aneuploidy)"
   ]
  },
  {
   "cell_type": "code",
   "execution_count": 155,
   "metadata": {},
   "outputs": [
    {
     "name": "stdout",
     "output_type": "stream",
     "text": [
      "$\\delta=2.81\\times10^{-3} (2.271\\times10^{-3}-3.165\\times10^{-3})$,\n",
      "$w_{2n+1}=1.022 (1.021-1.023)$,\n",
      "$w_{2n+1^*}=1.025 (1.023-1.026)$,\n",
      "$w_{2n^*}=1.027 (1.026-1.028)$,\n"
     ]
    }
   ],
   "source": [
    "print_mode_and_hdi(f_fixedm5, display_cols=['\\delta','w_{2n+1}','w_{2n+1^*}', 'w_{2n^*}'])"
   ]
  },
  {
   "cell_type": "code",
   "execution_count": 156,
   "metadata": {},
   "outputs": [
    {
     "name": "stdout",
     "output_type": "stream",
     "text": [
      "$\\delta=1.996\\times10^{-3} (9.297\\times10^{-4}-2.581\\times10^{-3})$,\n",
      "$w_{2n+1}=1.022 (1.02-1.023)$,\n",
      "$w_{2n+1^*}=1.025 (1.023-1.026)$,\n",
      "$w_{2n^*}=1.028 (1.026-1.029)$,\n"
     ]
    }
   ],
   "source": [
    "print_mode_and_hdi(f_fixedm6, display_cols=['\\delta','w_{2n+1}','w_{2n+1^*}', 'w_{2n^*}'])"
   ]
  },
  {
   "cell_type": "code",
   "execution_count": 157,
   "metadata": {},
   "outputs": [
    {
     "name": "stdout",
     "output_type": "stream",
     "text": [
      "$\\delta=3.038\\times10^{-3} (2.203\\times10^{-3}-3.847\\times10^{-3})$,\n",
      "$w_{2n+1}=1.02 (1.018-1.022)$,\n",
      "$w_{2n+1^*}=1.026 (1.023-1.027)$,\n",
      "$w_{2n^*}=1.028 (1.027-1.03)$,\n"
     ]
    }
   ],
   "source": [
    "print_mode_and_hdi(f_fixedm7, display_cols=['\\delta','w_{2n+1}','w_{2n+1^*}', 'w_{2n^*}'])"
   ]
  },
  {
   "cell_type": "code",
   "execution_count": 398,
   "metadata": {},
   "outputs": [
    {
     "name": "stdout",
     "output_type": "stream",
     "text": [
      "$\\delta=2.193\\times10^{-3} (1.265\\times10^{-3}-2.546\\times10^{-3})$,\n",
      "$w_{2n+1}=1.022 (1.021-1.023)$,\n",
      "$w_{2n+1^*}=1.025 (1.023-1.026)$,\n",
      "$w_{2n^*}=1.028 (1.026-1.029)$,\n"
     ]
    }
   ],
   "source": [
    "print_mode_and_hdi(f_fixedm8, display_cols=['\\delta','w_{2n+1}','w_{2n+1^*}', 'w_{2n^*}'])"
   ]
  },
  {
   "cell_type": "markdown",
   "metadata": {},
   "source": [
    "## Sample posterior and calculate likelihoods"
   ]
  },
  {
   "cell_type": "code",
   "execution_count": 400,
   "metadata": {},
   "outputs": [],
   "source": [
    "def sample_params_calc_likelihoods(f, reps, runs, tminus=0, mr=None):\n",
    "    history = pyabc.History(\"sqlite:///{0}/{1}/{1}.db\".format(path, f))\n",
    "    samples, weights = history.get_distribution(m=0, t=history.max_t-tminus)\n",
    "#     samples.insert(0,'p1_mr', mr)\n",
    "    columns = list(samples.columns)\n",
    "    kde = scipy.stats.gaussian_kde(samples.T.values.tolist(), weights=weights)\n",
    "    size = runs\n",
    "    samples = kde.resample(size).T\n",
    "    samples = pd.DataFrame(data=samples,columns=columns)\n",
    "#     samples = samples.values[np.all(samples.values>0,axis=1)] #about 90% > 0; we filter it\n",
    "    samples = samples.values\n",
    "    \n",
    "    samples_likelihoods = []\n",
    "    for sample in samples:\n",
    "        p = sample\n",
    "#         if not np.all(p>0):\n",
    "#             g = 0\n",
    "#         else:\n",
    "        try:\n",
    "            if p[0]<0 or p[1]<0: #the case when p[1]==0 is not really interesting and have usually grade 0\n",
    "                g = 0\n",
    "            elif len(p)>2:\n",
    "                if mr is not None:\n",
    "                    p = [mr, p[0],p[0],p[1],*p[2:]] # aneuploidy gain and loss rates are the same\n",
    "#                     print(p)\n",
    "                else:\n",
    "                    p = [p[0],p[1],p[1],*p[2:]]\n",
    "                times_p = model.run_simulations(N, *p, repetitions=reps, seed=555)\n",
    "                g = model.grade_function2(times_p)\n",
    "            else:\n",
    "                p = [p[0],0,0,0,0,p[-1]]\n",
    "                times_p = model.run_simulations(N, *p, repetitions=reps, seed=555)\n",
    "                g = model.grade_function_no_aneuploidy(times_p)\n",
    "        except Exception as e:\n",
    "            print(sample)\n",
    "            print(e)\n",
    "            raise\n",
    "            \n",
    "        samples_likelihoods.append((sample, -g))\n",
    "    return samples_likelihoods\n",
    "\n",
    "import sys\n",
    "sys.path.insert(0, '../models')\n",
    "from singleLocusModel import SingleLocusModel\n",
    "model = SingleLocusModel(k=1, stopon=2752, fixation=0.95)\n",
    "N = 6*10**6"
   ]
  },
  {
   "cell_type": "code",
   "execution_count": 170,
   "metadata": {},
   "outputs": [
    {
     "name": "stdout",
     "output_type": "stream",
     "text": [
      "CPU times: user 6min 2s, sys: 3.5 s, total: 6min 5s\n",
      "Wall time: 6min 41s\n"
     ]
    },
    {
     "data": {
      "text/plain": [
       "<matplotlib.axes._subplots.AxesSubplot at 0x7fcfabd772e8>"
      ]
     },
     "execution_count": 170,
     "metadata": {},
     "output_type": "execute_result"
    },
    {
     "data": {
      "image/png": "[encoded data removed]",
      "text/plain": [
       "<Figure size 432x288 with 1 Axes>"
      ]
     },
     "metadata": {
      "image/png": {
       "height": 248,
       "width": 369
      },
      "needs_background": "light"
     },
     "output_type": "display_data"
    }
   ],
   "source": [
    "%%time\n",
    "runs = 100\n",
    "reps = 100\n",
    "p_l = sample_params_calc_likelihoods(f_with_aneuploidy, reps=reps, runs=runs)\n",
    "norm = p_l\n",
    "pd.Series([p[1] for p in p_l]).hist()"
   ]
  },
  {
   "cell_type": "code",
   "execution_count": 171,
   "metadata": {},
   "outputs": [
    {
     "name": "stdout",
     "output_type": "stream",
     "text": [
      "CPU times: user 5min 51s, sys: 2.46 s, total: 5min 53s\n",
      "Wall time: 6min 8s\n"
     ]
    },
    {
     "data": {
      "text/plain": [
       "<matplotlib.axes._subplots.AxesSubplot at 0x7fcfab984978>"
      ]
     },
     "execution_count": 171,
     "metadata": {},
     "output_type": "execute_result"
    },
    {
     "data": {
      "image/png": "[encoded data removed]",
      "text/plain": [
       "<Figure size 432x288 with 1 Axes>"
      ]
     },
     "metadata": {
      "image/png": {
       "height": 248,
       "width": 371
      },
      "needs_background": "light"
     },
     "output_type": "display_data"
    }
   ],
   "source": [
    "%%time\n",
    "runs = 100\n",
    "reps = 100\n",
    "p_l = sample_params_calc_likelihoods(f_fixedm5, reps=reps, runs=runs, mr=1e-5)\n",
    "m5 = p_l\n",
    "pd.Series([p[1] for p in p_l]).hist()"
   ]
  },
  {
   "cell_type": "code",
   "execution_count": 172,
   "metadata": {},
   "outputs": [
    {
     "name": "stdout",
     "output_type": "stream",
     "text": [
      "CPU times: user 5min 36s, sys: 2.72 s, total: 5min 38s\n",
      "Wall time: 5min 49s\n"
     ]
    },
    {
     "data": {
      "text/plain": [
       "<matplotlib.axes._subplots.AxesSubplot at 0x7fcfabd16748>"
      ]
     },
     "execution_count": 172,
     "metadata": {},
     "output_type": "execute_result"
    },
    {
     "data": {
      "image/png": "[encoded data removed]",
      "text/plain": [
       "<Figure size 432x288 with 1 Axes>"
      ]
     },
     "metadata": {
      "image/png": {
       "height": 248,
       "width": 369
      },
      "needs_background": "light"
     },
     "output_type": "display_data"
    }
   ],
   "source": [
    "%%time\n",
    "runs = 100\n",
    "reps = 100\n",
    "p_l = sample_params_calc_likelihoods(f_fixedm6, reps=reps, runs=runs, mr=1e-6)\n",
    "m6 = p_l\n",
    "pd.Series([p[1] for p in p_l]).hist()"
   ]
  },
  {
   "cell_type": "code",
   "execution_count": 401,
   "metadata": {},
   "outputs": [
    {
     "name": "stdout",
     "output_type": "stream",
     "text": [
      "CPU times: user 5min 2s, sys: 2.07 s, total: 5min 4s\n",
      "Wall time: 5min 11s\n"
     ]
    },
    {
     "data": {
      "text/plain": [
       "<matplotlib.axes._subplots.AxesSubplot at 0x7fcfaf1e64e0>"
      ]
     },
     "execution_count": 401,
     "metadata": {},
     "output_type": "execute_result"
    },
    {
     "data": {
      "image/png": "[encoded data removed]",
      "text/plain": [
       "<Figure size 432x288 with 1 Axes>"
      ]
     },
     "metadata": {
      "image/png": {
       "height": 248,
       "width": 369
      },
      "needs_background": "light"
     },
     "output_type": "display_data"
    }
   ],
   "source": [
    "%%time\n",
    "runs = 100\n",
    "reps = 100\n",
    "p_l = sample_params_calc_likelihoods(f_fixedm7, reps=reps, runs=runs, mr=1e-7)\n",
    "m7 = p_l\n",
    "pd.Series([p[1] for p in p_l]).hist()"
   ]
  },
  {
   "cell_type": "code",
   "execution_count": 404,
   "metadata": {},
   "outputs": [
    {
     "name": "stdout",
     "output_type": "stream",
     "text": [
      "CPU times: user 4min 55s, sys: 1.7 s, total: 4min 57s\n",
      "Wall time: 5min 2s\n"
     ]
    },
    {
     "data": {
      "text/plain": [
       "<matplotlib.axes._subplots.AxesSubplot at 0x7fcf910e4d30>"
      ]
     },
     "execution_count": 404,
     "metadata": {},
     "output_type": "execute_result"
    },
    {
     "data": {
      "image/png": "[encoded data removed]",
      "text/plain": [
       "<Figure size 432x288 with 1 Axes>"
      ]
     },
     "metadata": {
      "image/png": {
       "height": 248,
       "width": 369
      },
      "needs_background": "light"
     },
     "output_type": "display_data"
    }
   ],
   "source": [
    "%%time\n",
    "runs = 100\n",
    "reps = 100\n",
    "p_l = sample_params_calc_likelihoods(f_fixedm8, reps=reps, runs=runs, mr=3*10**-6)\n",
    "m8 = p_l\n",
    "pd.Series([p[1] for p in p_l]).hist()"
   ]
  },
  {
   "cell_type": "code",
   "execution_count": 425,
   "metadata": {},
   "outputs": [
    {
     "name": "stdout",
     "output_type": "stream",
     "text": [
      "CPU times: user 7min 43s, sys: 3.29 s, total: 7min 46s\n",
      "Wall time: 8min 3s\n"
     ]
    },
    {
     "data": {
      "text/plain": [
       "<matplotlib.axes._subplots.AxesSubplot at 0x7fcf923be358>"
      ]
     },
     "execution_count": 425,
     "metadata": {},
     "output_type": "execute_result"
    },
    {
     "data": {
      "image/png": "[encoded data removed]",
      "text/plain": [
       "<Figure size 432x288 with 1 Axes>"
      ]
     },
     "metadata": {
      "image/png": {
       "height": 248,
       "width": 369
      },
      "needs_background": "light"
     },
     "output_type": "display_data"
    }
   ],
   "source": [
    "%%time\n",
    "runs = 100\n",
    "reps = 100\n",
    "p_l = sample_params_calc_likelihoods(f_prior4, reps=reps, runs=runs)\n",
    "prior4 = p_l\n",
    "pd.Series([p[1] for p in p_l]).hist()"
   ]
  },
  {
   "cell_type": "code",
   "execution_count": 174,
   "metadata": {},
   "outputs": [
    {
     "name": "stdout",
     "output_type": "stream",
     "text": [
      "CPU times: user 7min 5s, sys: 4.07 s, total: 7min 9s\n",
      "Wall time: 7min 38s\n"
     ]
    },
    {
     "data": {
      "text/plain": [
       "<matplotlib.axes._subplots.AxesSubplot at 0x7fcfac5e72e8>"
      ]
     },
     "execution_count": 174,
     "metadata": {},
     "output_type": "execute_result"
    },
    {
     "data": {
      "image/png": "[encoded data removed]",
      "text/plain": [
       "<Figure size 432x288 with 1 Axes>"
      ]
     },
     "metadata": {
      "image/png": {
       "height": 248,
       "width": 369
      },
      "needs_background": "light"
     },
     "output_type": "display_data"
    }
   ],
   "source": [
    "%%time\n",
    "runs = 100\n",
    "reps = 100\n",
    "p_l = sample_params_calc_likelihoods(f_no_aneuploidy, reps=reps, runs=runs)\n",
    "no_an = p_l\n",
    "pd.Series([p[1] for p in p_l]).hist()"
   ]
  },
  {
   "cell_type": "markdown",
   "metadata": {},
   "source": [
    "## WAIC"
   ]
  },
  {
   "cell_type": "code",
   "execution_count": 403,
   "metadata": {},
   "outputs": [],
   "source": [
    "from scipy.special import logsumexp\n",
    "\n",
    "def WAIC_with_weights(likelihoods, rounding=None, weights = None):\n",
    "    if not weights:\n",
    "        weights = [1/len(likelihoods)]*len(likelihoods)\n",
    "    loglik_E = np.log(sum(a*b for a,b in zip(weights,likelihoods)))\n",
    "    #for p2\n",
    "    E_loglik = sum(a*np.log(b) for a,b in zip(weights,likelihoods))\n",
    "    p2 = sum((w*(l-E_loglik)**2 for w,l in zip(weights,np.log(likelihoods))))\n",
    "    ans =  -2*loglik_E + 2*p2\n",
    "    if rounding:\n",
    "        ans = round(ans, rounding)\n",
    "    return ans\n",
    "\n",
    "def WAIC_for_weighted_samples(f, tminus=0):\n",
    "    # TODO maybe it should be calculated using kde samples...\n",
    "    history = pyabc.History(\"sqlite:///{0}/{1}/{1}.db\".format(path,f))\n",
    "    hist_stats = history.get_weighted_sum_stats(t=history.max_t-tminus)\n",
    "    likelihoods = [a['res']-1 for a in hist_stats[1]]\n",
    "    likelihoods = -np.array(likelihoods) + 0.000001\n",
    "    weights = hist_stats[0]\n",
    "    return WAIC_with_weights(likelihoods, weights)\n",
    "\n",
    "# just another implementation for sanity check\n",
    "def WAIC_version2(logliks, ddof=0): \n",
    "    l_logliks = [np.log(l) for l in logliks]\n",
    "    l_logliks = np.array(l_logliks)\n",
    "    S = len(l_logliks)\n",
    "    llpd = -np.log(S) + logsumexp(l_logliks)\n",
    "#     p1 = 2*(-np.log(S) + logsumexp(l_logliks) - l_logliks.mean())\n",
    "    p2 = np.var(l_logliks, ddof=ddof)\n",
    "    return -2*(llpd + -p2)\n",
    "\n",
    "def getl(arr, add=0):\n",
    "    return [a[1]+add for a in arr] "
   ]
  },
  {
   "cell_type": "code",
   "execution_count": 252,
   "metadata": {},
   "outputs": [
    {
     "name": "stdout",
     "output_type": "stream",
     "text": [
      "WAICs\n",
      "no aneuploidy 0.8320648495412682\n",
      "norm 67.85814357776349\n",
      "m5 0.6011016147521643\n",
      "m6 33.89371349032772\n",
      "m7 29.580856529687523\n"
     ]
    }
   ],
   "source": [
    "print('WAICs')\n",
    "print('no aneuploidy', WAIC_with_weights(getl(no_an,1e-6)))\n",
    "print('norm',WAIC_with_weights(getl(norm,1e-6)))\n",
    "print('m5',WAIC_with_weights(getl(m5,1e-6)))\n",
    "print('m6',WAIC_with_weights(getl(m6,1e-6)))\n",
    "print('m7',WAIC_with_weights(getl(m7,1e-6))) # IT was bug here"
   ]
  },
  {
   "cell_type": "code",
   "execution_count": 426,
   "metadata": {},
   "outputs": [
    {
     "name": "stdout",
     "output_type": "stream",
     "text": [
      "WAICs\n",
      "no aneuploidy 0.8320648495412682\n",
      "norm 67.85814357776349\n",
      "m5 0.6011016147521643\n",
      "m6 33.89371349032772\n",
      "m7 8.161626928596823\n",
      "m8 10.028007779687995\n",
      "prior4 71.91148651904898\n"
     ]
    }
   ],
   "source": [
    "print('WAICs')\n",
    "print('no aneuploidy', WAIC_with_weights(getl(no_an,1e-6)))\n",
    "print('norm',WAIC_with_weights(getl(norm,1e-6)))\n",
    "print('m5',WAIC_with_weights(getl(m5,1e-6)))\n",
    "print('m6',WAIC_with_weights(getl(m6,1e-6)))\n",
    "print('m7',WAIC_with_weights(getl(m7,1e-6)))\n",
    "print('m8',WAIC_with_weights(getl(m8,1e-6)))\n",
    "print('prior4',WAIC_with_weights(getl(prior4,1e-6)))"
   ]
  },
  {
   "cell_type": "code",
   "execution_count": 343,
   "metadata": {},
   "outputs": [],
   "source": [
    "k10 = '2021-12-20-an200-k10'\n",
    "k5 = '2021-12-20-an200-k5' \n",
    "k2 = '2021-12-20-an200-k2' \n",
    "k1 = '2021-12-29-an200-k1'\n",
    "k103125 = '2021-12-16-an200-1000reps22'\n",
    "k100 = '2022-01-12-tau100-r1k'\n",
    "allf = [k1, k103125, k2, k5, k10, k100]"
   ]
  },
  {
   "cell_type": "code",
   "execution_count": 264,
   "metadata": {},
   "outputs": [
    {
     "name": "stdout",
     "output_type": "stream",
     "text": [
      "CPU times: user 29min 16s, sys: 11.5 s, total: 29min 27s\n",
      "Wall time: 31min 2s\n"
     ]
    }
   ],
   "source": [
    "%%time\n",
    "runs = 100\n",
    "reps = 100\n",
    "tau_likelihoods = [sample_params_calc_likelihoods(f, reps=reps, runs=runs) for f in allf]"
   ]
  },
  {
   "cell_type": "code",
   "execution_count": 367,
   "metadata": {},
   "outputs": [
    {
     "data": {
      "text/plain": [
       "[{'Model': 'Without aneuploidy', 'WAIC': 0.83},\n",
       " {'Model': 'Fixed mutation rate, $\\\\mu=10^{{-{5}}}$', 'WAIC': 0.6},\n",
       " {'Model': 'Fixed mutation rate, $\\\\mu=10^{{-{6}}}$', 'WAIC': 33.89},\n",
       " {'Model': 'Fixed mutation rate, $\\\\mu=10^{{-{7}}}$', 'WAIC': 29.58},\n",
       " {'Model': 'Free mutation rate, $\\\\tau=1$', 'WAIC': 78.52},\n",
       " {'Model': 'Free mutation rate, $\\\\tau=33/32$', 'WAIC': 65.92},\n",
       " {'Model': 'Free mutation rate, $\\\\tau=2$', 'WAIC': 85.32},\n",
       " {'Model': 'Free mutation rate, $\\\\tau=5$', 'WAIC': 71.89},\n",
       " {'Model': 'Free mutation rate, $\\\\tau=10$', 'WAIC': 77.38},\n",
       " {'Model': 'Free mutation rate, $\\\\tau=100$', 'WAIC': 57.67}]"
      ]
     },
     "execution_count": 367,
     "metadata": {},
     "output_type": "execute_result"
    }
   ],
   "source": [
    "results = []\n",
    "results.append(dict(Model='Without aneuploidy', WAIC=WAIC_with_weights(getl(no_an,1e-6),2)))\n",
    "# results.append(dict(Model='(2) Free mutation rate, $\\mu$', WAIC=WAIC_with_weights(getl(norm,1e-6),2)))\n",
    "# results.append(dict(Model='(2) Fixed mutation rate, $\\mu=10^{{-{5}}}$', WAIC='$\\\\textbf{' + str(WAIC_with_weights(getl(m5,1e-6),2))+'}$'))\n",
    "results.append(dict(Model='Fixed mutation rate, $\\mu=10^{{-{5}}}$', WAIC=WAIC_with_weights(getl(m5,1e-6),2)))\n",
    "results.append(dict(Model='Fixed mutation rate, $\\mu=10^{{-{6}}}$', WAIC=WAIC_with_weights(getl(m6,1e-6),2)))\n",
    "results.append(dict(Model='Fixed mutation rate, $\\mu=10^{{-{7}}}$', WAIC=WAIC_with_weights(getl(m7,1e-6),2)))\n",
    "labels = ['Free mutation rate, $\\\\tau=1$','Free mutation rate, $\\\\tau=33/32$',\n",
    "          'Free mutation rate, $\\\\tau=2$','Free mutation rate, $\\\\tau=5$','Free mutation rate, $\\\\tau=10$',\n",
    "          'Free mutation rate, $\\\\tau=100$']\n",
    "for f,l,like in zip(allf, labels, tau_likelihoods):\n",
    "    results.append(dict(Model=l, WAIC=WAIC_with_weights(getl(like,1e-6),2)))\n",
    "results"
   ]
  },
  {
   "cell_type": "code",
   "execution_count": 393,
   "metadata": {},
   "outputs": [
    {
     "data": {
      "text/html": [
       "<div>\n",
       "<style scoped>\n",
       "    .dataframe tbody tr th:only-of-type {\n",
       "        vertical-align: middle;\n",
       "    }\n",
       "\n",
       "    .dataframe tbody tr th {\n",
       "        vertical-align: top;\n",
       "    }\n",
       "\n",
       "    .dataframe thead th {\n",
       "        text-align: right;\n",
       "    }\n",
       "</style>\n",
       "<table border=\"1\" class=\"dataframe\">\n",
       "  <thead>\n",
       "    <tr style=\"text-align: right;\">\n",
       "      <th></th>\n",
       "      <th>id</th>\n",
       "      <th>Model</th>\n",
       "      <th>WAIC</th>\n",
       "    </tr>\n",
       "  </thead>\n",
       "  <tbody>\n",
       "    <tr>\n",
       "      <th>0</th>\n",
       "      <td>1</td>\n",
       "      <td>Without aneuploidy</td>\n",
       "      <td>0.83</td>\n",
       "    </tr>\n",
       "    <tr>\n",
       "      <th>1</th>\n",
       "      <td>2</td>\n",
       "      <td>Fixed mutation rate, $\\mu=10^{{-{5}}}$</td>\n",
       "      <td>0.60</td>\n",
       "    </tr>\n",
       "    <tr>\n",
       "      <th>2</th>\n",
       "      <td>3</td>\n",
       "      <td>Fixed mutation rate, $\\mu=10^{{-{6}}}$</td>\n",
       "      <td>33.89</td>\n",
       "    </tr>\n",
       "    <tr>\n",
       "      <th>3</th>\n",
       "      <td>4</td>\n",
       "      <td>Fixed mutation rate, $\\mu=10^{{-{7}}}$</td>\n",
       "      <td>29.58</td>\n",
       "    </tr>\n",
       "    <tr>\n",
       "      <th>4</th>\n",
       "      <td>5</td>\n",
       "      <td>Free mutation rate, $\\tau=1$</td>\n",
       "      <td>78.52</td>\n",
       "    </tr>\n",
       "    <tr>\n",
       "      <th>5</th>\n",
       "      <td>6</td>\n",
       "      <td>Free mutation rate, $\\tau=33/32$</td>\n",
       "      <td>65.92</td>\n",
       "    </tr>\n",
       "    <tr>\n",
       "      <th>6</th>\n",
       "      <td>7</td>\n",
       "      <td>Free mutation rate, $\\tau=2$</td>\n",
       "      <td>85.32</td>\n",
       "    </tr>\n",
       "    <tr>\n",
       "      <th>7</th>\n",
       "      <td>8</td>\n",
       "      <td>Free mutation rate, $\\tau=5$</td>\n",
       "      <td>71.89</td>\n",
       "    </tr>\n",
       "    <tr>\n",
       "      <th>8</th>\n",
       "      <td>9</td>\n",
       "      <td>Free mutation rate, $\\tau=10$</td>\n",
       "      <td>77.38</td>\n",
       "    </tr>\n",
       "    <tr>\n",
       "      <th>9</th>\n",
       "      <td>10</td>\n",
       "      <td>Free mutation rate, $\\tau=100$</td>\n",
       "      <td>57.67</td>\n",
       "    </tr>\n",
       "  </tbody>\n",
       "</table>\n",
       "</div>"
      ],
      "text/plain": [
       "   id                                   Model   WAIC\n",
       "0   1                      Without aneuploidy   0.83\n",
       "1   2  Fixed mutation rate, $\\mu=10^{{-{5}}}$   0.60\n",
       "2   3  Fixed mutation rate, $\\mu=10^{{-{6}}}$  33.89\n",
       "3   4  Fixed mutation rate, $\\mu=10^{{-{7}}}$  29.58\n",
       "4   5            Free mutation rate, $\\tau=1$  78.52\n",
       "5   6        Free mutation rate, $\\tau=33/32$  65.92\n",
       "6   7            Free mutation rate, $\\tau=2$  85.32\n",
       "7   8            Free mutation rate, $\\tau=5$  71.89\n",
       "8   9           Free mutation rate, $\\tau=10$  77.38\n",
       "9  10          Free mutation rate, $\\tau=100$  57.67"
      ]
     },
     "execution_count": 393,
     "metadata": {},
     "output_type": "execute_result"
    }
   ],
   "source": [
    "df = pd.DataFrame(results)\n",
    "df.index = np.arange(1, len(df)+1)\n",
    "df.index.rename('id', inplace=True)\n",
    "df = df.reset_index().rename({'index':'index1'}, axis = 'columns')\n",
    "df.to_csv(f'{output_path}/Table_WAIC.csv', index=False, float_format=\"%.2f\", sep=';')\n",
    "df"
   ]
  },
  {
   "cell_type": "code",
   "execution_count": 378,
   "metadata": {},
   "outputs": [
    {
     "data": {
      "text/html": [
       "<div>\n",
       "<style scoped>\n",
       "    .dataframe tbody tr th:only-of-type {\n",
       "        vertical-align: middle;\n",
       "    }\n",
       "\n",
       "    .dataframe tbody tr th {\n",
       "        vertical-align: top;\n",
       "    }\n",
       "\n",
       "    .dataframe thead th {\n",
       "        text-align: right;\n",
       "    }\n",
       "</style>\n",
       "<table border=\"1\" class=\"dataframe\">\n",
       "  <thead>\n",
       "    <tr style=\"text-align: right;\">\n",
       "      <th></th>\n",
       "      <th>#</th>\n",
       "      <th>Model</th>\n",
       "      <th>WAIC</th>\n",
       "    </tr>\n",
       "  </thead>\n",
       "  <tbody>\n",
       "    <tr>\n",
       "      <th>0</th>\n",
       "      <td>1</td>\n",
       "      <td>Without aneuploidy</td>\n",
       "      <td>0.83</td>\n",
       "    </tr>\n",
       "    <tr>\n",
       "      <th>1</th>\n",
       "      <td>2</td>\n",
       "      <td>Fixed mutation rate, $\\mu=10^{{-{5}}}$</td>\n",
       "      <td>0.60</td>\n",
       "    </tr>\n",
       "    <tr>\n",
       "      <th>2</th>\n",
       "      <td>3</td>\n",
       "      <td>Fixed mutation rate, $\\mu=10^{{-{6}}}$</td>\n",
       "      <td>33.89</td>\n",
       "    </tr>\n",
       "    <tr>\n",
       "      <th>3</th>\n",
       "      <td>4</td>\n",
       "      <td>Fixed mutation rate, $\\mu=10^{{-{7}}}$</td>\n",
       "      <td>29.58</td>\n",
       "    </tr>\n",
       "    <tr>\n",
       "      <th>4</th>\n",
       "      <td>5</td>\n",
       "      <td>Free mutation rate, $\\tau=1$</td>\n",
       "      <td>78.52</td>\n",
       "    </tr>\n",
       "    <tr>\n",
       "      <th>5</th>\n",
       "      <td>6</td>\n",
       "      <td>Free mutation rate, $\\tau=33/32$</td>\n",
       "      <td>65.92</td>\n",
       "    </tr>\n",
       "    <tr>\n",
       "      <th>6</th>\n",
       "      <td>7</td>\n",
       "      <td>Free mutation rate, $\\tau=2$</td>\n",
       "      <td>85.32</td>\n",
       "    </tr>\n",
       "    <tr>\n",
       "      <th>7</th>\n",
       "      <td>8</td>\n",
       "      <td>Free mutation rate, $\\tau=5$</td>\n",
       "      <td>71.89</td>\n",
       "    </tr>\n",
       "    <tr>\n",
       "      <th>8</th>\n",
       "      <td>9</td>\n",
       "      <td>Free mutation rate, $\\tau=10$</td>\n",
       "      <td>77.38</td>\n",
       "    </tr>\n",
       "    <tr>\n",
       "      <th>9</th>\n",
       "      <td>10</td>\n",
       "      <td>Free mutation rate, $\\tau=100$</td>\n",
       "      <td>57.67</td>\n",
       "    </tr>\n",
       "  </tbody>\n",
       "</table>\n",
       "</div>"
      ],
      "text/plain": [
       "    #                                   Model   WAIC\n",
       "0   1                      Without aneuploidy   0.83\n",
       "1   2  Fixed mutation rate, $\\mu=10^{{-{5}}}$   0.60\n",
       "2   3  Fixed mutation rate, $\\mu=10^{{-{6}}}$  33.89\n",
       "3   4  Fixed mutation rate, $\\mu=10^{{-{7}}}$  29.58\n",
       "4   5            Free mutation rate, $\\tau=1$  78.52\n",
       "5   6        Free mutation rate, $\\tau=33/32$  65.92\n",
       "6   7            Free mutation rate, $\\tau=2$  85.32\n",
       "7   8            Free mutation rate, $\\tau=5$  71.89\n",
       "8   9           Free mutation rate, $\\tau=10$  77.38\n",
       "9  10          Free mutation rate, $\\tau=100$  57.67"
      ]
     },
     "execution_count": 378,
     "metadata": {},
     "output_type": "execute_result"
    }
   ],
   "source": []
  },
  {
   "cell_type": "code",
   "execution_count": null,
   "metadata": {},
   "outputs": [],
   "source": []
  }
 ],
 "metadata": {
  "kernelspec": {
   "display_name": "Environment (conda_py371)",
   "language": "python",
   "name": "conda_py371"
  },
  "language_info": {
   "codemirror_mode": {
    "name": "ipython",
    "version": 3
   },
   "file_extension": ".py",
   "mimetype": "text/x-python",
   "name": "python",
   "nbconvert_exporter": "python",
   "pygments_lexer": "ipython3",
   "version": "3.7.2"
  }
 },
 "nbformat": 4,
 "nbformat_minor": 2
}
