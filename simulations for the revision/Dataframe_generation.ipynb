{
 "cells": [
  {
   "cell_type": "code",
   "execution_count": 1,
   "id": "d28d4397-4506-4b99-9bed-967c57287f7d",
   "metadata": {
    "tags": []
   },
   "outputs": [],
   "source": [
    "%matplotlib inline\n",
    "import matplotlib.pyplot as plt\n",
    "import numpy as np\n",
    "import pandas as pd"
   ]
  },
  {
   "cell_type": "markdown",
   "id": "e20f7c4c-30d0-417f-b8db-62d6450af53b",
   "metadata": {},
   "source": [
    "# Construct parameter grid"
   ]
  },
  {
   "cell_type": "code",
   "execution_count": 2,
   "id": "c2023d6e-86a8-44b3-80e4-367d436836b1",
   "metadata": {
    "tags": []
   },
   "outputs": [],
   "source": [
    "N_vec = np.array([1e4,1e5,1e6,1e7])\n",
    "Nmu_vec = np.array([1e-2,1e-1,1,1e1,1e2])\n",
    "demu_vec = np.array([1,10,100,1000,10000])\n",
    "saneu_vec = np.array([1.02])\n",
    "saneu_vec2 = np.array([1.05])\n",
    "smutaneu_vec = np.array([1/4])\n",
    "squot_vec = np.array([1.001,1.005,1.01,1.05])"
   ]
  },
  {
   "cell_type": "code",
   "execution_count": 3,
   "id": "a234f515-5965-4d76-8377-6a5bcf65ce8e",
   "metadata": {},
   "outputs": [
    {
     "data": {
      "text/plain": [
       "array([[1.000000e+04, 1.000000e-06, 1.000000e-06, 1.020000e+00,\n",
       "        1.020255e+00, 1.021020e+00],\n",
       "       [1.000000e+04, 1.000000e-06, 1.000000e-06, 1.020000e+00,\n",
       "        1.021275e+00, 1.025100e+00],\n",
       "       [1.000000e+04, 1.000000e-06, 1.000000e-06, 1.020000e+00,\n",
       "        1.022550e+00, 1.030200e+00],\n",
       "       ...,\n",
       "       [1.000000e+07, 1.000000e-05, 1.000000e-01, 1.020000e+00,\n",
       "        1.021275e+00, 1.025100e+00],\n",
       "       [1.000000e+07, 1.000000e-05, 1.000000e-01, 1.020000e+00,\n",
       "        1.022550e+00, 1.030200e+00],\n",
       "       [1.000000e+07, 1.000000e-05, 1.000000e-01, 1.020000e+00,\n",
       "        1.032750e+00, 1.071000e+00]])"
      ]
     },
     "execution_count": 3,
     "metadata": {},
     "output_type": "execute_result"
    }
   ],
   "source": [
    "para_space=np.array([np.array([N, δ, μ, w_aneu, w_mut_aneu, w_mut]) for N in N_vec for δ in Nmu_vec/N for μ in demu_vec*δ for w_aneu in saneu_vec for w_mut in squot_vec*w_aneu for w_mut_aneu in w_mut*smutaneu_vec+w_aneu*(1-smutaneu_vec)] )\n",
    "para_space"
   ]
  },
  {
   "cell_type": "code",
   "execution_count": 4,
   "id": "d6a4c3ba-0811-4ba2-8bdc-2dcd293a22e1",
   "metadata": {},
   "outputs": [
    {
     "data": {
      "text/plain": [
       "400"
      ]
     },
     "execution_count": 4,
     "metadata": {},
     "output_type": "execute_result"
    }
   ],
   "source": [
    "len(para_space)"
   ]
  },
  {
   "cell_type": "code",
   "execution_count": 73,
   "id": "d3288a0c-d17f-4b95-b3e8-530abc680d92",
   "metadata": {},
   "outputs": [
    {
     "data": {
      "text/plain": [
       "array([[1.0000000e+04, 1.0000000e-06, 1.0000000e-06, 1.0500000e+00,\n",
       "        1.0502625e+00, 1.0510500e+00],\n",
       "       [1.0000000e+04, 1.0000000e-06, 1.0000000e-06, 1.0500000e+00,\n",
       "        1.0513125e+00, 1.0552500e+00],\n",
       "       [1.0000000e+04, 1.0000000e-06, 1.0000000e-06, 1.0500000e+00,\n",
       "        1.0526250e+00, 1.0605000e+00],\n",
       "       ...,\n",
       "       [1.0000000e+07, 1.0000000e-05, 1.0000000e-01, 1.0500000e+00,\n",
       "        1.0513125e+00, 1.0552500e+00],\n",
       "       [1.0000000e+07, 1.0000000e-05, 1.0000000e-01, 1.0500000e+00,\n",
       "        1.0526250e+00, 1.0605000e+00],\n",
       "       [1.0000000e+07, 1.0000000e-05, 1.0000000e-01, 1.0500000e+00,\n",
       "        1.0631250e+00, 1.1025000e+00]])"
      ]
     },
     "execution_count": 73,
     "metadata": {},
     "output_type": "execute_result"
    }
   ],
   "source": [
    "para_space2=np.array([np.array([N, δ, μ, w_aneu, w_mut_aneu, w_mut]) for N in N_vec for δ in Nmu_vec/N for μ in demu_vec*δ for w_aneu in saneu_vec2 for w_mut in squot_vec*w_aneu for w_mut_aneu in w_mut*smutaneu_vec+w_aneu*(1-smutaneu_vec)] )\n",
    "para_space2"
   ]
  },
  {
   "cell_type": "code",
   "execution_count": 74,
   "id": "2165c002-dad8-4f94-ab4b-52bce771dd5d",
   "metadata": {},
   "outputs": [
    {
     "data": {
      "text/plain": [
       "400"
      ]
     },
     "execution_count": 74,
     "metadata": {},
     "output_type": "execute_result"
    }
   ],
   "source": [
    "len(para_space2)"
   ]
  },
  {
   "cell_type": "code",
   "execution_count": 77,
   "id": "8c44996c-62c0-456a-acc5-22f5d88322db",
   "metadata": {},
   "outputs": [
    {
     "data": {
      "text/plain": [
       "array([1.000000e+04, 1.000000e-06, 1.000000e-06, 1.020000e+00,\n",
       "       1.021275e+00, 1.025100e+00])"
      ]
     },
     "execution_count": 77,
     "metadata": {},
     "output_type": "execute_result"
    }
   ],
   "source": [
    "para_space[1]"
   ]
  },
  {
   "cell_type": "code",
   "execution_count": 75,
   "id": "24084902-6378-4852-81af-8989203efc14",
   "metadata": {},
   "outputs": [],
   "source": [
    "np.save('para_space.npy', para_space, allow_pickle=True) "
   ]
  },
  {
   "cell_type": "code",
   "execution_count": 76,
   "id": "25c74fef-e4cf-4eb4-af56-dad406509446",
   "metadata": {},
   "outputs": [],
   "source": [
    "np.save('para_space2.npy', para_space2, allow_pickle=True)"
   ]
  },
  {
   "cell_type": "markdown",
   "id": "c92126af-a12a-4b26-9767-1d4b7e3c60ea",
   "metadata": {},
   "source": [
    "# Create data frame"
   ]
  },
  {
   "cell_type": "code",
   "execution_count": 20,
   "id": "54dd9b0e-0976-40c5-8ffc-378487c7be64",
   "metadata": {
    "tags": []
   },
   "outputs": [],
   "source": [
    "grid_sims=np.load('grid_sims_ext.npz' ,allow_pickle=True)['a'] # grid_sims comes from para_space \n",
    "grid2_sims=np.load('grid2_sims_ext.npz' ,allow_pickle=True)['a'] # grid2_sims from para_space2"
   ]
  },
  {
   "cell_type": "code",
   "execution_count": 3,
   "id": "b4ba45ae-1762-4315-9747-673eb61cb6a6",
   "metadata": {
    "tags": []
   },
   "outputs": [
    {
     "data": {
      "text/plain": [
       "array([1.    , 0.9992])"
      ]
     },
     "execution_count": 3,
     "metadata": {},
     "output_type": "execute_result"
    }
   ],
   "source": [
    "grid_sims[0,3][0:2,4]"
   ]
  },
  {
   "cell_type": "code",
   "execution_count": 21,
   "id": "a3eed5dd-b10a-4f8e-8404-cd51697099fa",
   "metadata": {
    "tags": []
   },
   "outputs": [],
   "source": [
    "data=np.array([np.append(grid_sims[x,0],grid_sims[x,3][0:2,y]) for x in range(len(grid_sims)) for y in range(100)])\n",
    "data2=np.array([np.append(grid2_sims[x,0],grid2_sims[x,3][0:2,y]) for x in range(len(grid2_sims)) for y in range(100)])"
   ]
  },
  {
   "cell_type": "code",
   "execution_count": 5,
   "id": "5cce464b-0d7c-4def-9cb0-60275b98af2a",
   "metadata": {
    "tags": []
   },
   "outputs": [
    {
     "data": {
      "text/plain": [
       "array([[1.000000e+04, 1.000000e-06, 1.000000e-06, ..., 1.021020e+00,\n",
       "        1.000000e-04, 0.000000e+00],\n",
       "       [1.000000e+04, 1.000000e-06, 1.000000e-06, ..., 1.021020e+00,\n",
       "        1.160000e-02, 0.000000e+00],\n",
       "       [1.000000e+04, 1.000000e-06, 1.000000e-06, ..., 1.021020e+00,\n",
       "        5.000000e-04, 0.000000e+00],\n",
       "       ...,\n",
       "       [1.000000e+07, 1.000000e-05, 1.000000e-01, ..., 1.071000e+00,\n",
       "        9.966442e-01, 6.152374e-01],\n",
       "       [1.000000e+07, 1.000000e-05, 1.000000e-01, ..., 1.071000e+00,\n",
       "        9.963469e-01, 6.283697e-01],\n",
       "       [1.000000e+07, 1.000000e-05, 1.000000e-01, ..., 1.071000e+00,\n",
       "        9.962361e-01, 5.727416e-01]])"
      ]
     },
     "execution_count": 5,
     "metadata": {},
     "output_type": "execute_result"
    }
   ],
   "source": [
    "data"
   ]
  },
  {
   "cell_type": "code",
   "execution_count": 22,
   "id": "b9ce4dcb-00a2-4cfc-bba6-da93fa9e44da",
   "metadata": {
    "tags": []
   },
   "outputs": [
    {
     "data": {
      "text/html": [
       "<div>\n",
       "<style scoped>\n",
       "    .dataframe tbody tr th:only-of-type {\n",
       "        vertical-align: middle;\n",
       "    }\n",
       "\n",
       "    .dataframe tbody tr th {\n",
       "        vertical-align: top;\n",
       "    }\n",
       "\n",
       "    .dataframe thead th {\n",
       "        text-align: right;\n",
       "    }\n",
       "</style>\n",
       "<table border=\"1\" class=\"dataframe\">\n",
       "  <thead>\n",
       "    <tr style=\"text-align: right;\">\n",
       "      <th></th>\n",
       "      <th>N</th>\n",
       "      <th>μ</th>\n",
       "      <th>δ</th>\n",
       "      <th>w1</th>\n",
       "      <th>w2</th>\n",
       "      <th>w3</th>\n",
       "      <th>max_2n+1</th>\n",
       "      <th>F_A</th>\n",
       "    </tr>\n",
       "  </thead>\n",
       "  <tbody>\n",
       "    <tr>\n",
       "      <th>0</th>\n",
       "      <td>10000.0</td>\n",
       "      <td>0.000001</td>\n",
       "      <td>0.000001</td>\n",
       "      <td>1.02</td>\n",
       "      <td>1.020255</td>\n",
       "      <td>1.02102</td>\n",
       "      <td>0.000100</td>\n",
       "      <td>0.000000</td>\n",
       "    </tr>\n",
       "    <tr>\n",
       "      <th>1</th>\n",
       "      <td>10000.0</td>\n",
       "      <td>0.000001</td>\n",
       "      <td>0.000001</td>\n",
       "      <td>1.02</td>\n",
       "      <td>1.020255</td>\n",
       "      <td>1.02102</td>\n",
       "      <td>0.011600</td>\n",
       "      <td>0.000000</td>\n",
       "    </tr>\n",
       "    <tr>\n",
       "      <th>2</th>\n",
       "      <td>10000.0</td>\n",
       "      <td>0.000001</td>\n",
       "      <td>0.000001</td>\n",
       "      <td>1.02</td>\n",
       "      <td>1.020255</td>\n",
       "      <td>1.02102</td>\n",
       "      <td>0.000500</td>\n",
       "      <td>0.000000</td>\n",
       "    </tr>\n",
       "    <tr>\n",
       "      <th>3</th>\n",
       "      <td>10000.0</td>\n",
       "      <td>0.000001</td>\n",
       "      <td>0.000001</td>\n",
       "      <td>1.02</td>\n",
       "      <td>1.020255</td>\n",
       "      <td>1.02102</td>\n",
       "      <td>1.000000</td>\n",
       "      <td>0.999100</td>\n",
       "    </tr>\n",
       "    <tr>\n",
       "      <th>4</th>\n",
       "      <td>10000.0</td>\n",
       "      <td>0.000001</td>\n",
       "      <td>0.000001</td>\n",
       "      <td>1.02</td>\n",
       "      <td>1.020255</td>\n",
       "      <td>1.02102</td>\n",
       "      <td>1.000000</td>\n",
       "      <td>0.999200</td>\n",
       "    </tr>\n",
       "    <tr>\n",
       "      <th>...</th>\n",
       "      <td>...</td>\n",
       "      <td>...</td>\n",
       "      <td>...</td>\n",
       "      <td>...</td>\n",
       "      <td>...</td>\n",
       "      <td>...</td>\n",
       "      <td>...</td>\n",
       "      <td>...</td>\n",
       "    </tr>\n",
       "    <tr>\n",
       "      <th>35995</th>\n",
       "      <td>10000000.0</td>\n",
       "      <td>0.000010</td>\n",
       "      <td>0.100000</td>\n",
       "      <td>1.02</td>\n",
       "      <td>1.032750</td>\n",
       "      <td>1.07100</td>\n",
       "      <td>0.996295</td>\n",
       "      <td>0.512751</td>\n",
       "    </tr>\n",
       "    <tr>\n",
       "      <th>35996</th>\n",
       "      <td>10000000.0</td>\n",
       "      <td>0.000010</td>\n",
       "      <td>0.100000</td>\n",
       "      <td>1.02</td>\n",
       "      <td>1.032750</td>\n",
       "      <td>1.07100</td>\n",
       "      <td>0.996440</td>\n",
       "      <td>0.572604</td>\n",
       "    </tr>\n",
       "    <tr>\n",
       "      <th>35997</th>\n",
       "      <td>10000000.0</td>\n",
       "      <td>0.000010</td>\n",
       "      <td>0.100000</td>\n",
       "      <td>1.02</td>\n",
       "      <td>1.032750</td>\n",
       "      <td>1.07100</td>\n",
       "      <td>0.996644</td>\n",
       "      <td>0.615237</td>\n",
       "    </tr>\n",
       "    <tr>\n",
       "      <th>35998</th>\n",
       "      <td>10000000.0</td>\n",
       "      <td>0.000010</td>\n",
       "      <td>0.100000</td>\n",
       "      <td>1.02</td>\n",
       "      <td>1.032750</td>\n",
       "      <td>1.07100</td>\n",
       "      <td>0.996347</td>\n",
       "      <td>0.628370</td>\n",
       "    </tr>\n",
       "    <tr>\n",
       "      <th>35999</th>\n",
       "      <td>10000000.0</td>\n",
       "      <td>0.000010</td>\n",
       "      <td>0.100000</td>\n",
       "      <td>1.02</td>\n",
       "      <td>1.032750</td>\n",
       "      <td>1.07100</td>\n",
       "      <td>0.996236</td>\n",
       "      <td>0.572742</td>\n",
       "    </tr>\n",
       "  </tbody>\n",
       "</table>\n",
       "<p>36000 rows × 8 columns</p>\n",
       "</div>"
      ],
      "text/plain": [
       "                N         μ         δ    w1        w2       w3  max_2n+1  \\\n",
       "0         10000.0  0.000001  0.000001  1.02  1.020255  1.02102  0.000100   \n",
       "1         10000.0  0.000001  0.000001  1.02  1.020255  1.02102  0.011600   \n",
       "2         10000.0  0.000001  0.000001  1.02  1.020255  1.02102  0.000500   \n",
       "3         10000.0  0.000001  0.000001  1.02  1.020255  1.02102  1.000000   \n",
       "4         10000.0  0.000001  0.000001  1.02  1.020255  1.02102  1.000000   \n",
       "...           ...       ...       ...   ...       ...      ...       ...   \n",
       "35995  10000000.0  0.000010  0.100000  1.02  1.032750  1.07100  0.996295   \n",
       "35996  10000000.0  0.000010  0.100000  1.02  1.032750  1.07100  0.996440   \n",
       "35997  10000000.0  0.000010  0.100000  1.02  1.032750  1.07100  0.996644   \n",
       "35998  10000000.0  0.000010  0.100000  1.02  1.032750  1.07100  0.996347   \n",
       "35999  10000000.0  0.000010  0.100000  1.02  1.032750  1.07100  0.996236   \n",
       "\n",
       "            F_A  \n",
       "0      0.000000  \n",
       "1      0.000000  \n",
       "2      0.000000  \n",
       "3      0.999100  \n",
       "4      0.999200  \n",
       "...         ...  \n",
       "35995  0.512751  \n",
       "35996  0.572604  \n",
       "35997  0.615237  \n",
       "35998  0.628370  \n",
       "35999  0.572742  \n",
       "\n",
       "[36000 rows x 8 columns]"
      ]
     },
     "execution_count": 22,
     "metadata": {},
     "output_type": "execute_result"
    }
   ],
   "source": [
    "df=pd.DataFrame(data, columns=['N', 'μ', 'δ', 'w1', 'w2', 'w3', 'max_2n+1', 'F_A'])\n",
    "df2=pd.DataFrame(data2, columns=['N', 'μ', 'δ', 'w1', 'w2', 'w3', 'max_2n+1', 'F_A'])\n",
    "df"
   ]
  },
  {
   "cell_type": "code",
   "execution_count": 23,
   "id": "9e2dd466-0c94-437c-b579-10472f0e1cf1",
   "metadata": {
    "tags": []
   },
   "outputs": [],
   "source": [
    "gridsims_meanfa=np.array([np.mean(grid_sims[x,3][1]) for x in range(len(grid_sims))])\n",
    "grid2sims_meanfa=np.array([np.mean(grid2_sims[x,3][1]) for x in range(len(grid2_sims))])\n",
    "gridsims_mean_max2n1=np.array([np.mean(grid_sims[x,3][0]) for x in range(len(grid_sims))])\n",
    "grid2sims_mean_max2n1=np.array([np.mean(grid2_sims[x,3][0]) for x in range(len(grid2_sims))])"
   ]
  },
  {
   "cell_type": "code",
   "execution_count": 24,
   "id": "ed2d934d-f0c8-4833-9c0d-359ef23425a4",
   "metadata": {
    "tags": []
   },
   "outputs": [
    {
     "data": {
      "text/html": [
       "<div>\n",
       "<style scoped>\n",
       "    .dataframe tbody tr th:only-of-type {\n",
       "        vertical-align: middle;\n",
       "    }\n",
       "\n",
       "    .dataframe tbody tr th {\n",
       "        vertical-align: top;\n",
       "    }\n",
       "\n",
       "    .dataframe thead th {\n",
       "        text-align: right;\n",
       "    }\n",
       "</style>\n",
       "<table border=\"1\" class=\"dataframe\">\n",
       "  <thead>\n",
       "    <tr style=\"text-align: right;\">\n",
       "      <th></th>\n",
       "      <th>N</th>\n",
       "      <th>μ</th>\n",
       "      <th>δ</th>\n",
       "      <th>w1</th>\n",
       "      <th>w2</th>\n",
       "      <th>w3</th>\n",
       "      <th>max_2n+1</th>\n",
       "      <th>F_A</th>\n",
       "      <th>meanmax_2n+1</th>\n",
       "      <th>meanF_A</th>\n",
       "    </tr>\n",
       "  </thead>\n",
       "  <tbody>\n",
       "    <tr>\n",
       "      <th>0</th>\n",
       "      <td>10000.0</td>\n",
       "      <td>0.000001</td>\n",
       "      <td>0.000001</td>\n",
       "      <td>1.02</td>\n",
       "      <td>1.020255</td>\n",
       "      <td>1.02102</td>\n",
       "      <td>0.000100</td>\n",
       "      <td>0.000000</td>\n",
       "      <td>0.467494</td>\n",
       "      <td>0.439622</td>\n",
       "    </tr>\n",
       "    <tr>\n",
       "      <th>1</th>\n",
       "      <td>10000.0</td>\n",
       "      <td>0.000001</td>\n",
       "      <td>0.000001</td>\n",
       "      <td>1.02</td>\n",
       "      <td>1.020255</td>\n",
       "      <td>1.02102</td>\n",
       "      <td>0.011600</td>\n",
       "      <td>0.000000</td>\n",
       "      <td>0.467494</td>\n",
       "      <td>0.439622</td>\n",
       "    </tr>\n",
       "    <tr>\n",
       "      <th>2</th>\n",
       "      <td>10000.0</td>\n",
       "      <td>0.000001</td>\n",
       "      <td>0.000001</td>\n",
       "      <td>1.02</td>\n",
       "      <td>1.020255</td>\n",
       "      <td>1.02102</td>\n",
       "      <td>0.000500</td>\n",
       "      <td>0.000000</td>\n",
       "      <td>0.467494</td>\n",
       "      <td>0.439622</td>\n",
       "    </tr>\n",
       "    <tr>\n",
       "      <th>3</th>\n",
       "      <td>10000.0</td>\n",
       "      <td>0.000001</td>\n",
       "      <td>0.000001</td>\n",
       "      <td>1.02</td>\n",
       "      <td>1.020255</td>\n",
       "      <td>1.02102</td>\n",
       "      <td>1.000000</td>\n",
       "      <td>0.999100</td>\n",
       "      <td>0.467494</td>\n",
       "      <td>0.439622</td>\n",
       "    </tr>\n",
       "    <tr>\n",
       "      <th>4</th>\n",
       "      <td>10000.0</td>\n",
       "      <td>0.000001</td>\n",
       "      <td>0.000001</td>\n",
       "      <td>1.02</td>\n",
       "      <td>1.020255</td>\n",
       "      <td>1.02102</td>\n",
       "      <td>1.000000</td>\n",
       "      <td>0.999200</td>\n",
       "      <td>0.467494</td>\n",
       "      <td>0.439622</td>\n",
       "    </tr>\n",
       "    <tr>\n",
       "      <th>...</th>\n",
       "      <td>...</td>\n",
       "      <td>...</td>\n",
       "      <td>...</td>\n",
       "      <td>...</td>\n",
       "      <td>...</td>\n",
       "      <td>...</td>\n",
       "      <td>...</td>\n",
       "      <td>...</td>\n",
       "      <td>...</td>\n",
       "      <td>...</td>\n",
       "    </tr>\n",
       "    <tr>\n",
       "      <th>35995</th>\n",
       "      <td>10000000.0</td>\n",
       "      <td>0.000010</td>\n",
       "      <td>0.100000</td>\n",
       "      <td>1.02</td>\n",
       "      <td>1.032750</td>\n",
       "      <td>1.07100</td>\n",
       "      <td>0.996295</td>\n",
       "      <td>0.512751</td>\n",
       "      <td>0.996436</td>\n",
       "      <td>0.594228</td>\n",
       "    </tr>\n",
       "    <tr>\n",
       "      <th>35996</th>\n",
       "      <td>10000000.0</td>\n",
       "      <td>0.000010</td>\n",
       "      <td>0.100000</td>\n",
       "      <td>1.02</td>\n",
       "      <td>1.032750</td>\n",
       "      <td>1.07100</td>\n",
       "      <td>0.996440</td>\n",
       "      <td>0.572604</td>\n",
       "      <td>0.996436</td>\n",
       "      <td>0.594228</td>\n",
       "    </tr>\n",
       "    <tr>\n",
       "      <th>35997</th>\n",
       "      <td>10000000.0</td>\n",
       "      <td>0.000010</td>\n",
       "      <td>0.100000</td>\n",
       "      <td>1.02</td>\n",
       "      <td>1.032750</td>\n",
       "      <td>1.07100</td>\n",
       "      <td>0.996644</td>\n",
       "      <td>0.615237</td>\n",
       "      <td>0.996436</td>\n",
       "      <td>0.594228</td>\n",
       "    </tr>\n",
       "    <tr>\n",
       "      <th>35998</th>\n",
       "      <td>10000000.0</td>\n",
       "      <td>0.000010</td>\n",
       "      <td>0.100000</td>\n",
       "      <td>1.02</td>\n",
       "      <td>1.032750</td>\n",
       "      <td>1.07100</td>\n",
       "      <td>0.996347</td>\n",
       "      <td>0.628370</td>\n",
       "      <td>0.996436</td>\n",
       "      <td>0.594228</td>\n",
       "    </tr>\n",
       "    <tr>\n",
       "      <th>35999</th>\n",
       "      <td>10000000.0</td>\n",
       "      <td>0.000010</td>\n",
       "      <td>0.100000</td>\n",
       "      <td>1.02</td>\n",
       "      <td>1.032750</td>\n",
       "      <td>1.07100</td>\n",
       "      <td>0.996236</td>\n",
       "      <td>0.572742</td>\n",
       "      <td>0.996436</td>\n",
       "      <td>0.594228</td>\n",
       "    </tr>\n",
       "  </tbody>\n",
       "</table>\n",
       "<p>36000 rows × 10 columns</p>\n",
       "</div>"
      ],
      "text/plain": [
       "                N         μ         δ    w1        w2       w3  max_2n+1  \\\n",
       "0         10000.0  0.000001  0.000001  1.02  1.020255  1.02102  0.000100   \n",
       "1         10000.0  0.000001  0.000001  1.02  1.020255  1.02102  0.011600   \n",
       "2         10000.0  0.000001  0.000001  1.02  1.020255  1.02102  0.000500   \n",
       "3         10000.0  0.000001  0.000001  1.02  1.020255  1.02102  1.000000   \n",
       "4         10000.0  0.000001  0.000001  1.02  1.020255  1.02102  1.000000   \n",
       "...           ...       ...       ...   ...       ...      ...       ...   \n",
       "35995  10000000.0  0.000010  0.100000  1.02  1.032750  1.07100  0.996295   \n",
       "35996  10000000.0  0.000010  0.100000  1.02  1.032750  1.07100  0.996440   \n",
       "35997  10000000.0  0.000010  0.100000  1.02  1.032750  1.07100  0.996644   \n",
       "35998  10000000.0  0.000010  0.100000  1.02  1.032750  1.07100  0.996347   \n",
       "35999  10000000.0  0.000010  0.100000  1.02  1.032750  1.07100  0.996236   \n",
       "\n",
       "            F_A  meanmax_2n+1   meanF_A  \n",
       "0      0.000000      0.467494  0.439622  \n",
       "1      0.000000      0.467494  0.439622  \n",
       "2      0.000000      0.467494  0.439622  \n",
       "3      0.999100      0.467494  0.439622  \n",
       "4      0.999200      0.467494  0.439622  \n",
       "...         ...           ...       ...  \n",
       "35995  0.512751      0.996436  0.594228  \n",
       "35996  0.572604      0.996436  0.594228  \n",
       "35997  0.615237      0.996436  0.594228  \n",
       "35998  0.628370      0.996436  0.594228  \n",
       "35999  0.572742      0.996436  0.594228  \n",
       "\n",
       "[36000 rows x 10 columns]"
      ]
     },
     "execution_count": 24,
     "metadata": {},
     "output_type": "execute_result"
    }
   ],
   "source": [
    "df['meanmax_2n+1']=np.repeat(gridsims_mean_max2n1,100)\n",
    "df['meanF_A']=np.repeat(gridsims_meanfa,100)\n",
    "df"
   ]
  },
  {
   "cell_type": "markdown",
   "id": "fa372ae7-f6de-4f25-95c5-df40b3eead17",
   "metadata": {},
   "source": [
    "# Analyze simulation results"
   ]
  },
  {
   "cell_type": "code",
   "execution_count": 37,
   "id": "05dc5c33-698e-4414-b5e9-fca28b77533a",
   "metadata": {
    "tags": []
   },
   "outputs": [
    {
     "data": {
      "image/png": "[encoded data removed]",
      "text/plain": [
       "<Figure size 640x480 with 1 Axes>"
      ]
     },
     "metadata": {},
     "output_type": "display_data"
    }
   ],
   "source": [
    "plt.hist(df['meanF_A'], 50, density=True, color='blue', alpha=.5)\n",
    "plt.hist(df['F_A'], 50, density=True, color='orange', alpha=.5)\n",
    "plt.xlabel('$F_A$')\n",
    "plt.ylabel('Posterior density')\n",
    "plt.xlim([0,1])\n",
    "plt.xticks([0, 0.25, 0.5, 0.75, 1]);"
   ]
  },
  {
   "cell_type": "code",
   "execution_count": 38,
   "id": "fe326c44-9bba-4599-9520-eab1a8814900",
   "metadata": {
    "tags": []
   },
   "outputs": [
    {
     "data": {
      "image/png": "[encoded data removed]",
      "text/plain": [
       "<Figure size 640x480 with 1 Axes>"
      ]
     },
     "metadata": {},
     "output_type": "display_data"
    }
   ],
   "source": [
    "plt.hist(df['meanmax_2n+1'], 50, density=True, color='blue', alpha=.5)\n",
    "plt.hist(df['max_2n+1'], 50, density=True, color='orange', alpha=.5)\n",
    "plt.xlabel('$F_A$')\n",
    "plt.ylabel('Posterior density')\n",
    "plt.xlim([0,1])\n",
    "plt.xticks([0, 0.25, 0.5, 0.75, 1]);"
   ]
  },
  {
   "cell_type": "code",
   "execution_count": 74,
   "id": "bd6efd50-af12-4338-ac56-41a37553c981",
   "metadata": {
    "tags": []
   },
   "outputs": [],
   "source": [
    "aneu_unimp = (df['F_A']<.5) & (df['max_2n+1']<.5)\n",
    "aneu_stepstone = (df['F_A']>.5) & (df['max_2n+1']>.5)\n",
    "aneu_detour = (df['F_A']<.5) & (df['max_2n+1']>.5)\n",
    "rest = (df['F_A']>.5) & (df['max_2n+1']<.5)"
   ]
  },
  {
   "cell_type": "code",
   "execution_count": 75,
   "id": "3e1de247-009e-48e0-87b3-39a171230171",
   "metadata": {
    "tags": []
   },
   "outputs": [
    {
     "data": {
      "text/plain": [
       "(11654, 14047, 10249, 50, 35950)"
      ]
     },
     "execution_count": 75,
     "metadata": {},
     "output_type": "execute_result"
    }
   ],
   "source": [
    "sum(aneu_unimp), sum(aneu_stepstone), sum(aneu_detour), sum(rest), sum(aneu_unimp) + sum(aneu_stepstone) + sum(aneu_detour)"
   ]
  },
  {
   "cell_type": "code",
   "execution_count": 76,
   "id": "15d889d2-a05d-4d3e-b6e0-6c62e0417892",
   "metadata": {
    "tags": []
   },
   "outputs": [],
   "source": [
    "aneu_unimp_m = (df['meanF_A']<.5) & (df['meanmax_2n+1']<.5)\n",
    "aneu_stepstone_m = (df['meanF_A']>.5) & (df['meanmax_2n+1']>.5)\n",
    "aneu_detour_m = (df['meanF_A']<.5) & (df['meanmax_2n+1']>.5)\n",
    "rest_m = (df['meanF_A']>.5) & (df['meanmax_2n+1']<.5)"
   ]
  },
  {
   "cell_type": "code",
   "execution_count": 77,
   "id": "c889934d-aa7d-4c11-b79f-acb9a324b6dd",
   "metadata": {
    "tags": []
   },
   "outputs": [
    {
     "data": {
      "text/plain": [
       "(11800, 14700, 9500, 0)"
      ]
     },
     "execution_count": 77,
     "metadata": {},
     "output_type": "execute_result"
    }
   ],
   "source": [
    "sum(aneu_unimp_m), sum(aneu_stepstone_m), sum(aneu_detour_m), sum(rest_m)"
   ]
  },
  {
   "cell_type": "code",
   "execution_count": 102,
   "id": "650b4ce5-7ba5-4e96-866f-7e93290b5d71",
   "metadata": {
    "tags": []
   },
   "outputs": [
    {
     "data": {
      "text/plain": [
       "Text(0, 0.5, 'Aneuploidy rate, $\\\\delta$')"
      ]
     },
     "execution_count": 102,
     "metadata": {},
     "output_type": "execute_result"
    },
    {
     "data": {
      "image/png": "[encoded data removed]",
      "text/plain": [
       "<Figure size 640x480 with 1 Axes>"
      ]
     },
     "metadata": {},
     "output_type": "display_data"
    }
   ],
   "source": [
    "plt.plot(df[aneu_stepstone]['μ'], df[aneu_stepstone]['δ'], 'o', color='blue', alpha=.003 )\n",
    "plt.plot(df[aneu_detour]['μ'], df[aneu_detour]['δ'], 'o', color='orange', alpha=.003)\n",
    "plt.xscale('log')\n",
    "plt.yscale('log')\n",
    "plt.xlabel('Mutation rate, $\\mu$')\n",
    "plt.ylabel('Aneuploidy rate, $\\delta$')"
   ]
  },
  {
   "cell_type": "code",
   "execution_count": 105,
   "id": "84977295-2a2b-405f-8fc8-a9269365258c",
   "metadata": {
    "tags": []
   },
   "outputs": [
    {
     "data": {
      "text/plain": [
       "Text(0, 0.5, 'Aneuploidy rate, $\\\\delta$')"
      ]
     },
     "execution_count": 105,
     "metadata": {},
     "output_type": "execute_result"
    },
    {
     "data": {
      "image/png": "[encoded data removed]",
      "text/plain": [
       "<Figure size 640x480 with 1 Axes>"
      ]
     },
     "metadata": {},
     "output_type": "display_data"
    }
   ],
   "source": [
    "plt.plot(df[aneu_unimp]['μ'], df[aneu_unimp]['δ'], 'o', color='green', alpha=.25)\n",
    "plt.xscale('log')\n",
    "plt.yscale('log')\n",
    "plt.xlabel('Mutation rate, $\\mu$')\n",
    "plt.ylabel('Aneuploidy rate, $\\delta$')"
   ]
  },
  {
   "cell_type": "code",
   "execution_count": 152,
   "id": "ba67e32d-43d0-4b83-b69d-e07f2759b0f5",
   "metadata": {
    "jp-MarkdownHeadingCollapsed": true,
    "tags": []
   },
   "outputs": [
    {
     "data": {
      "text/plain": [
       "Text(0, 0.5, '$w_{2n*}/w_{2n+1}-1$')"
      ]
     },
     "execution_count": 152,
     "metadata": {},
     "output_type": "execute_result"
    },
    {
     "data": {
      "image/png": "[encoded data removed]",
      "text/plain": [
       "<Figure size 640x480 with 1 Axes>"
      ]
     },
     "metadata": {},
     "output_type": "display_data"
    }
   ],
   "source": [
    "plt.plot(df[aneu_unimp]['μ']/(df[aneu_unimp]['δ']*df[aneu_unimp]['N']), df[aneu_unimp]['w3']/df[aneu_unimp]['w1']-1, 'o', color='green', alpha=1, markersize=20)\n",
    "plt.plot(df[aneu_stepstone]['μ']/(df[aneu_stepstone]['δ']*df[aneu_stepstone]['N']), df[aneu_stepstone]['w3']/df[aneu_stepstone]['w1']-1, 'o', color='blue', alpha=1, markersize=12)\n",
    "plt.plot(df[aneu_detour]['μ']/(df[aneu_detour]['δ']*df[aneu_detour]['N']), df[aneu_detour]['w3']/df[aneu_detour]['w1']-1, 'o', color='orange', alpha=1, markersize=5)\n",
    "plt.xscale('log')\n",
    "plt.yscale('log')\n",
    "plt.xlabel('$\\delta/N\\mu$')\n",
    "plt.ylabel('$w_{2n*}/w_{2n+1}-1$')"
   ]
  },
  {
   "cell_type": "code",
   "execution_count": 154,
   "id": "076bea28-0971-489b-8e17-75a06bdb8ddd",
   "metadata": {
    "tags": []
   },
   "outputs": [
    {
     "data": {
      "text/plain": [
       "Text(0, 0.5, '$w_{2n*}/w_{2n+1}-1$')"
      ]
     },
     "execution_count": 154,
     "metadata": {},
     "output_type": "execute_result"
    },
    {
     "data": {
      "image/png": "[encoded data removed]",
      "text/plain": [
       "<Figure size 640x480 with 1 Axes>"
      ]
     },
     "metadata": {},
     "output_type": "display_data"
    }
   ],
   "source": [
    "plt.plot(df[aneu_unimp]['μ']/(df[aneu_unimp]['δ']*df[aneu_unimp]['N']), df[aneu_unimp]['w3']/df[aneu_unimp]['w1']-1, 'o', color='green', alpha=.05)\n",
    "plt.xscale('log')\n",
    "plt.yscale('log')\n",
    "plt.xlabel('$\\delta/N\\mu$')\n",
    "plt.ylabel('$w_{2n*}/w_{2n+1}-1$')"
   ]
  },
  {
   "cell_type": "code",
   "execution_count": 125,
   "id": "9260b553-4ce1-47da-bbb4-cd12f91c6e85",
   "metadata": {
    "tags": []
   },
   "outputs": [
    {
     "data": {
      "text/plain": [
       "Text(0, 0.5, '$w_{2n*}/w_{2n+1}-1$')"
      ]
     },
     "execution_count": 125,
     "metadata": {},
     "output_type": "execute_result"
    },
    {
     "data": {
      "image/png": "[encoded data removed]",
      "text/plain": [
       "<Figure size 640x480 with 1 Axes>"
      ]
     },
     "metadata": {},
     "output_type": "display_data"
    }
   ],
   "source": [
    "plt.plot(df[aneu_stepstone]['μ']/(df[aneu_stepstone]['δ']*df[aneu_stepstone]['N']), df[aneu_stepstone]['w3']/df[aneu_stepstone]['w1']-1, 'o', color='blue', alpha=.005)\n",
    "plt.xscale('log')\n",
    "plt.yscale('log')\n",
    "plt.xlabel('$\\delta/N\\mu$')\n",
    "plt.ylabel('$w_{2n*}/w_{2n+1}-1$')"
   ]
  },
  {
   "cell_type": "code",
   "execution_count": 124,
   "id": "486e4451-3ecb-4c3d-bebb-ec21f874fde7",
   "metadata": {
    "tags": []
   },
   "outputs": [
    {
     "data": {
      "text/plain": [
       "Text(0, 0.5, '$w_{2n*}/w_{2n+1}-1$')"
      ]
     },
     "execution_count": 124,
     "metadata": {},
     "output_type": "execute_result"
    },
    {
     "data": {
      "image/png": "[encoded data removed]",
      "text/plain": [
       "<Figure size 640x480 with 1 Axes>"
      ]
     },
     "metadata": {},
     "output_type": "display_data"
    }
   ],
   "source": [
    "plt.plot(df[aneu_detour]['μ']/(df[aneu_detour]['δ']*df[aneu_detour]['N']), df[aneu_detour]['w3']/df[aneu_detour]['w1']-1, 'o', color='orange', alpha=.005)\n",
    "plt.xscale('log')\n",
    "plt.yscale('log')\n",
    "plt.xlabel('$\\delta/N\\mu$')\n",
    "plt.ylabel('$w_{2n*}/w_{2n+1}-1$')"
   ]
  },
  {
   "cell_type": "code",
   "execution_count": 148,
   "id": "85cd541b-922d-4d9a-839e-c978ffdd9150",
   "metadata": {
    "tags": []
   },
   "outputs": [
    {
     "data": {
      "text/plain": [
       "Text(0, 0.5, '$w_{2n*}/w_{2n+1}-1$')"
      ]
     },
     "execution_count": 148,
     "metadata": {},
     "output_type": "execute_result"
    },
    {
     "data": {
      "image/png": "[encoded data removed]",
      "text/plain": [
       "<Figure size 640x480 with 1 Axes>"
      ]
     },
     "metadata": {},
     "output_type": "display_data"
    }
   ],
   "source": [
    "plt.plot(df[aneu_unimp]['μ']/(df[aneu_unimp]['δ']*df[aneu_unimp]['N']), df[aneu_unimp]['w3']/df[aneu_unimp]['w1']-1, 'o', color='green', alpha=.01, markersize=15)\n",
    "plt.plot(df[rest]['μ']/(df[rest]['δ']*df[rest]['N']), df[rest]['w3']/df[rest]['w1']-1, 'o', color='orange', alpha=1, markersize=5)\n",
    "plt.xscale('log')\n",
    "plt.yscale('log')\n",
    "plt.xlabel('$\\delta/N\\mu$')\n",
    "plt.ylabel('$w_{2n*}/w_{2n+1}-1$')"
   ]
  },
  {
   "cell_type": "code",
   "execution_count": null,
   "id": "a2d00cb1-cd0e-4206-b94a-77afcaaea8b1",
   "metadata": {},
   "outputs": [],
   "source": []
  }
 ],
 "metadata": {
  "kernelspec": {
   "display_name": "Python 3 (ipykernel)",
   "language": "python",
   "name": "python3"
  },
  "language_info": {
   "codemirror_mode": {
    "name": "ipython",
    "version": 3
   },
   "file_extension": ".py",
   "mimetype": "text/x-python",
   "name": "python",
   "nbconvert_exporter": "python",
   "pygments_lexer": "ipython3",
   "version": "3.10.9"
  }
 },
 "nbformat": 4,
 "nbformat_minor": 5
}
